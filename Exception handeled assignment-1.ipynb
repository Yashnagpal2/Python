{
 "cells": [
  {
   "cell_type": "markdown",
   "id": "f3261e51-0347-43af-ad92-9943f5e0474e",
   "metadata": {},
   "source": [
    "1-What is an Exception in pthon? Write the difference Between Exceptions and syntax errors?"
   ]
  },
  {
   "cell_type": "markdown",
   "id": "1617fc82-87f2-42ba-bd1f-43bd854059c4",
   "metadata": {},
   "source": [
    "ANS:In Python, an exception is an event that occurs during the execution of a program that disrupts the normal flow of the program's instructions. Exceptions are used to handle various types of errors and unexpected situations that can arise during program execution.\n",
    "\n",
    "Here are the key differences between exceptions and syntax errors:\n",
    "\n",
    "Exceptions:\n",
    "\n",
    "Exceptions are runtime errors that occur when the program is executing.\n",
    "They can be caused by various factors such as invalid input, file not found, arithmetic errors (e.g., division by zero), and more.\n",
    "Exceptions are raised by the raise statement or by built-in functions and methods when they encounter an error condition.\n",
    "You can catch and handle exceptions using try and except blocks.\n",
    "Syntax Errors:\n",
    "\n",
    "Syntax errors are detected by the Python interpreter before the program is executed.\n",
    "They occur when there are mistakes in the code's structure or syntax, such as missing colons, parentheses, or incorrect indentation.\n",
    "Syntax errors prevent the program from being executed at all.\n",
    "You need to correct syntax errors in your code before you can run the program.\n",
    "In summary, exceptions are errors that occur during program execution and can be caught and handled using try and except blocks, while syntax errors are mistakes in the code's structure that prevent the program from being executed in the first place."
   ]
  },
  {
   "cell_type": "markdown",
   "id": "65f2c7db-d656-4441-946e-61a423cff4b0",
   "metadata": {},
   "source": [
    "2-What happens when an exception is not handled? Explain with an example"
   ]
  },
  {
   "cell_type": "markdown",
   "id": "40241b91-2d38-4eda-a3a0-182b71dba556",
   "metadata": {},
   "source": [
    "ANS:When an exception is not handled in a program, it leads to an abrupt termination of the program's execution. This means that the normal flow of the program is disrupted, and an error message is displayed, providing information about the unhandled exception that caused the program to crash.\n",
    "\n",
    "Here's an example to illustrate what happens when an exception is not handled:"
   ]
  },
  {
   "cell_type": "code",
   "execution_count": 4,
   "id": "541f9417-a17d-4ce8-a5da-b8b57f494726",
   "metadata": {},
   "outputs": [
    {
     "name": "stdin",
     "output_type": "stream",
     "text": [
      "Enter a number:  10\n"
     ]
    },
    {
     "name": "stdout",
     "output_type": "stream",
     "text": [
      "Result: 1.0\n"
     ]
    }
   ],
   "source": [
    "try:\n",
    "    num = int(input(\"Enter a number: \"))\n",
    "    result = 10 / num\n",
    "    print(\"Result:\", result)\n",
    "except ZeroDivisionError:\n",
    "    print(\"Error: Cannot divide by zero.\")\n"
   ]
  },
  {
   "cell_type": "markdown",
   "id": "ed2471a7-1e1c-4608-9d70-a8c4924dec2b",
   "metadata": {},
   "source": [
    "In this example, the program attempts to divide 10 by a number provided by the user. If the user enters 0 as the input, a ZeroDivisionError exception will be raised because division by zero is not allowed. The except block catches this exception and displays an error message.\n",
    "\n",
    "However, if the user enters a non-zero value, everything will work as expected and the program will print the result. But what if the user enters something that's not a valid number, like \"abc\"? In that case, a different type of exception, ValueError, will be raised, and since there's no corresponding except block to handle this exception, the program will crash with an error message like this:"
   ]
  },
  {
   "cell_type": "markdown",
   "id": "a3fdc69b-09fe-41cb-98ae-950177cdd975",
   "metadata": {},
   "source": [
    "ValueError: invalid literal for int() with base 10: 'abc'\n",
    "The program's execution stops, and the error message provides details about the exception and the location in the code where it occurred. This can be problematic in real-world applications, as it disrupts the user experience and can lead to data loss or other undesirable outcomes.\n",
    "\n",
    "To handle exceptions gracefully and avoid crashing the program, it's important to use try and except blocks to catch and handle exceptions appropriately."
   ]
  },
  {
   "cell_type": "markdown",
   "id": "e6ec5fcf-1468-4cc1-b4a1-bc54ddd7c383",
   "metadata": {},
   "source": [
    "3-Which Python statements are used to catchand handle exceptions? Explain withan example"
   ]
  },
  {
   "cell_type": "markdown",
   "id": "ee075478-aa66-4282-8a5c-a210022b8215",
   "metadata": {},
   "source": [
    "ANS:In Python, the statements used to catch and handle exceptions are try and except. These statements allow you to specify a block of code that might raise exceptions and provide a way to handle those exceptions gracefully without crashing the program.\n",
    "\n",
    "Here's how the try and except statements work, explained with an example:"
   ]
  },
  {
   "cell_type": "code",
   "execution_count": 5,
   "id": "7f73f40a-e7dc-4859-9f03-f75b93105cf7",
   "metadata": {},
   "outputs": [
    {
     "name": "stdin",
     "output_type": "stream",
     "text": [
      "Enter a number:  0\n"
     ]
    },
    {
     "name": "stdout",
     "output_type": "stream",
     "text": [
      "Error: Cannot divide by zero.\n"
     ]
    }
   ],
   "source": [
    "try:\n",
    "    num = int(input(\"Enter a number: \"))\n",
    "    result = 10 / num\n",
    "    print(\"Result:\", result)\n",
    "except ZeroDivisionError:\n",
    "    print(\"Error: Cannot divide by zero.\")\n",
    "except ValueError:\n",
    "    print(\"Error: Invalid input. Please enter a valid number.\")\n"
   ]
  },
  {
   "cell_type": "markdown",
   "id": "afebb261-8dd7-490c-89fd-199405d5dcf6",
   "metadata": {},
   "source": [
    "In this example, the try block contains the code that might raise exceptions. It first tries to convert user input to an integer and then performs a division. If any exception occurs within this block, the program will immediately jump to the appropriate except block.\n",
    "\n",
    "If the user enters 0, a ZeroDivisionError will be raised, and the program will jump to the first except block that handles this specific exception. It will print \"Error: Cannot divide by zero.\"\n",
    "\n",
    "If the user enters a non-numeric value like \"abc\", a ValueError will be raised due to the invalid conversion to an integer. The program will then jump to the second except block that handles this specific exception. It will print \"Error: Invalid input. Please enter a valid number.\"\n",
    "\n",
    "If the user enters a valid number that's not zero, the code within the try block will execute successfully, and the result will be printed.\n",
    "\n",
    "By using try and except statements, you can ensure that your program handles unexpected situations gracefully and provides appropriate error messages to the user, rather than crashing due to unhandled exceptions. It's important to consider the types of exceptions that can be raised in your code and handle them accordingly in order to build robust and user-friendly applications."
   ]
  },
  {
   "cell_type": "markdown",
   "id": "2a9dacfb-3069-4f35-b65e-5ba5ed3b7d23",
   "metadata": {},
   "source": [
    "4-Explain with an example:\n",
    "1.try and else\n",
    "2.finally\n",
    "3.raise"
   ]
  },
  {
   "cell_type": "markdown",
   "id": "07029716-74fc-475a-a9e0-371a4f4ce6fd",
   "metadata": {},
   "source": [
    "ANS:1. try, except, and else:\n",
    "The try, except, and else blocks are used together to handle exceptions and control the flow of a program. The else block is executed when no exceptions occur in the try block."
   ]
  },
  {
   "cell_type": "code",
   "execution_count": 6,
   "id": "b9663190-d47e-445e-bd1d-1b590c3a9a17",
   "metadata": {},
   "outputs": [
    {
     "name": "stdin",
     "output_type": "stream",
     "text": [
      "Enter a number:  10\n"
     ]
    },
    {
     "name": "stdout",
     "output_type": "stream",
     "text": [
      "Division result: 1.0\n"
     ]
    }
   ],
   "source": [
    "try:\n",
    "    num = int(input(\"Enter a number: \"))\n",
    "    result = 10 / num\n",
    "except ZeroDivisionError:\n",
    "    print(\"Error: Cannot divide by zero.\")\n",
    "except ValueError:\n",
    "    print(\"Error: Invalid input. Please enter a valid number.\")\n",
    "else:\n",
    "    print(\"Division result:\", result)\n"
   ]
  },
  {
   "cell_type": "markdown",
   "id": "4241b531-f6da-4517-a081-5a6c47343448",
   "metadata": {},
   "source": [
    "#finally\n",
    "The finally block is used to define a piece of code that will be executed regardless of whether an exception occurs or not. It's often used to perform cleanup operations that need to happen no matter what."
   ]
  },
  {
   "cell_type": "code",
   "execution_count": 7,
   "id": "112e97f5-df3b-413a-aae7-2ee78e060083",
   "metadata": {},
   "outputs": [
    {
     "name": "stdout",
     "output_type": "stream",
     "text": [
      "File not found.\n"
     ]
    },
    {
     "ename": "NameError",
     "evalue": "name 'file' is not defined",
     "output_type": "error",
     "traceback": [
      "\u001b[0;31m---------------------------------------------------------------------------\u001b[0m",
      "\u001b[0;31mNameError\u001b[0m                                 Traceback (most recent call last)",
      "Cell \u001b[0;32mIn[7], line 9\u001b[0m\n\u001b[1;32m      7\u001b[0m     \u001b[38;5;28mprint\u001b[39m(\u001b[38;5;124m\"\u001b[39m\u001b[38;5;124mFile content:\u001b[39m\u001b[38;5;124m\"\u001b[39m, content)\n\u001b[1;32m      8\u001b[0m \u001b[38;5;28;01mfinally\u001b[39;00m:\n\u001b[0;32m----> 9\u001b[0m     \u001b[43mfile\u001b[49m\u001b[38;5;241m.\u001b[39mclose()  \u001b[38;5;66;03m# This will be executed no matter what\u001b[39;00m\n",
      "\u001b[0;31mNameError\u001b[0m: name 'file' is not defined"
     ]
    }
   ],
   "source": [
    "try:\n",
    "    file = open(\"example.txt\", \"r\")\n",
    "    content = file.read()\n",
    "except FileNotFoundError:\n",
    "    print(\"File not found.\")\n",
    "else:\n",
    "    print(\"File content:\", content)\n",
    "finally:\n",
    "    file.close()  # This will be executed no matter what\n"
   ]
  },
  {
   "cell_type": "markdown",
   "id": "cbd65e05-0e0a-42f2-abf1-966d4eeb7cb8",
   "metadata": {},
   "source": [
    "#Raise\n",
    "The raise statement is used to explicitly raise exceptions in Python. You can use it to indicate that a specific error condition has occurred in your code."
   ]
  },
  {
   "cell_type": "code",
   "execution_count": 8,
   "id": "e7cdfb4d-fed7-4199-8fd2-57bea65eee81",
   "metadata": {},
   "outputs": [
    {
     "name": "stdin",
     "output_type": "stream",
     "text": [
      "Enter a number:  -1\n"
     ]
    },
    {
     "name": "stdout",
     "output_type": "stream",
     "text": [
      "Error: Cannot calculate square root of a negative number\n"
     ]
    }
   ],
   "source": [
    "def calculate_square_root(number):\n",
    "    if number < 0:\n",
    "        raise ValueError(\"Cannot calculate square root of a negative number\")\n",
    "    return number ** 0.5\n",
    "\n",
    "try:\n",
    "    value = float(input(\"Enter a number: \"))\n",
    "    result = calculate_square_root(value)\n",
    "    print(\"Square root:\", result)\n",
    "except ValueError as ve:\n",
    "    print(f\"Error: {ve}\")\n"
   ]
  },
  {
   "cell_type": "markdown",
   "id": "5df55612-863b-43e8-a6f2-8794fae790ba",
   "metadata": {},
   "source": [
    "5-What are Custom Exceptions in python? Why do we need Custom Exceptions? Explain with an example"
   ]
  },
  {
   "cell_type": "markdown",
   "id": "84921251-3137-4b13-b73f-aa929d16c55c",
   "metadata": {},
   "source": [
    "Ans:\n",
    "    Custom exceptions in Python are user-defined exception classes that you create to handle specific error conditions in your code. While Python provides a wide range of built-in exceptions for common error scenarios, there might be cases where you want to create your own exceptions to represent unique error situations that are specific to your application or domain.\n",
    "\n",
    "Why do we need Custom Exceptions?\n",
    "\n",
    "Clarity and Readability: Custom exceptions allow you to provide more meaningful and informative error messages to users and developers, making it easier to understand what went wrong.\n",
    "\n",
    "Modular Design: By defining your own exceptions, you can modularize your code and separate error-handling logic from the rest of your program's logic, which enhances code organization and maintainability.\n",
    "\n",
    "Domain Specificity: Your application might have specific error scenarios that aren't adequately covered by built-in exceptions. Custom exceptions help you accurately model these unique situations.\n",
    "\n",
    "Error Handling: Custom exceptions allow you to handle different error conditions with specific strategies, improving the robustness of your program.\n",
    "\n",
    "Example of Custom Exception:\n",
    "\n",
    "Let's say you're building a banking application, and you want to handle cases where an account balance goes below a certain threshold, resulting in insufficient funds. You can create a custom exception for this scenario:"
   ]
  },
  {
   "cell_type": "code",
   "execution_count": 9,
   "id": "adb77128-bcf7-4144-b618-9141eac02b28",
   "metadata": {},
   "outputs": [
    {
     "name": "stdin",
     "output_type": "stream",
     "text": [
      "Enter withdrawal amount:  500\n"
     ]
    },
    {
     "name": "stdout",
     "output_type": "stream",
     "text": [
      "Withdrawal successful. Remaining balance: 500.0\n"
     ]
    }
   ],
   "source": [
    "class InsufficientFundsError(Exception):\n",
    "    def __init__(self, balance, amount):\n",
    "        self.balance = balance\n",
    "        self.amount = amount\n",
    "        self.message = f\"Insufficient funds. Available balance: {balance}, Required: {amount}\"\n",
    "        super().__init__(self.message)\n",
    "\n",
    "class BankAccount:\n",
    "    def __init__(self, balance):\n",
    "        self.balance = balance\n",
    "\n",
    "    def withdraw(self, amount):\n",
    "        if amount > self.balance:\n",
    "            raise InsufficientFundsError(self.balance, amount)\n",
    "        self.balance -= amount\n",
    "        return self.balance\n",
    "\n",
    "try:\n",
    "    account = BankAccount(1000)\n",
    "    withdrawal_amount = float(input(\"Enter withdrawal amount: \"))\n",
    "    remaining_balance = account.withdraw(withdrawal_amount)\n",
    "    print(\"Withdrawal successful. Remaining balance:\", remaining_balance)\n",
    "except InsufficientFundsError as ife:\n",
    "    print(f\"Error: {ife}\")\n",
    "except ValueError:\n",
    "    print(\"Invalid input. Please enter a valid number.\")\n"
   ]
  },
  {
   "cell_type": "markdown",
   "id": "bf498c9e-2b18-48cf-8ee0-c576ab20079a",
   "metadata": {},
   "source": [
    "6-Create custom exaeption class. Use this class to handle an exception."
   ]
  },
  {
   "cell_type": "code",
   "execution_count": 10,
   "id": "6d5943db-f35b-475e-97c9-b798f278a5f6",
   "metadata": {},
   "outputs": [
    {
     "name": "stdin",
     "output_type": "stream",
     "text": [
      "Enter data:  error\n"
     ]
    },
    {
     "name": "stdout",
     "output_type": "stream",
     "text": [
      "Error: Custom error occurred\n"
     ]
    }
   ],
   "source": [
    "class CustomError(Exception):\n",
    "    def __init__(self, message):\n",
    "        self.message = message\n",
    "        super().__init__(self.message)\n",
    "\n",
    "def process_data(data):\n",
    "    if data == \"error\":\n",
    "        raise CustomError(\"Custom error occurred\")\n",
    "    print(\"Data processing successful:\", data)\n",
    "\n",
    "try:\n",
    "    input_data = input(\"Enter data: \")\n",
    "    process_data(input_data)\n",
    "except CustomError as ce:\n",
    "    print(f\"Error: {ce}\")\n"
   ]
  },
  {
   "cell_type": "code",
   "execution_count": null,
   "id": "71b28498-e7b8-47fc-9a2f-93ea2ece9ab6",
   "metadata": {},
   "outputs": [],
   "source": []
  }
 ],
 "metadata": {
  "kernelspec": {
   "display_name": "Python 3 (ipykernel)",
   "language": "python",
   "name": "python3"
  },
  "language_info": {
   "codemirror_mode": {
    "name": "ipython",
    "version": 3
   },
   "file_extension": ".py",
   "mimetype": "text/x-python",
   "name": "python",
   "nbconvert_exporter": "python",
   "pygments_lexer": "ipython3",
   "version": "3.10.8"
  }
 },
 "nbformat": 4,
 "nbformat_minor": 5
}
