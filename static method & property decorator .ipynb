{
 "cells": [
  {
   "cell_type": "code",
   "execution_count": 2,
   "id": "cff1052a-118d-4fb1-af9e-1dc7fcf48ad4",
   "metadata": {},
   "outputs": [],
   "source": [
    "class pwskills:\n",
    "    \n",
    "    def student_details(self , name , mail_id , number):\n",
    "        print(name,mail_id,number)\n",
    "        "
   ]
  },
  {
   "cell_type": "code",
   "execution_count": 3,
   "id": "206ae596-4383-43e8-99ed-f2a52125aa48",
   "metadata": {},
   "outputs": [],
   "source": [
    "pw = pwskills()"
   ]
  },
  {
   "cell_type": "code",
   "execution_count": 4,
   "id": "f2d83c4f-1240-48fb-90ee-5b533432ee0b",
   "metadata": {},
   "outputs": [
    {
     "name": "stdout",
     "output_type": "stream",
     "text": [
      "yash ynagpal8@gmail.com 7098253\n"
     ]
    }
   ],
   "source": [
    "pw.student_details('yash','ynagpal8@gmail.com',7098253)"
   ]
  },
  {
   "cell_type": "code",
   "execution_count": 7,
   "id": "8b1007d5-04b6-44fd-a0f9-2697300c1d31",
   "metadata": {},
   "outputs": [],
   "source": [
    "class pwskills1:\n",
    "    \n",
    "    def student_details(self , name , mail_id , number):\n",
    "        print(name,mail_id,number)\n",
    "    @staticmethod\n",
    "    def mentor_class(list_mentor):\n",
    "        print(list_mentor)\n",
    "        \n",
    "    def mentor(self , mentor_list):\n",
    "        print(mentor_list)\n",
    "        "
   ]
  },
  {
   "cell_type": "code",
   "execution_count": 8,
   "id": "197f5d66-e528-4b58-9283-263e50c3832a",
   "metadata": {},
   "outputs": [
    {
     "name": "stdout",
     "output_type": "stream",
     "text": [
      "['yash', 'krish']\n"
     ]
    }
   ],
   "source": [
    "pwskills1.mentor_class(['yash','krish'])"
   ]
  },
  {
   "cell_type": "code",
   "execution_count": 25,
   "id": "ef35194f-5fcb-4500-b25f-2cf1ff88004e",
   "metadata": {},
   "outputs": [],
   "source": [
    "class pwskills2:\n",
    "    \n",
    "    def student_details(self , name , mail_id , number):\n",
    "        print(name,mail_id,number)\n",
    "    \n",
    "    @staticmethod\n",
    "    def mentor_mail_id(mail_id_mentor):\n",
    "        print(mail_id_mentor)\n",
    "\n",
    "    @staticmethod\n",
    "    def mentor_class(list_mentor):\n",
    "        pwskills2.mentor_mail_id(['ynagpal8@gmail.com','kush@gmail.com'])\n",
    "        print(list_mentor)\n",
    "        \n",
    "       \n",
    "    \n",
    "    @classmethod\n",
    "    def class_method(cls):\n",
    "        cls.mentor_class(['yash','kush'])\n",
    "        \n",
    "        \n",
    "    def mentor(self , mentor_list):\n",
    "        print(mentor_list)\n",
    "        self.mentor_class(['yash','sudh'])\n",
    "    \n",
    "        "
   ]
  },
  {
   "cell_type": "code",
   "execution_count": 26,
   "id": "0fcc3acb-8113-4281-9eb0-5abdcc69d619",
   "metadata": {},
   "outputs": [
    {
     "name": "stdout",
     "output_type": "stream",
     "text": [
      "['ynagpal8@gmail.com', 'kush@gmail.com']\n",
      "['yash', 'kush']\n"
     ]
    }
   ],
   "source": [
    "pwskills2.mentor_class(['yash','kush'])"
   ]
  },
  {
   "cell_type": "code",
   "execution_count": 28,
   "id": "adea2efb-8128-4a42-9164-b26545462097",
   "metadata": {},
   "outputs": [],
   "source": [
    "pw=pwskills2()"
   ]
  },
  {
   "cell_type": "code",
   "execution_count": 29,
   "id": "6ff1cba3-f96f-4aa0-90bd-6747add4276e",
   "metadata": {},
   "outputs": [
    {
     "name": "stdout",
     "output_type": "stream",
     "text": [
      "['yash', 'kush']\n",
      "['ynagpal8@gmail.com', 'kush@gmail.com']\n",
      "['yash', 'sudh']\n"
     ]
    }
   ],
   "source": [
    "pw.mentor(['yash','kush'])"
   ]
  },
  {
   "cell_type": "code",
   "execution_count": 30,
   "id": "d9a3d523-58ab-4c41-b981-5df3c22614ac",
   "metadata": {},
   "outputs": [],
   "source": [
    "#special magic dunder method"
   ]
  },
  {
   "cell_type": "code",
   "execution_count": 31,
   "id": "f207b2cf-678d-461d-8ff3-7ce750369530",
   "metadata": {},
   "outputs": [
    {
     "data": {
      "text/plain": [
       "['__abs__',\n",
       " '__add__',\n",
       " '__and__',\n",
       " '__bool__',\n",
       " '__ceil__',\n",
       " '__class__',\n",
       " '__delattr__',\n",
       " '__dir__',\n",
       " '__divmod__',\n",
       " '__doc__',\n",
       " '__eq__',\n",
       " '__float__',\n",
       " '__floor__',\n",
       " '__floordiv__',\n",
       " '__format__',\n",
       " '__ge__',\n",
       " '__getattribute__',\n",
       " '__getnewargs__',\n",
       " '__gt__',\n",
       " '__hash__',\n",
       " '__index__',\n",
       " '__init__',\n",
       " '__init_subclass__',\n",
       " '__int__',\n",
       " '__invert__',\n",
       " '__le__',\n",
       " '__lshift__',\n",
       " '__lt__',\n",
       " '__mod__',\n",
       " '__mul__',\n",
       " '__ne__',\n",
       " '__neg__',\n",
       " '__new__',\n",
       " '__or__',\n",
       " '__pos__',\n",
       " '__pow__',\n",
       " '__radd__',\n",
       " '__rand__',\n",
       " '__rdivmod__',\n",
       " '__reduce__',\n",
       " '__reduce_ex__',\n",
       " '__repr__',\n",
       " '__rfloordiv__',\n",
       " '__rlshift__',\n",
       " '__rmod__',\n",
       " '__rmul__',\n",
       " '__ror__',\n",
       " '__round__',\n",
       " '__rpow__',\n",
       " '__rrshift__',\n",
       " '__rshift__',\n",
       " '__rsub__',\n",
       " '__rtruediv__',\n",
       " '__rxor__',\n",
       " '__setattr__',\n",
       " '__sizeof__',\n",
       " '__str__',\n",
       " '__sub__',\n",
       " '__subclasshook__',\n",
       " '__truediv__',\n",
       " '__trunc__',\n",
       " '__xor__',\n",
       " 'as_integer_ratio',\n",
       " 'bit_count',\n",
       " 'bit_length',\n",
       " 'conjugate',\n",
       " 'denominator',\n",
       " 'from_bytes',\n",
       " 'imag',\n",
       " 'numerator',\n",
       " 'real',\n",
       " 'to_bytes']"
      ]
     },
     "execution_count": 31,
     "metadata": {},
     "output_type": "execute_result"
    }
   ],
   "source": [
    "dir(int)"
   ]
  },
  {
   "cell_type": "code",
   "execution_count": 32,
   "id": "172ce1ee-b2ca-44fd-a953-d89b5138066b",
   "metadata": {},
   "outputs": [
    {
     "data": {
      "text/plain": [
       "['__add__',\n",
       " '__class__',\n",
       " '__contains__',\n",
       " '__delattr__',\n",
       " '__dir__',\n",
       " '__doc__',\n",
       " '__eq__',\n",
       " '__format__',\n",
       " '__ge__',\n",
       " '__getattribute__',\n",
       " '__getitem__',\n",
       " '__getnewargs__',\n",
       " '__gt__',\n",
       " '__hash__',\n",
       " '__init__',\n",
       " '__init_subclass__',\n",
       " '__iter__',\n",
       " '__le__',\n",
       " '__len__',\n",
       " '__lt__',\n",
       " '__mod__',\n",
       " '__mul__',\n",
       " '__ne__',\n",
       " '__new__',\n",
       " '__reduce__',\n",
       " '__reduce_ex__',\n",
       " '__repr__',\n",
       " '__rmod__',\n",
       " '__rmul__',\n",
       " '__setattr__',\n",
       " '__sizeof__',\n",
       " '__str__',\n",
       " '__subclasshook__',\n",
       " 'capitalize',\n",
       " 'casefold',\n",
       " 'center',\n",
       " 'count',\n",
       " 'encode',\n",
       " 'endswith',\n",
       " 'expandtabs',\n",
       " 'find',\n",
       " 'format',\n",
       " 'format_map',\n",
       " 'index',\n",
       " 'isalnum',\n",
       " 'isalpha',\n",
       " 'isascii',\n",
       " 'isdecimal',\n",
       " 'isdigit',\n",
       " 'isidentifier',\n",
       " 'islower',\n",
       " 'isnumeric',\n",
       " 'isprintable',\n",
       " 'isspace',\n",
       " 'istitle',\n",
       " 'isupper',\n",
       " 'join',\n",
       " 'ljust',\n",
       " 'lower',\n",
       " 'lstrip',\n",
       " 'maketrans',\n",
       " 'partition',\n",
       " 'removeprefix',\n",
       " 'removesuffix',\n",
       " 'replace',\n",
       " 'rfind',\n",
       " 'rindex',\n",
       " 'rjust',\n",
       " 'rpartition',\n",
       " 'rsplit',\n",
       " 'rstrip',\n",
       " 'split',\n",
       " 'splitlines',\n",
       " 'startswith',\n",
       " 'strip',\n",
       " 'swapcase',\n",
       " 'title',\n",
       " 'translate',\n",
       " 'upper',\n",
       " 'zfill']"
      ]
     },
     "execution_count": 32,
     "metadata": {},
     "output_type": "execute_result"
    }
   ],
   "source": [
    "dir(str)"
   ]
  },
  {
   "cell_type": "code",
   "execution_count": 33,
   "id": "d3574a7a-e861-425b-8cd2-f4b8e2987f07",
   "metadata": {},
   "outputs": [
    {
     "data": {
      "text/plain": [
       "105"
      ]
     },
     "execution_count": 33,
     "metadata": {},
     "output_type": "execute_result"
    }
   ],
   "source": [
    "a=100\n",
    "a+5"
   ]
  },
  {
   "cell_type": "code",
   "execution_count": 35,
   "id": "beabacd3-1d56-4071-be2b-b2f165a4fe46",
   "metadata": {},
   "outputs": [
    {
     "data": {
      "text/plain": [
       "105"
      ]
     },
     "execution_count": 35,
     "metadata": {},
     "output_type": "execute_result"
    }
   ],
   "source": [
    "a.__add__(5)"
   ]
  },
  {
   "cell_type": "code",
   "execution_count": 36,
   "id": "7ff21329-6156-4042-8aeb-ae3907aa9684",
   "metadata": {},
   "outputs": [
    {
     "data": {
      "text/plain": [
       "95"
      ]
     },
     "execution_count": 36,
     "metadata": {},
     "output_type": "execute_result"
    }
   ],
   "source": [
    "a.__sub__(5)"
   ]
  },
  {
   "cell_type": "code",
   "execution_count": 40,
   "id": "56f57e45-1666-4c2d-ab92-96c409547845",
   "metadata": {},
   "outputs": [],
   "source": [
    "class pwskills:\n",
    "    \n",
    "    def __new__(cls):\n",
    "        print('thisn is my new')\n",
    "        \n",
    "    def __init__(self):\n",
    "        self.number = 49328402"
   ]
  },
  {
   "cell_type": "code",
   "execution_count": 41,
   "id": "94ee4a2d-ec7b-42bd-a9f0-004037911625",
   "metadata": {},
   "outputs": [
    {
     "name": "stdout",
     "output_type": "stream",
     "text": [
      "thisn is my new\n"
     ]
    }
   ],
   "source": [
    "pw=pwskills()\n"
   ]
  },
  {
   "cell_type": "code",
   "execution_count": 49,
   "id": "b113b868-9f01-4ebf-af80-29f170115943",
   "metadata": {},
   "outputs": [],
   "source": [
    "class pwskills1:\n",
    "    \n",
    "    \n",
    "        \n",
    "    def __init__(self):\n",
    "        self.number = 49328402\n",
    "        \n",
    "    def __str__(self):\n",
    "        return'this is my magic call'"
   ]
  },
  {
   "cell_type": "code",
   "execution_count": 50,
   "id": "ab796fd3-d634-44ab-9171-6fae662c632b",
   "metadata": {},
   "outputs": [],
   "source": [
    "pw1=pwskills1()"
   ]
  },
  {
   "cell_type": "code",
   "execution_count": 51,
   "id": "5c73c17d-7322-4b1e-ac18-04cd4d9b6712",
   "metadata": {},
   "outputs": [
    {
     "data": {
      "text/plain": [
       "<__main__.pwskills1 at 0x7fdfc628f100>"
      ]
     },
     "execution_count": 51,
     "metadata": {},
     "output_type": "execute_result"
    }
   ],
   "source": [
    "pw1"
   ]
  },
  {
   "cell_type": "code",
   "execution_count": 52,
   "id": "d7c75e61-1f91-4a7d-9482-6c7bb2d7c8aa",
   "metadata": {},
   "outputs": [
    {
     "name": "stdout",
     "output_type": "stream",
     "text": [
      "this is my magic call\n"
     ]
    }
   ],
   "source": [
    "print(pw1)"
   ]
  },
  {
   "cell_type": "code",
   "execution_count": 53,
   "id": "55307029-dc2a-4cc0-89da-fda9222402e7",
   "metadata": {},
   "outputs": [
    {
     "data": {
      "text/plain": [
       "['__class__',\n",
       " '__class_getitem__',\n",
       " '__contains__',\n",
       " '__delattr__',\n",
       " '__delitem__',\n",
       " '__dir__',\n",
       " '__doc__',\n",
       " '__eq__',\n",
       " '__format__',\n",
       " '__ge__',\n",
       " '__getattribute__',\n",
       " '__getitem__',\n",
       " '__gt__',\n",
       " '__hash__',\n",
       " '__init__',\n",
       " '__init_subclass__',\n",
       " '__ior__',\n",
       " '__iter__',\n",
       " '__le__',\n",
       " '__len__',\n",
       " '__lt__',\n",
       " '__ne__',\n",
       " '__new__',\n",
       " '__or__',\n",
       " '__reduce__',\n",
       " '__reduce_ex__',\n",
       " '__repr__',\n",
       " '__reversed__',\n",
       " '__ror__',\n",
       " '__setattr__',\n",
       " '__setitem__',\n",
       " '__sizeof__',\n",
       " '__str__',\n",
       " '__subclasshook__',\n",
       " 'clear',\n",
       " 'copy',\n",
       " 'fromkeys',\n",
       " 'get',\n",
       " 'items',\n",
       " 'keys',\n",
       " 'pop',\n",
       " 'popitem',\n",
       " 'setdefault',\n",
       " 'update',\n",
       " 'values']"
      ]
     },
     "execution_count": 53,
     "metadata": {},
     "output_type": "execute_result"
    }
   ],
   "source": [
    "dir(dict)"
   ]
  },
  {
   "cell_type": "code",
   "execution_count": 54,
   "id": "fda48545-8b19-44cb-8c4c-23382e837799",
   "metadata": {},
   "outputs": [],
   "source": [
    "#Property Decorator"
   ]
  },
  {
   "cell_type": "code",
   "execution_count": 88,
   "id": "17d718ae-00d9-46b8-9949-2d4e23fe7719",
   "metadata": {},
   "outputs": [],
   "source": [
    "class pwskills:\n",
    "    def __init__(self , course_price , course_name):\n",
    "        \n",
    "        self.__course_price = course_price\n",
    "        self.course_name = course_name\n",
    "        \n",
    "    @property\n",
    "    def course_price_acess(self):\n",
    "        return self.__course_price\n",
    "    \n",
    "    @course_price_acess.setter\n",
    "    def course_price_set(self,price):\n",
    "        if price <= 3500:\n",
    "            pass\n",
    "        else:\n",
    "            self.__course_price = price\n",
    "            \n",
    "    @course_price_acess.deleter\n",
    "    def delete_course_price(self):\n",
    "        del self.__course_price"
   ]
  },
  {
   "cell_type": "code",
   "execution_count": 89,
   "id": "9f6ba1ad-10d1-4227-8db2-c570b3fdae05",
   "metadata": {},
   "outputs": [],
   "source": [
    "pw = pwskills(3500,'data science')"
   ]
  },
  {
   "cell_type": "code",
   "execution_count": 90,
   "id": "c0079aaf-5738-47a0-aa9b-067971d7a03b",
   "metadata": {},
   "outputs": [
    {
     "data": {
      "text/plain": [
       "3500"
      ]
     },
     "execution_count": 90,
     "metadata": {},
     "output_type": "execute_result"
    }
   ],
   "source": [
    "pw.course_price_acess"
   ]
  },
  {
   "cell_type": "code",
   "execution_count": 91,
   "id": "45f0f5ac-5169-4b20-b09f-1c98df5f4844",
   "metadata": {},
   "outputs": [],
   "source": [
    "del pw.delete_course_price"
   ]
  },
  {
   "cell_type": "code",
   "execution_count": 92,
   "id": "1dcaee47-f41e-4ea0-9dab-f1a4129bc552",
   "metadata": {},
   "outputs": [
    {
     "ename": "AttributeError",
     "evalue": "'pwskills' object has no attribute '_pwskills__course_price'",
     "output_type": "error",
     "traceback": [
      "\u001b[0;31m---------------------------------------------------------------------------\u001b[0m",
      "\u001b[0;31mAttributeError\u001b[0m                            Traceback (most recent call last)",
      "Cell \u001b[0;32mIn[92], line 1\u001b[0m\n\u001b[0;32m----> 1\u001b[0m \u001b[43mpw\u001b[49m\u001b[38;5;241;43m.\u001b[39;49m\u001b[43mcourse_price_acess\u001b[49m\n",
      "Cell \u001b[0;32mIn[88], line 9\u001b[0m, in \u001b[0;36mpwskills.course_price_acess\u001b[0;34m(self)\u001b[0m\n\u001b[1;32m      7\u001b[0m \u001b[38;5;129m@property\u001b[39m\n\u001b[1;32m      8\u001b[0m \u001b[38;5;28;01mdef\u001b[39;00m \u001b[38;5;21mcourse_price_acess\u001b[39m(\u001b[38;5;28mself\u001b[39m):\n\u001b[0;32m----> 9\u001b[0m     \u001b[38;5;28;01mreturn\u001b[39;00m \u001b[38;5;28;43mself\u001b[39;49m\u001b[38;5;241;43m.\u001b[39;49m\u001b[43m__course_price\u001b[49m\n",
      "\u001b[0;31mAttributeError\u001b[0m: 'pwskills' object has no attribute '_pwskills__course_price'"
     ]
    }
   ],
   "source": [
    "pw.course_price_acess"
   ]
  },
  {
   "cell_type": "code",
   "execution_count": null,
   "id": "a1114fcd-8996-40d6-ba28-bb6fde72df80",
   "metadata": {},
   "outputs": [],
   "source": []
  },
  {
   "cell_type": "code",
   "execution_count": null,
   "id": "fde5e273-82ab-4d6a-837c-7fef5dba70f7",
   "metadata": {},
   "outputs": [],
   "source": []
  }
 ],
 "metadata": {
  "kernelspec": {
   "display_name": "Python 3 (ipykernel)",
   "language": "python",
   "name": "python3"
  },
  "language_info": {
   "codemirror_mode": {
    "name": "ipython",
    "version": 3
   },
   "file_extension": ".py",
   "mimetype": "text/x-python",
   "name": "python",
   "nbconvert_exporter": "python",
   "pygments_lexer": "ipython3",
   "version": "3.10.8"
  }
 },
 "nbformat": 4,
 "nbformat_minor": 5
}
