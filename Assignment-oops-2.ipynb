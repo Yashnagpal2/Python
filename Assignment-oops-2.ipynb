{
 "cells": [
  {
   "cell_type": "markdown",
   "id": "52de6836-4997-40ef-8b73-5ce950547d44",
   "metadata": {},
   "source": [
    "Ques-1 -What is Abstraction in OOps? Explain with an example."
   ]
  },
  {
   "cell_type": "markdown",
   "id": "f718a799-4f7a-46e5-8d6f-9ec094abab94",
   "metadata": {},
   "source": [
    "Answer - Abstraction is a fundamental concept in object-oriented programming (OOPs) that refers to the ability to focus on essential features of an object and hide its complexities from the outside world. It enables programmers to create complex systems by breaking them down into smaller, more manageable components.\n",
    "\n",
    "Abstraction is achieved through the use of abstract classes and interfaces. An abstract class is a class that cannot be instantiated and is designed to be inherited by other classes. It contains one or more abstract methods, which are declared but not implemented in the abstract class. The subclasses that inherit from the abstract class must implement these abstract methods, providing their own unique implementation."
   ]
  },
  {
   "cell_type": "code",
   "execution_count": 43,
   "id": "3d3e8467-2d59-4d7e-bc13-7f464dca7359",
   "metadata": {},
   "outputs": [],
   "source": [
    "import abc\n",
    "class students:\n",
    "    \n",
    "    @abc.abstractclassmethod\n",
    "    def student_name():\n",
    "        return 'it shows the name of the student'\n",
    "    \n",
    "    @abc.abstractclassmethod\n",
    "    def student_marks():\n",
    "        return 'it display the student marks'\n",
    "    \n",
    "    @abc.abstractclassmethod\n",
    "    def student_grade():\n",
    "        return 'it display the student grade'\n",
    "    \n",
    "     "
   ]
  },
  {
   "cell_type": "code",
   "execution_count": 47,
   "id": "c3bd87d5-eb6e-4fe3-a1d5-dd39091c813e",
   "metadata": {},
   "outputs": [],
   "source": [
    "class student_details(students):\n",
    "    \n",
    "    def student_name(self):\n",
    "        return 'Aman'\n",
    "    \n",
    "    def student_marks(self):\n",
    "        return '30'\n",
    "    \n",
    "    def student_grade(self):\n",
    "        return 'B'"
   ]
  },
  {
   "cell_type": "code",
   "execution_count": 48,
   "id": "b072e958-c44f-4665-a252-8dd7de50e798",
   "metadata": {},
   "outputs": [],
   "source": [
    "class Student_information(students):\n",
    "    \n",
    "    def student_name(self):\n",
    "        return 'Simar'\n",
    "    \n",
    "    def student_marks(self):\n",
    "        return '40'\n",
    "    \n",
    "    def student_grade(self):\n",
    "        return 'A'"
   ]
  },
  {
   "cell_type": "code",
   "execution_count": 49,
   "id": "ee404803-c9f6-4297-b7a2-76b85edc909d",
   "metadata": {},
   "outputs": [
    {
     "data": {
      "text/plain": [
       "'Simar'"
      ]
     },
     "execution_count": 49,
     "metadata": {},
     "output_type": "execute_result"
    }
   ],
   "source": [
    "a=Student_information()\n",
    "a.student_name()"
   ]
  },
  {
   "cell_type": "code",
   "execution_count": 50,
   "id": "de9cc6d8-0419-4e78-9392-2f2cf36d49a8",
   "metadata": {},
   "outputs": [
    {
     "data": {
      "text/plain": [
       "'Aman'"
      ]
     },
     "execution_count": 50,
     "metadata": {},
     "output_type": "execute_result"
    }
   ],
   "source": [
    "b=student_details()\n",
    "b.student_name()"
   ]
  },
  {
   "cell_type": "markdown",
   "id": "c4998a6b-0233-4863-a853-6ebc633703f6",
   "metadata": {},
   "source": [
    "Ques-2 -Differentiate between Abstraction and Encapsulation. Explain with an example."
   ]
  },
  {
   "cell_type": "markdown",
   "id": "523eec8b-7dfe-44e6-a41a-b101658df127",
   "metadata": {},
   "source": [
    "Answers - Abstraction and encapsulation are two important concepts in object-oriented programming that are used to create modular, maintainable, and reusable code. In Python, these concepts can be implemented using classes and their properties and methods.\n",
    "\n",
    "Abstraction refers to the process of hiding the implementation details of an object and exposing only the essential features to the outside world. This can be achieved using abstract classes and interfaces. Abstract classes define the common properties and methods of a group of related classes, while leaving the implementation details to the individual classes that inherit from the abstract class. Interfaces define a set of method signatures that classes must implement."
   ]
  },
  {
   "cell_type": "code",
   "execution_count": 51,
   "id": "dac1087d-a081-4990-a84f-1234a6d21c71",
   "metadata": {},
   "outputs": [],
   "source": [
    "import abc\n",
    "class students:\n",
    "    \n",
    "    @abc.abstractclassmethod\n",
    "    def student_name():\n",
    "        return 'it shows the name of the student'\n",
    "    \n",
    "    @abc.abstractclassmethod\n",
    "    def student_marks():\n",
    "        return 'it display the student marks'\n",
    "    \n",
    "    @abc.abstractclassmethod\n",
    "    def student_grade():\n",
    "        return 'it display the student grade'\n",
    "    \n",
    "     "
   ]
  },
  {
   "cell_type": "code",
   "execution_count": 52,
   "id": "63a46abd-92b0-4dda-8a81-71011cad8b96",
   "metadata": {},
   "outputs": [],
   "source": [
    "class student_details(students):\n",
    "    \n",
    "    def student_name(self):\n",
    "        return 'Aman'\n",
    "    \n",
    "    def student_marks(self):\n",
    "        return '30'\n",
    "    \n",
    "    def student_grade(self):\n",
    "        return 'B'"
   ]
  },
  {
   "cell_type": "code",
   "execution_count": 53,
   "id": "c2c17e56-5b73-4fc2-8f25-2c3c20e36d6b",
   "metadata": {},
   "outputs": [],
   "source": [
    "class Student_information(students):\n",
    "    \n",
    "    def student_name(self):\n",
    "        return 'Simar'\n",
    "    \n",
    "    def student_marks(self):\n",
    "        return '40'\n",
    "    \n",
    "    def student_grade(self):\n",
    "        return 'A'"
   ]
  },
  {
   "cell_type": "code",
   "execution_count": 54,
   "id": "393e8eae-84cd-423d-bb67-0508681a80af",
   "metadata": {},
   "outputs": [
    {
     "data": {
      "text/plain": [
       "'Simar'"
      ]
     },
     "execution_count": 54,
     "metadata": {},
     "output_type": "execute_result"
    }
   ],
   "source": [
    "a=Student_information()\n",
    "a.student_name()"
   ]
  },
  {
   "cell_type": "code",
   "execution_count": 55,
   "id": "126b15fd-0d19-4b35-88d0-1b8111c967fb",
   "metadata": {},
   "outputs": [
    {
     "data": {
      "text/plain": [
       "'Aman'"
      ]
     },
     "execution_count": 55,
     "metadata": {},
     "output_type": "execute_result"
    }
   ],
   "source": [
    "b=student_details()\n",
    "b.student_name()"
   ]
  },
  {
   "cell_type": "markdown",
   "id": "5ea481a9-b629-4c7d-b1bc-6015cab6e5e6",
   "metadata": {},
   "source": [
    "Encapsulation, on the other hand, refers to the process of hiding the implementation details of an object and exposing only the necessary methods and properties to the outside world. This can be achieved using access modifiers such as public, private, and protected."
   ]
  },
  {
   "cell_type": "code",
   "execution_count": 56,
   "id": "d00034f9-bb50-4cfe-be6f-b9401bffbc1d",
   "metadata": {},
   "outputs": [],
   "source": [
    "class students():\n",
    "    \n",
    "    def __init__(self,name):\n",
    "        self.__name = name\n",
    "    \n",
    "    def grade(self,number):\n",
    "        self.__number = number\n",
    "        \n",
    "    def result(self,number):\n",
    "        if self.__number >= 60:\n",
    "            return self.__name\n",
    "        \n",
    "        else:\n",
    "            return \"sorry you are not eligible\"\n",
    "        "
   ]
  },
  {
   "cell_type": "code",
   "execution_count": 57,
   "id": "225ba0fd-d84c-4e4e-bea0-a9979265b024",
   "metadata": {},
   "outputs": [],
   "source": [
    "a=students('yash')"
   ]
  },
  {
   "cell_type": "code",
   "execution_count": 58,
   "id": "7b7756db-396a-4947-8ae8-57a1284d46b3",
   "metadata": {},
   "outputs": [],
   "source": [
    "a.grade(70)"
   ]
  },
  {
   "cell_type": "code",
   "execution_count": 59,
   "id": "c26af2fb-7dcf-45c3-9db5-37b2c5bb5490",
   "metadata": {},
   "outputs": [
    {
     "data": {
      "text/plain": [
       "'yash'"
      ]
     },
     "execution_count": 59,
     "metadata": {},
     "output_type": "execute_result"
    }
   ],
   "source": [
    "a.result(70)"
   ]
  },
  {
   "cell_type": "code",
   "execution_count": 60,
   "id": "22e68442-3acd-4766-ab22-c20c79f8145c",
   "metadata": {},
   "outputs": [],
   "source": [
    "b=students('Aman')"
   ]
  },
  {
   "cell_type": "code",
   "execution_count": 61,
   "id": "5c58e364-b1e7-4347-bbd5-7a3e1c9e0aeb",
   "metadata": {},
   "outputs": [],
   "source": [
    "b.grade(20)"
   ]
  },
  {
   "cell_type": "code",
   "execution_count": 62,
   "id": "680f48d9-2342-4b09-a70a-68b74d647814",
   "metadata": {},
   "outputs": [
    {
     "data": {
      "text/plain": [
       "'sorry you are not eligible'"
      ]
     },
     "execution_count": 62,
     "metadata": {},
     "output_type": "execute_result"
    }
   ],
   "source": [
    "b.result(20)"
   ]
  },
  {
   "cell_type": "markdown",
   "id": "b0c3ab4c-3970-4761-8606-e5ee61f8f5aa",
   "metadata": {},
   "source": [
    "Ques-3 - What is abc module in python? Why is it used?"
   ]
  },
  {
   "cell_type": "markdown",
   "id": "32ab999d-7b51-43cd-a3a6-23deace8cb7b",
   "metadata": {},
   "source": [
    "Answers - The abc module in Python stands for \"Abstract Base Classes\". It provides a way to define abstract classes in Python. Abstract classes are classes that are not meant to be instantiated directly, but rather serve as a template for other classes to inherit from.\n",
    "\n",
    "The abc module provides the ABC class, which is the base class for defining abstract classes. Abstract classes can define abstract methods, which are methods that are meant to be overridden by subclasses. If a subclass does not override an abstract method, then an error will be raised at runtime.\n",
    "\n",
    "The abc module is used to enforce a certain structure or interface for classes that are meant to share a common behavior or implementation. By defining abstract classes and abstract methods, developers can ensure that all subclasses implement the required methods and have the same behavior.\n"
   ]
  },
  {
   "cell_type": "code",
   "execution_count": 63,
   "id": "392e4f61-47bc-42e3-892f-bb9ae041008b",
   "metadata": {},
   "outputs": [],
   "source": [
    "#Example\n",
    "import abc\n",
    "class students:\n",
    "    \n",
    "    @abc.abstractclassmethod\n",
    "    def student_name():\n",
    "        return 'it shows the name of the student'\n",
    "    \n",
    "    @abc.abstractclassmethod\n",
    "    def student_marks():\n",
    "        return 'it display the student marks'\n",
    "    \n",
    "    @abc.abstractclassmethod\n",
    "    def student_grade():\n",
    "        return 'it display the student grade'\n",
    "    \n",
    "     "
   ]
  },
  {
   "cell_type": "code",
   "execution_count": 64,
   "id": "f2b6e372-e7f2-4f76-ac2a-5fd93cbd2063",
   "metadata": {},
   "outputs": [],
   "source": [
    "class student_details(students):\n",
    "    \n",
    "    def student_name(self):\n",
    "        return 'Aman'\n",
    "    \n",
    "    def student_marks(self):\n",
    "        return '30'\n",
    "    \n",
    "    def student_grade(self):\n",
    "        return 'B'"
   ]
  },
  {
   "cell_type": "code",
   "execution_count": 65,
   "id": "d840e7dd-15cf-49b6-8f83-327b10e9a176",
   "metadata": {},
   "outputs": [],
   "source": [
    "class Student_information(students):\n",
    "    \n",
    "    def student_name(self):\n",
    "        return 'Simar'\n",
    "    \n",
    "    def student_marks(self):\n",
    "        return '40'\n",
    "    \n",
    "    def student_grade(self):\n",
    "        return 'A'"
   ]
  },
  {
   "cell_type": "code",
   "execution_count": 66,
   "id": "2e43ff9e-dd34-4508-8902-c8dc152a5c45",
   "metadata": {},
   "outputs": [
    {
     "data": {
      "text/plain": [
       "'Simar'"
      ]
     },
     "execution_count": 66,
     "metadata": {},
     "output_type": "execute_result"
    }
   ],
   "source": [
    "a=Student_information()\n",
    "a.student_name()"
   ]
  },
  {
   "cell_type": "code",
   "execution_count": 67,
   "id": "b6f79616-9217-4864-b942-1b2c70536ea0",
   "metadata": {},
   "outputs": [
    {
     "data": {
      "text/plain": [
       "'Aman'"
      ]
     },
     "execution_count": 67,
     "metadata": {},
     "output_type": "execute_result"
    }
   ],
   "source": [
    "b=student_details()\n",
    "b.student_name()"
   ]
  },
  {
   "cell_type": "markdown",
   "id": "bce8310c-b4de-409c-9b9d-8592d7cee07e",
   "metadata": {},
   "source": [
    "Ques-4 - How can we achieve data abstraction?"
   ]
  },
  {
   "cell_type": "markdown",
   "id": "56ff90c1-7542-4c7a-a30d-5664cef459e3",
   "metadata": {},
   "source": [
    "Answers - Data abstraction is a technique in which we hide the complexity of the underlying data and present only the essential features to the user. This is achieved by defining abstract data types that encapsulate the data and the operations that can be performed on it.\n",
    "\n",
    "Here are some ways to achieve data abstraction:\n",
    "\n",
    "Encapsulation: Encapsulation is the process of hiding the implementation details of data and operations in a class or module. This allows the user to interact with the data only through a set of predefined methods, which provides a high degree of abstraction.\n",
    "\n",
    "Information Hiding: Information hiding is a technique used to prevent the user from accessing the internal representation of the data. This can be achieved by using access modifiers in object-oriented programming languages, such as private and protected, to restrict access to the data.\n",
    "\n",
    "Abstract Data Types (ADTs): ADTs are high-level data structures that define the data and the operations that can be performed on it. This provides a level of abstraction that hides the implementation details of the data structure, making it easier to use.\n",
    "\n",
    "Polymorphism: Polymorphism allows objects of different classes to be treated as if they are of the same class. This enables the user to work with a collection of objects in a generic way, without having to know the specific implementation details of each object.\n",
    "\n",
    "Overall, achieving data abstraction involves designing the data structure and the interface to provide a simplified view of the data to the user, while hiding the underlying complexity. This can be achieved through various techniques such as encapsulation, information hiding, ADTs, and polymorphism."
   ]
  },
  {
   "cell_type": "markdown",
   "id": "bc57a532-f667-49b4-9c38-b2fccb1e95e5",
   "metadata": {},
   "source": [
    "Ques-5 - Can we create an instance of an abstract class? Explain your answer."
   ]
  },
  {
   "cell_type": "markdown",
   "id": "6019d1de-c8b7-43b5-b393-f03008144539",
   "metadata": {},
   "source": [
    "Answer - No, we cannot create an instance of an abstract class in Python. An abstract class is a class that is meant to be subclassed and it cannot be instantiated on its own.\n",
    "\n",
    "In Python, we can create an abstract class using the abc module. We use the abstractmethod decorator to mark a method as abstract, and the ABC class as a base class for the abstract class. Here's an example:"
   ]
  },
  {
   "cell_type": "code",
   "execution_count": 68,
   "id": "6e720465-e937-42cd-8325-a5259050926f",
   "metadata": {},
   "outputs": [],
   "source": [
    "from abc import ABC, abstractmethod\n",
    "\n",
    "class MyAbstractClass(ABC):\n",
    "    @abstractmethod\n",
    "    def my_abstract_method(self):\n",
    "        pass\n"
   ]
  },
  {
   "cell_type": "code",
   "execution_count": 69,
   "id": "64cb20c7-529e-4bfe-b6d7-737495ad609e",
   "metadata": {},
   "outputs": [
    {
     "ename": "SyntaxError",
     "evalue": "unterminated string literal (detected at line 2) (1246130259.py, line 2)",
     "output_type": "error",
     "traceback": [
      "\u001b[0;36m  Cell \u001b[0;32mIn[69], line 2\u001b[0;36m\u001b[0m\n\u001b[0;31m    TypeError: Can't instantiate abstract class MyAbstractClass with abstract methods my_abstract_method\u001b[0m\n\u001b[0m                  ^\u001b[0m\n\u001b[0;31mSyntaxError\u001b[0m\u001b[0;31m:\u001b[0m unterminated string literal (detected at line 2)\n"
     ]
    }
   ],
   "source": [
    ">>> obj = MyAbstractClass()\n",
    "TypeError: Can't instantiate abstract class MyAbstractClass with abstract methods my_abstract_method\n"
   ]
  },
  {
   "cell_type": "markdown",
   "id": "bcb97db2-52ef-4ded-98ec-70b68bbd1eb7",
   "metadata": {},
   "source": [
    "In the above example, MyAbstractClass is an abstract class that contains an abstract method my_abstract_method. The abstractmethod decorator marks the method as abstract, which means that it has to be implemented by any subclass of MyAbstractClass.\n",
    "\n",
    "If we try to create an instance of MyAbstractClass, Python will raise a TypeError with the message \"Can't instantiate abstract class MyAbstractClass with abstract methods my_abstract_method\"."
   ]
  },
  {
   "cell_type": "code",
   "execution_count": null,
   "id": "c01cb8e0-9041-4dcc-bb89-cff52e11a035",
   "metadata": {},
   "outputs": [],
   "source": []
  }
 ],
 "metadata": {
  "kernelspec": {
   "display_name": "Python 3 (ipykernel)",
   "language": "python",
   "name": "python3"
  },
  "language_info": {
   "codemirror_mode": {
    "name": "ipython",
    "version": 3
   },
   "file_extension": ".py",
   "mimetype": "text/x-python",
   "name": "python",
   "nbconvert_exporter": "python",
   "pygments_lexer": "ipython3",
   "version": "3.10.8"
  }
 },
 "nbformat": 4,
 "nbformat_minor": 5
}
