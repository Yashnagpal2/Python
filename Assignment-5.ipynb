{
 "cells": [
  {
   "cell_type": "markdown",
   "id": "b0881045-090d-4db0-8f5d-5b128e0facf3",
   "metadata": {},
   "source": [
    "Ques-1 - write the programe to accept percentage from user and display the grade"
   ]
  },
  {
   "cell_type": "code",
   "execution_count": 14,
   "id": "5e45250f-44ea-4e3f-88c6-ccb09e1fd911",
   "metadata": {},
   "outputs": [
    {
     "name": "stdin",
     "output_type": "stream",
     "text": [
      "Enter the percentage 70\n"
     ]
    },
    {
     "name": "stdout",
     "output_type": "stream",
     "text": [
      "your grade is c\n"
     ]
    }
   ],
   "source": [
    "Marks=float(input('Enter the percentage'))\n",
    "\n",
    "if Marks>90:\n",
    "    grade = 'A'\n",
    "elif Marks>80:\n",
    "    grade = 'B'\n",
    "elif Marks>=60:\n",
    "    grade = 'c'\n",
    "else:\n",
    "    grade='D'\n",
    "print('your grade is',grade)\n",
    "        \n"
   ]
  },
  {
   "cell_type": "markdown",
   "id": "2916f722-c1dc-4102-a444-26a4901fd3be",
   "metadata": {},
   "source": [
    "Ques-2- Write a program to accept the cost price of the bike and display the road tax to be paid?"
   ]
  },
  {
   "cell_type": "code",
   "execution_count": 13,
   "id": "b44f37e4-33cf-4503-96ee-56da5d132919",
   "metadata": {},
   "outputs": [
    {
     "name": "stdin",
     "output_type": "stream",
     "text": [
      "Enter the cost price of the bike 60000\n"
     ]
    },
    {
     "name": "stdout",
     "output_type": "stream",
     "text": [
      "Your tax on 60000 is 10%\n"
     ]
    }
   ],
   "source": [
    "cost_price=int(input('Enter the cost price of the bike'))\n",
    "if cost_price>100000:\n",
    "    Tax='15%'\n",
    "elif cost_price>50000:\n",
    "    Tax='10%'\n",
    "else:\n",
    "    cost_price='5%'\n",
    "print('Your tax on',cost_price,'is',Tax)"
   ]
  },
  {
   "cell_type": "markdown",
   "id": "797a1439-86fa-469a-bf07-25c740f08ea4",
   "metadata": {},
   "source": [
    "Ques-3 - Acceot any city from user and display the monument?"
   ]
  },
  {
   "cell_type": "code",
   "execution_count": 15,
   "id": "78e13b83-8aad-4b14-ae67-7ef6e95a8d29",
   "metadata": {},
   "outputs": [
    {
     "name": "stdin",
     "output_type": "stream",
     "text": [
      "enter the city agra\n"
     ]
    },
    {
     "name": "stdout",
     "output_type": "stream",
     "text": [
      "monument in  agra is Taj mahal\n"
     ]
    }
   ],
   "source": [
    "city=input('enter the city')\n",
    "if city == 'delhi':\n",
    "    monument = 'red fort'\n",
    "elif city == 'agra':\n",
    "    monument = 'Taj mahal'\n",
    "elif city == 'jaipur':\n",
    "    monument = 'jal mahal'\n",
    "else:\n",
    "    print('No such city found')\n",
    "print('monument in ',city,'is',monument)"
   ]
  },
  {
   "cell_type": "markdown",
   "id": "f1b104f5-8390-4b8a-af7c-316dee471e73",
   "metadata": {},
   "source": [
    "Ques-4 - Check how many times a given number can be divided by 3 before is less than or equal to 10?"
   ]
  },
  {
   "cell_type": "markdown",
   "id": "e6a2c5c9-b22a-417b-a010-03d00ae6a682",
   "metadata": {},
   "source": [
    "Answer-\n",
    "We can solve this problem by repeatedly dividing the given number by 3 until the quotient is less than or equal to 10, and counting the number of divisions.\n",
    "\n",
    "Let's take an example, suppose the given number is 243.\n",
    "\n",
    "First, we divide 243 by 3 to get 81.\n",
    "Next, we divide 81 by 3 to get 27.\n",
    "Then, we divide 27 by 3 to get 9.\n",
    "Finally, we divide 9 by 3 to get 3.\n",
    "\n",
    "At this point, we have divided the given number 243 by 3 four times, and the result is 3, which is less than or equal to 10.\n",
    "\n",
    "Therefore, the given number 243 can be divided by 3 four times before the quotient is less than or equal to 10.\n",
    "\n",
    "In general, if the given number is x, we can divide x by 3 repeatedly until the quotient is less than or equal to 10, and count the number of divisions. The formula for the number of divisions is:\n",
    "\n",
    "n = floor(log3(x/10))\n",
    "\n",
    "where log3 denotes the base-3 logarithm, and floor denotes the floor function. The formula gives the largest integer n such that 3ⁿ times 10 is less than or equal to x."
   ]
  },
  {
   "cell_type": "markdown",
   "id": "7370f616-8980-4840-8e15-b5e44c37f6f7",
   "metadata": {},
   "source": [
    "Ques-5 -When and why to use while loop in python give a detailed description with example?"
   ]
  },
  {
   "cell_type": "markdown",
   "id": "b8df8534-43be-415b-979c-ef63565affb3",
   "metadata": {},
   "source": [
    "Answer- n Python, a while loop is used to execute a set of statements repeatedly as long as a certain condition is true. The condition is tested before each iteration of the loop. If the condition is true, the loop body is executed. If the condition is false, the loop is terminated, and the program continues to execute the statements after the loop.\n",
    "\n",
    "A while loop can be useful when you want to repeat a set of statements a certain number of times, or until a certain condition is met. For example, you might use a while loop to read a file line by line until the end of the file is reached, or to prompt a user for input until they enter a valid value.\n",
    "\n",
    "Example of using a while loop in Python is to prompt a user for input until they enter a valid value. Here's an example:"
   ]
  },
  {
   "cell_type": "code",
   "execution_count": 17,
   "id": "9cb96a83-0dba-423e-906c-08396413bf46",
   "metadata": {},
   "outputs": [
    {
     "name": "stdin",
     "output_type": "stream",
     "text": [
      "Enter a number:  2\n"
     ]
    },
    {
     "name": "stdout",
     "output_type": "stream",
     "text": [
      "You entered: 2\n"
     ]
    }
   ],
   "source": [
    "while True:\n",
    "    try:\n",
    "        num = int(input(\"Enter a number: \"))\n",
    "        break\n",
    "    except ValueError:\n",
    "        print(\"Invalid input. Please enter a valid number.\")\n",
    "\n",
    "print(\"You entered:\", num)\n"
   ]
  },
  {
   "cell_type": "markdown",
   "id": "897d624a-c164-43f2-afac-c30d3c171d03",
   "metadata": {},
   "source": [
    "In this example, we use a while loop to repeatedly prompt the user for input until they enter a valid number. Inside the loop, we use a try and except block to catch any ValueError exceptions that might occur if the user enters a non-numeric value. If a ValueError occurs, we print an error message and continue the loop. If no error occurs, we break out of the loop and process the input (printing it to the console in this case).\n",
    "\n",
    "In summary, a while loop in Python is useful when you need to execute a set of statements repeatedly as long as a certain condition is true. You can use a while loop to read a file line by line, prompt a user for input, or perform any other task that requires repeating a set of statements until a certain condition is met."
   ]
  },
  {
   "cell_type": "markdown",
   "id": "da935c1a-7805-40dc-83a7-300da22b04ab",
   "metadata": {},
   "source": [
    "Ques-6 -Use nested while loop to print 3 different pattern"
   ]
  },
  {
   "cell_type": "code",
   "execution_count": 24,
   "id": "c9882fe3-13e2-4ae9-aee8-89612b17d005",
   "metadata": {},
   "outputs": [
    {
     "name": "stdout",
     "output_type": "stream",
     "text": [
      "* * * * * \n",
      "* * * * * \n",
      "* * * * * \n",
      "* * * * * \n",
      "* * * * * \n"
     ]
    }
   ],
   "source": [
    "n = 5  \n",
    "\n",
    "i = 1\n",
    "while i <= n:\n",
    "    j = 1\n",
    "    while j <= n:\n",
    "        print(\"*\", end=\" \")\n",
    "        j += 1\n",
    "    print()\n",
    "    i += 1\n"
   ]
  },
  {
   "cell_type": "code",
   "execution_count": 25,
   "id": "46de8126-725d-4cce-a969-b58f62228f16",
   "metadata": {},
   "outputs": [
    {
     "name": "stdout",
     "output_type": "stream",
     "text": [
      "1 \n",
      "1 2 \n",
      "1 2 3 \n",
      "1 2 3 4 \n",
      "1 2 3 4 5 \n"
     ]
    }
   ],
   "source": [
    "n = 5  \n",
    "\n",
    "i = 1\n",
    "while i <= n:\n",
    "    j = 1\n",
    "    while j <= i:\n",
    "        print(j, end=\" \")\n",
    "        j += 1\n",
    "    print()\n",
    "    i += 1\n"
   ]
  },
  {
   "cell_type": "code",
   "execution_count": 26,
   "id": "c16660fa-fff4-45f3-bc0e-1bd08f96e899",
   "metadata": {},
   "outputs": [
    {
     "name": "stdout",
     "output_type": "stream",
     "text": [
      "    *\n",
      "   ***\n",
      "  *****\n",
      " *******\n",
      "*********\n",
      " *******\n",
      "  *****\n",
      "   ***\n",
      "    *\n"
     ]
    }
   ],
   "source": [
    "n = 5  \n",
    "\n",
    "i = 1\n",
    "while i <= n:\n",
    "    j = 1\n",
    "    while j <= n - i:\n",
    "        print(\" \", end=\"\")\n",
    "        j += 1\n",
    "    j = 1\n",
    "    while j <= 2 * i - 1:\n",
    "        print(\"*\", end=\"\")\n",
    "        j += 1\n",
    "    print()\n",
    "    i += 1\n",
    "\n",
    "i = n - 1\n",
    "while i >= 1:\n",
    "    j = 1\n",
    "    while j <= n - i:\n",
    "        print(\" \", end=\"\")\n",
    "        j += 1\n",
    "    j = 1\n",
    "    while j <= 2 * i - 1:\n",
    "        print(\"*\", end=\"\")\n",
    "        j += 1\n",
    "    print()\n",
    "    i -= 1\n"
   ]
  },
  {
   "cell_type": "markdown",
   "id": "56fd3e46-8901-4f32-a3a5-01bb25d5646d",
   "metadata": {},
   "source": [
    "Ques-7 - Reverse a while loop to print number from 10 to 1?"
   ]
  },
  {
   "cell_type": "code",
   "execution_count": 27,
   "id": "46132a3e-eaeb-4e0a-9af5-621437e12252",
   "metadata": {},
   "outputs": [
    {
     "name": "stdout",
     "output_type": "stream",
     "text": [
      "10\n",
      "9\n",
      "8\n",
      "7\n",
      "6\n",
      "5\n",
      "4\n",
      "3\n",
      "2\n",
      "1\n"
     ]
    }
   ],
   "source": [
    "n=10\n",
    "while n>=1:\n",
    "    print(n)\n",
    "    n=n-1"
   ]
  },
  {
   "cell_type": "code",
   "execution_count": null,
   "id": "9518ea3f-bbae-43aa-9ece-f9d74446be41",
   "metadata": {},
   "outputs": [],
   "source": [
    "Ques-8 - "
   ]
  }
 ],
 "metadata": {
  "kernelspec": {
   "display_name": "Python 3 (ipykernel)",
   "language": "python",
   "name": "python3"
  },
  "language_info": {
   "codemirror_mode": {
    "name": "ipython",
    "version": 3
   },
   "file_extension": ".py",
   "mimetype": "text/x-python",
   "name": "python",
   "nbconvert_exporter": "python",
   "pygments_lexer": "ipython3",
   "version": "3.10.8"
  }
 },
 "nbformat": 4,
 "nbformat_minor": 5
}
