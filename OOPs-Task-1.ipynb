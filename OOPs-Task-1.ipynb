{
 "cells": [
  {
   "cell_type": "markdown",
   "id": "7a8aee04-1c42-4ed0-b35e-97adc1f472b8",
   "metadata": {},
   "source": [
    "Ques-1 - Create a vehicle class with an init method having instance variables as name_of_vehicle, max_speed\n",
    "and average_of_vehicle."
   ]
  },
  {
   "cell_type": "code",
   "execution_count": 17,
   "id": "454ff269-e0b8-4825-bddf-bd09790b2c38",
   "metadata": {},
   "outputs": [],
   "source": [
    "class vechile:\n",
    "    \n",
    "    def __init__(self,name_of_vechile,max_speed,average_of_speed):\n",
    "        self.name_of_vechile = name_of_vechile\n",
    "        self.max_speed = max_speed\n",
    "        self.average_of_speed = average_of_speed"
   ]
  },
  {
   "cell_type": "markdown",
   "id": "caccbc91-4d43-45cf-b7eb-915bc6379d41",
   "metadata": {},
   "source": [
    "Ques-2 - Create a child class car from the vehicle class created in Que 1, which will inherit the vehicle class.\n",
    "Create a method named seating_capacity which takes capacity as an argument and returns the name of\n",
    "the vehicle and its seating capacity."
   ]
  },
  {
   "cell_type": "code",
   "execution_count": 18,
   "id": "7a644225-5e7c-4425-b3c8-fa0d1e5d7c4c",
   "metadata": {},
   "outputs": [],
   "source": [
    "class vechile:\n",
    "    \n",
    "    def __init__(self,name_of_vechile,max_speed,average_of_speed):\n",
    "        self.name_of_vechile = name_of_vechile\n",
    "        self.max_speed = max_speed\n",
    "        self.average_of_speed = average_of_speed"
   ]
  },
  {
   "cell_type": "code",
   "execution_count": 27,
   "id": "0edad29f-7793-4a0a-8ca4-6f826b1faadf",
   "metadata": {},
   "outputs": [],
   "source": [
    "class car(vechile):\n",
    "    \n",
    "    def __init__(self,name_of_vechile,max_speed,average_of_speed):\n",
    "        self.name_of_vechile = name_of_vechile\n",
    "        self.max_speed = max_speed\n",
    "        self.average_of_speed = average_of_speed\n",
    "        \n",
    "    def seating_capacity(self , capacity):\n",
    "        \n",
    "        return self.name_of_vechile,'has seating capacity of',capacity,'people'"
   ]
  },
  {
   "cell_type": "code",
   "execution_count": 28,
   "id": "623cab6d-440f-4723-b699-b8fc934a3764",
   "metadata": {},
   "outputs": [
    {
     "name": "stdout",
     "output_type": "stream",
     "text": [
      "('Toyota Fortuner', 'has seating capacity of', 5, 'people')\n"
     ]
    }
   ],
   "source": [
    "my_car = car('Toyota Fortuner',200,80)\n",
    "print(my_car.seating_capacity(5))"
   ]
  },
  {
   "cell_type": "markdown",
   "id": "6f03b96c-5ed7-4204-b0c2-8c43616b54c7",
   "metadata": {},
   "source": [
    "Q3. What is multiple inheritance? Write a python code to demonstrate multiple inheritance."
   ]
  },
  {
   "cell_type": "markdown",
   "id": "58b5e5f0-c6fc-4f09-96e9-1a95ba307e64",
   "metadata": {},
   "source": [
    "Answer - Multiple inheritance is a feature of object-oriented programming languages that allows a class to inherit from more than one parent class. In multiple inheritance, a child class can inherit attributes and methods from multiple parent classes."
   ]
  },
  {
   "cell_type": "code",
   "execution_count": 30,
   "id": "b37dee53-87c8-4d32-a891-a98294a7266e",
   "metadata": {},
   "outputs": [],
   "source": [
    "class father():\n",
    "    \n",
    "    def test_1(self):\n",
    "        return 'this is father'"
   ]
  },
  {
   "cell_type": "code",
   "execution_count": 32,
   "id": "9c0a7959-d803-4b73-b30e-8b08a9f50ddf",
   "metadata": {},
   "outputs": [],
   "source": [
    "class mother():\n",
    "    \n",
    "    def test_2(self):\n",
    "        return 'This is mother'"
   ]
  },
  {
   "cell_type": "code",
   "execution_count": 33,
   "id": "d848f35b-dfdd-457d-ad16-8ab56f382a36",
   "metadata": {},
   "outputs": [],
   "source": [
    "class child(father , mother):\n",
    "    pass\n",
    "    "
   ]
  },
  {
   "cell_type": "code",
   "execution_count": 34,
   "id": "5c50e74a-3432-4cd1-a7ff-c5e40f999a28",
   "metadata": {},
   "outputs": [],
   "source": [
    "obj_child = child()"
   ]
  },
  {
   "cell_type": "code",
   "execution_count": 35,
   "id": "a6681476-0c33-42ce-812c-a5f4e7435141",
   "metadata": {},
   "outputs": [
    {
     "data": {
      "text/plain": [
       "'this is father'"
      ]
     },
     "execution_count": 35,
     "metadata": {},
     "output_type": "execute_result"
    }
   ],
   "source": [
    "obj_child.test_1()"
   ]
  },
  {
   "cell_type": "code",
   "execution_count": 36,
   "id": "c68f2d2f-3444-494e-a051-cfcb119009ad",
   "metadata": {},
   "outputs": [
    {
     "data": {
      "text/plain": [
       "'This is mother'"
      ]
     },
     "execution_count": 36,
     "metadata": {},
     "output_type": "execute_result"
    }
   ],
   "source": [
    "obj_child.test_2()"
   ]
  },
  {
   "cell_type": "code",
   "execution_count": 54,
   "id": "6c6baf80-ff0c-411d-8a8a-d28e1cec2077",
   "metadata": {},
   "outputs": [],
   "source": [
    "class Vehicle:\n",
    "    def __init__(self, name, max_speed):\n",
    "        self.name = name\n",
    "        self.max_speed = max_speed\n",
    "    \n",
    "    def get_name(self):\n",
    "        return self.name\n",
    "    \n",
    "    def get_max_speed(self):\n",
    "        return self.max_speed\n",
    "\n",
    "\n",
    "class Engine:\n",
    "    def __init__(self, fuel_type, power):\n",
    "        self.fuel_type = fuel_type\n",
    "        self.power = power\n",
    "    \n",
    "    def get_fuel_type(self):\n",
    "        return self.fuel_type\n",
    "    \n",
    "    def get_power(self):\n",
    "        return self.power\n",
    "\n",
    "\n",
    "class Car(Vehicle, Engine):\n",
    "    def __init__(self, name, max_speed, fuel_type, power):\n",
    "        Vehicle.__init__(self, name, max_speed)\n",
    "        Engine.__init__(self, fuel_type, power)\n",
    "    \n",
    "    def get_details(self):\n",
    "        return f\"{self.get_name()} has a maximum speed of {self.get_max_speed()} km/h and runs on {self.get_fuel_type()} fuel with {self.get_power()} horsepower.\"\n"
   ]
  },
  {
   "cell_type": "code",
   "execution_count": 55,
   "id": "4eb75c9d-29d4-4c30-9f1e-073bb9d10580",
   "metadata": {},
   "outputs": [
    {
     "name": "stdout",
     "output_type": "stream",
     "text": [
      "Toyota Corolla has a maximum speed of 180 km/h and runs on petrol fuel with 120 horsepower.\n"
     ]
    }
   ],
   "source": [
    "my_car = Car(\"Toyota Corolla\", 180, \"petrol\", 120)\n",
    "print(my_car.get_details())  \n"
   ]
  },
  {
   "cell_type": "markdown",
   "id": "de872cea-32de-47de-9c3b-77add5ddb6bf",
   "metadata": {},
   "source": [
    "Ques-4 - What are getter and setter in python? Create a class and create a getter and a setter method in this class."
   ]
  },
  {
   "cell_type": "markdown",
   "id": "e61b48e3-b204-4e23-8eba-04e866189124",
   "metadata": {},
   "source": [
    "Answers - In Python, getter and setter methods are used to access and modify private instance variables of a class. Getter and setter methods are often referred to as accessor and mutator methods, respectively.\n",
    "\n",
    "A getter method is a method that returns the value of a private instance variable. A setter method is a method that sets the value of a private instance variable."
   ]
  },
  {
   "cell_type": "code",
   "execution_count": 67,
   "id": "f2c2a514-d230-4190-94e5-0420eee4d71f",
   "metadata": {},
   "outputs": [],
   "source": [
    "class person:\n",
    "    \n",
    "    def __init__(self,name,age):\n",
    "        self.__name = name\n",
    "        self.__age = age\n",
    "    \n",
    "    def get_name(self):\n",
    "        return self.__name\n",
    "    \n",
    "    def set_name(self,name):\n",
    "         self.__name = name\n",
    "        \n",
    "    def get_age(self):\n",
    "        return self.__age\n",
    "    \n",
    "    def set_age(self,age):\n",
    "        return self.__age\n",
    "    \n",
    "    def set_age(self,age):\n",
    "        if age<0 :\n",
    "            return 'age cannot be negative'\n",
    "        self.__age = age\n",
    "        "
   ]
  },
  {
   "cell_type": "code",
   "execution_count": 70,
   "id": "749c4848-03b6-4625-b59c-33014d364b48",
   "metadata": {},
   "outputs": [
    {
     "data": {
      "text/plain": [
       "'Yash'"
      ]
     },
     "execution_count": 70,
     "metadata": {},
     "output_type": "execute_result"
    }
   ],
   "source": [
    "Person = person('Yash',19)\n",
    "Person.get_name()"
   ]
  },
  {
   "cell_type": "code",
   "execution_count": 72,
   "id": "4a44b1af-3246-4b78-8811-8d71459a52f7",
   "metadata": {},
   "outputs": [
    {
     "data": {
      "text/plain": [
       "'Yoo'"
      ]
     },
     "execution_count": 72,
     "metadata": {},
     "output_type": "execute_result"
    }
   ],
   "source": [
    "Person.set_name('Yoo')\n",
    "Person.get_name()"
   ]
  },
  {
   "cell_type": "markdown",
   "id": "c259dac1-ada1-492c-97c5-3e37b49e80f3",
   "metadata": {},
   "source": [
    "Ques-5 -What is method overriding in python? Write a python code to demonstrate method overriding."
   ]
  },
  {
   "cell_type": "markdown",
   "id": "020f50e3-4454-4c39-8622-df0d20f71d0f",
   "metadata": {},
   "source": [
    "Answers - Method overriding is a feature in object-oriented programming that allows a subclass to provide its own implementation of a method that is already defined in its superclass. When a method in a subclass has the same name, parameters, and return type as a method in its superclass, the method in the subclass overrides the method in the superclass."
   ]
  },
  {
   "cell_type": "code",
   "execution_count": 74,
   "id": "1a0289dc-e610-419a-9699-480ed9dc0565",
   "metadata": {},
   "outputs": [],
   "source": [
    "class animal():\n",
    "    def make_sound(self):\n",
    "        return 'Animal that make a sound'\n",
    "    \n",
    "class dog(animal):\n",
    "    def make_sound(self):\n",
    "        return 'Dog barks'\n",
    "    \n",
    "class cat(animal):\n",
    "    def make_sound(self):\n",
    "        return 'cat meows'\n",
    "    "
   ]
  },
  {
   "cell_type": "code",
   "execution_count": 75,
   "id": "23ff01e6-d9c7-4da8-ae48-9f42b4964045",
   "metadata": {},
   "outputs": [],
   "source": [
    "Animal = animal()\n",
    "Dog = dog()\n",
    "Cat = cat()"
   ]
  },
  {
   "cell_type": "code",
   "execution_count": 76,
   "id": "4c4daacd-4e0e-48b7-9b0e-5c7aae51d576",
   "metadata": {},
   "outputs": [
    {
     "data": {
      "text/plain": [
       "'Animal that make a sound'"
      ]
     },
     "execution_count": 76,
     "metadata": {},
     "output_type": "execute_result"
    }
   ],
   "source": [
    "Animal.make_sound()"
   ]
  },
  {
   "cell_type": "code",
   "execution_count": 77,
   "id": "b22acda5-b01c-4c63-8c41-75a8cd63f86a",
   "metadata": {},
   "outputs": [
    {
     "data": {
      "text/plain": [
       "'Dog barks'"
      ]
     },
     "execution_count": 77,
     "metadata": {},
     "output_type": "execute_result"
    }
   ],
   "source": [
    "Dog.make_sound()"
   ]
  },
  {
   "cell_type": "code",
   "execution_count": 78,
   "id": "9368f724-3ff8-40d4-9ac8-034b0e75c431",
   "metadata": {},
   "outputs": [
    {
     "data": {
      "text/plain": [
       "'cat meows'"
      ]
     },
     "execution_count": 78,
     "metadata": {},
     "output_type": "execute_result"
    }
   ],
   "source": [
    "Cat.make_sound()"
   ]
  },
  {
   "cell_type": "code",
   "execution_count": null,
   "id": "a0539c6d-5d1c-4afb-8e4a-dce274a6761d",
   "metadata": {},
   "outputs": [],
   "source": []
  }
 ],
 "metadata": {
  "kernelspec": {
   "display_name": "Python 3 (ipykernel)",
   "language": "python",
   "name": "python3"
  },
  "language_info": {
   "codemirror_mode": {
    "name": "ipython",
    "version": 3
   },
   "file_extension": ".py",
   "mimetype": "text/x-python",
   "name": "python",
   "nbconvert_exporter": "python",
   "pygments_lexer": "ipython3",
   "version": "3.10.8"
  }
 },
 "nbformat": 4,
 "nbformat_minor": 5
}
