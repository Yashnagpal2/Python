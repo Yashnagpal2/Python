{
 "cells": [
  {
   "cell_type": "code",
   "execution_count": 1,
   "id": "15b96fe7-3de6-4f30-858f-a2c87eb74848",
   "metadata": {},
   "outputs": [
    {
     "name": "stdout",
     "output_type": "stream",
     "text": [
      "this is my except block [Errno 2] No such file or directory: 'test.txt'\n"
     ]
    },
    {
     "data": {
      "text/plain": [
       "9"
      ]
     },
     "execution_count": 1,
     "metadata": {},
     "output_type": "execute_result"
    }
   ],
   "source": [
    "try:\n",
    "    f=open(\"test.txt\" , 'r')\n",
    "except Exception as e:\n",
    "    print(\"this is my except block\",e)\n",
    "a=4+5\n",
    "a"
   ]
  },
  {
   "cell_type": "code",
   "execution_count": 3,
   "id": "4ea47917-95be-4a45-878e-ff4de184b137",
   "metadata": {},
   "outputs": [
    {
     "name": "stdout",
     "output_type": "stream",
     "text": [
      "this is my except block [Errno 2] No such file or directory: 'test.txt'\n"
     ]
    },
    {
     "data": {
      "text/plain": [
       "9"
      ]
     },
     "execution_count": 3,
     "metadata": {},
     "output_type": "execute_result"
    }
   ],
   "source": [
    "try:\n",
    "    f=open(\"test.txt\" , 'r')\n",
    "    f.write(\"write into my file\")\n",
    "    f.close()\n",
    "except Exception as e:\n",
    "    print(\"this is my except block\",e)\n",
    "a=4+5\n",
    "a"
   ]
  },
  {
   "cell_type": "code",
   "execution_count": 7,
   "id": "7f7c6f11-c6d6-410e-bf9c-c43ab144f5e0",
   "metadata": {},
   "outputs": [
    {
     "name": "stdout",
     "output_type": "stream",
     "text": [
      "this will be executed once your try will execute\n"
     ]
    }
   ],
   "source": [
    "try:\n",
    "    f=open(\"test.txt\" , 'w')\n",
    "    f.write(\"write into my file\")\n",
    "except Exception as e:\n",
    "    print(\"this is my except block\",e)\n",
    "else:\n",
    "    f.close()\n",
    "    print(\"this will be executed once your try will execute\")"
   ]
  },
  {
   "cell_type": "code",
   "execution_count": 9,
   "id": "8d13ec83-c4bd-4b80-9edc-d6715b58a865",
   "metadata": {},
   "outputs": [
    {
     "name": "stdout",
     "output_type": "stream",
     "text": [
      "this is my except block not writable\n"
     ]
    }
   ],
   "source": [
    "try:\n",
    "    f=open(\"test1.txt\" , 'r')\n",
    "    f.write(\"write into my file\")\n",
    "except Exception as e:\n",
    "    print(\"this is my except block\",e)\n",
    "else:\n",
    "    f.close()\n",
    "    print(\"this will be executed once your try will execute\")"
   ]
  },
  {
   "cell_type": "code",
   "execution_count": 10,
   "id": "dac9b792-3e7e-40f8-b8c0-c7414c1d1295",
   "metadata": {},
   "outputs": [
    {
     "name": "stdout",
     "output_type": "stream",
     "text": [
      "finally will execuite itself\n"
     ]
    }
   ],
   "source": [
    "try:\n",
    "    f=open(\"test2.txt\" ,'w')\n",
    "    f.write(\"write something\")\n",
    "finally:\n",
    "    print(\"finally will execuite itself\")"
   ]
  },
  {
   "cell_type": "code",
   "execution_count": 11,
   "id": "5f932293-6d0f-4023-b40b-c3e9dbe28ea9",
   "metadata": {},
   "outputs": [],
   "source": [
    "#custom exception handling"
   ]
  },
  {
   "cell_type": "code",
   "execution_count": 12,
   "id": "f4bc0d6c-1799-4ccd-9ea8-f54290d378f1",
   "metadata": {},
   "outputs": [
    {
     "name": "stdin",
     "output_type": "stream",
     "text": [
      "enter the age -2\n"
     ]
    }
   ],
   "source": [
    "age = int(input(\"enter the age\"))"
   ]
  },
  {
   "cell_type": "code",
   "execution_count": 36,
   "id": "4d9d0b77-b160-46de-9f7b-57384a614fbb",
   "metadata": {},
   "outputs": [],
   "source": [
    "class age_1(Exception):\n",
    "    \n",
    "    def __init__(self,msg):\n",
    "        self.msg = msg"
   ]
  },
  {
   "cell_type": "code",
   "execution_count": 50,
   "id": "3bc64639-f41b-4389-a3e3-197b68717b3e",
   "metadata": {},
   "outputs": [],
   "source": [
    "def age_1(age):\n",
    "    if age < 0 :\n",
    "        print (\"entered age is invalid\")\n",
    "    elif age >= 200:\n",
    "        print (\"entered age is invalid\")\n",
    "    else:\n",
    "        print(\"age is valid\")"
   ]
  },
  {
   "cell_type": "code",
   "execution_count": 51,
   "id": "ce1a0181-2220-4e34-9421-218d189043cb",
   "metadata": {},
   "outputs": [
    {
     "name": "stdin",
     "output_type": "stream",
     "text": [
      "Enter the age -2\n"
     ]
    },
    {
     "name": "stdout",
     "output_type": "stream",
     "text": [
      "entered age is invalid\n"
     ]
    }
   ],
   "source": [
    "try:\n",
    "    age = int(input(\"Enter the age\"))\n",
    "    age_1(age)\n",
    "except age_1 as e:\n",
    "    print(e)"
   ]
  },
  {
   "cell_type": "code",
   "execution_count": null,
   "id": "e974cfd4-9ef6-4b9f-bf42-471b0d10e181",
   "metadata": {},
   "outputs": [],
   "source": []
  }
 ],
 "metadata": {
  "kernelspec": {
   "display_name": "Python 3 (ipykernel)",
   "language": "python",
   "name": "python3"
  },
  "language_info": {
   "codemirror_mode": {
    "name": "ipython",
    "version": 3
   },
   "file_extension": ".py",
   "mimetype": "text/x-python",
   "name": "python",
   "nbconvert_exporter": "python",
   "pygments_lexer": "ipython3",
   "version": "3.10.8"
  }
 },
 "nbformat": 4,
 "nbformat_minor": 5
}
