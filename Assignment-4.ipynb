{
 "cells": [
  {
   "cell_type": "markdown",
   "id": "6d7d7358-b035-4ea8-af70-e0ee3ec9b4f2",
   "metadata": {},
   "source": [
    "Ques-1- Who developed python programming language"
   ]
  },
  {
   "cell_type": "markdown",
   "id": "08fe2b32-ea5d-441f-b670-caf19f5ff103",
   "metadata": {},
   "source": [
    "Answer-Python programming language was developed by Guido van Rossum in the late 1980s and was first released on February 20, 1991."
   ]
  },
  {
   "cell_type": "markdown",
   "id": "84829e0a-67c6-47bc-90a0-fba81a617d25",
   "metadata": {},
   "source": [
    "Ques-2- Which type of programinng does python supoorts"
   ]
  },
  {
   "cell_type": "markdown",
   "id": "1a94fc77-11ba-4d29-a50c-9dac41137ab9",
   "metadata": {},
   "source": [
    "Answer - Python supports various programming paradigms, including:\n",
    "\n",
    "1 - Procedural programming\n",
    "2 - Object-oriented programming\n",
    "3 - Functional programming\n",
    "\n",
    "Python also supports aspects of other programming paradigms, such as aspect-oriented programming and metaprogramming. Additionally, Python is known for its simplicity and ease-of-use, making it a popular choice for beginners and experts alike."
   ]
  },
  {
   "cell_type": "markdown",
   "id": "38d35646-6d96-4321-88cb-f04d5f5f07a8",
   "metadata": {},
   "source": [
    "Ques-3 - Is python case sensitive when dealing with identifiers"
   ]
  },
  {
   "cell_type": "markdown",
   "id": "f7f7e423-d3f8-4c07-81b3-cee7f7a8e39f",
   "metadata": {},
   "source": [
    "Answer - Yes, Python is case sensitive when dealing with identifiers.\n",
    "\n",
    "In Python, identifiers are names that are used to identify variables, functions, classes, modules, and other objects in the program. Identifiers can be composed of letters (lowercase and uppercase), digits, and underscore characters, but they must follow certain rules, such as starting with a letter or underscore and not being a reserved keyword.\n",
    "\n",
    "Since Python is case sensitive, identifiers with different capitalization are considered to be different. For example, the identifiers my_variable, My_Variable, and MY_VARIABLE are all distinct and refer to different objects in the program."
   ]
  },
  {
   "cell_type": "markdown",
   "id": "7981f2ae-0d5b-45dd-ac82-e3d0badd819e",
   "metadata": {},
   "source": [
    "Ques-4 - What is correct extension of python file?"
   ]
  },
  {
   "cell_type": "markdown",
   "id": "1242dbd1-5f6c-4187-8d78-e35ac396c022",
   "metadata": {},
   "source": [
    "Answer - The correct extension of a Python file is .py.\n",
    "\n",
    "When you save a Python program in a file, you should use the .py extension to indicate that it contains Python code. This is the standard convention for Python files, and it helps other programmers and tools recognize the file as a Python script."
   ]
  },
  {
   "cell_type": "markdown",
   "id": "a72ba1bf-449b-43d2-b989-74cc34c8a52f",
   "metadata": {},
   "source": [
    "Ques-5 - Is python code compiled or interpreted?"
   ]
  },
  {
   "cell_type": "markdown",
   "id": "fd4b77d3-afdf-48fd-a668-f46d68a9e43a",
   "metadata": {},
   "source": [
    "Answer - Python code is both compiled and interpreted.\n",
    "\n",
    "When you run a Python program, the source code is first compiled into bytecode, which is a low-level representation of the code that can be executed by the Python interpreter. The bytecode is then interpreted by the Python virtual machine, which runs the program.\n",
    "\n",
    "This means that Python is both compiled and interpreted. The compilation step occurs automatically when you run the program, and the interpretation step happens in real-time as the program runs. This approach combines the benefits of both compiled and interpreted languages, allowing for faster development and easier debugging. Additionally, the bytecode can be cached to improve performance on subsequent runs of the program"
   ]
  },
  {
   "cell_type": "markdown",
   "id": "1e1f69dc-98dd-4083-a34c-c750768fc83d",
   "metadata": {},
   "source": [
    "Ques-6 - Name a few block of code used to define a python language"
   ]
  },
  {
   "cell_type": "markdown",
   "id": "3de87bad-a00e-4f10-aef0-4247d1c9802d",
   "metadata": {},
   "source": [
    "Answer - \n",
    "1-Function block\n",
    "2-Class block\n",
    "3-If/else block\n",
    "4-While loop block\n",
    "5-For loop block\n",
    "6-for item in iterable\n",
    "\n",
    "In Python, code blocks are defined by their indentation level, rather than by enclosing braces or keywords like in some other languages. The level of indentation determines which statements belong to the same block. This approach helps make Python code more readable and easy to understand."
   ]
  },
  {
   "cell_type": "markdown",
   "id": "d030997e-e96e-4122-a237-5e9f6f6b3984",
   "metadata": {},
   "source": [
    "Ques-7 -State the character used to give single line comments in python?"
   ]
  },
  {
   "cell_type": "markdown",
   "id": "76700a58-8ad4-4efc-921f-39726a4b5152",
   "metadata": {},
   "source": [
    "Answer - In Python, the # character is used to give single-line comments.\n",
    "\n",
    "Any text that appears after the # character on a line is treated as a comment and is ignored by the Python interpreter."
   ]
  },
  {
   "cell_type": "markdown",
   "id": "97fb65a6-6041-4257-bc78-dfb98d9d3708",
   "metadata": {},
   "source": [
    "Ques-8 - Mentions the function which can help us to find the version of python that we are currently working on it?"
   ]
  },
  {
   "cell_type": "markdown",
   "id": "0cb86efd-b901-4d48-850d-4ba3d64bfa21",
   "metadata": {},
   "source": [
    "Answer - The sys module provides a function called version that can be used to get the version of Python that is currently running."
   ]
  },
  {
   "cell_type": "code",
   "execution_count": 1,
   "id": "414b0ac1-c2b7-4b14-a926-43b7653b9aff",
   "metadata": {},
   "outputs": [
    {
     "name": "stdout",
     "output_type": "stream",
     "text": [
      "python version\n",
      "3.10.8 | packaged by conda-forge | (main, Nov 22 2022, 08:26:04) [GCC 10.4.0]\n"
     ]
    }
   ],
   "source": [
    "import sys\n",
    "print('python version')\n",
    "print(sys.version)"
   ]
  },
  {
   "cell_type": "markdown",
   "id": "ddea45ca-8ffe-49a0-a017-788d73e2b3d5",
   "metadata": {},
   "source": [
    "The sys.version string contains information about the Python version, the build date and time, the compiler used, and other details about the Python installation."
   ]
  },
  {
   "cell_type": "markdown",
   "id": "2b58198f-e8a2-4102-aef8-37244d9bad44",
   "metadata": {},
   "source": [
    "Ques-9 -Python supports the creation of anonymous functions at runtyime , using a construct called ---??"
   ]
  },
  {
   "cell_type": "markdown",
   "id": "8cb4c282-82d1-49fe-befe-42c8567709cf",
   "metadata": {},
   "source": [
    "Answer - Python supports the creation of anonymous functions at runtime, using a construct called lambda functions.\n",
    "\n",
    "A lambda function is a small, anonymous function that can take any number of arguments, but can only have one expression. Lambda functions are useful for defining short, throwaway functions that you don't need to give a name."
   ]
  },
  {
   "cell_type": "code",
   "execution_count": 7,
   "id": "b95ac48f-978f-4011-acbd-6145230093d6",
   "metadata": {},
   "outputs": [],
   "source": [
    "a=(lambda x: x**2 )"
   ]
  },
  {
   "cell_type": "code",
   "execution_count": 8,
   "id": "a4a28fba-8b28-4de5-9588-f02468d3d82c",
   "metadata": {},
   "outputs": [
    {
     "data": {
      "text/plain": [
       "9"
      ]
     },
     "execution_count": 8,
     "metadata": {},
     "output_type": "execute_result"
    }
   ],
   "source": [
    "a(3)"
   ]
  },
  {
   "cell_type": "markdown",
   "id": "6843cae1-c819-4c43-813d-5267dc2cd6b3",
   "metadata": {},
   "source": [
    "Lambda functions are often used in conjunction with higher-order functions like map(), filter(), and reduce(), which take functions as arguments."
   ]
  },
  {
   "cell_type": "markdown",
   "id": "c7bf6480-8c7b-4866-afcd-5bd2b2546de6",
   "metadata": {},
   "source": [
    "Ques-10 - What does pip stand for python?"
   ]
  },
  {
   "cell_type": "markdown",
   "id": "abdf9883-4db4-44d4-8dac-cd48d2726508",
   "metadata": {},
   "source": [
    "Amswer - pip stands for \"Pip Installs Packages\" (or \"Pip Installs Python\"). It is a package manager for Python that is used to install and manage third-party libraries and packages that are not part of the Python standard library.\n",
    "\n",
    "pip makes it easy to install, upgrade, and remove Python packages and their dependencies. It can download packages from the Python Package Index (PyPI), as well as from other package repositories.\n",
    "\n",
    "You can use pip from the command line by running commands like pip install, pip uninstall, pip freeze, and pip list."
   ]
  },
  {
   "cell_type": "markdown",
   "id": "9ed7af07-2f14-4a1b-8cb3-b722b007f148",
   "metadata": {},
   "source": [
    "Ques-11 - Mention a few built-in function in python?"
   ]
  },
  {
   "cell_type": "markdown",
   "id": "c56831f1-1c3d-48bd-baa2-2beaa89926f0",
   "metadata": {},
   "source": [
    "Answer - Python comes with a large number of built-in functions that are available for use in any Python program. Here are some of the most commonly used built-in functions in Python:\n",
    "\n",
    "1-print() - Used to display output to the console.\n",
    "2-len() - Returns the length of a sequence (string, list, tuple, etc.).\n",
    "3-range() - Generates a sequence of numbers.\n",
    "4-type() - Returns the type of an object.\n",
    "5-int() - Converts a string or float to an integer.\n",
    "These are just a few examples of the many built-in functions available in Python. You can see the full list of built-in functions in the Python documentation."
   ]
  },
  {
   "cell_type": "markdown",
   "id": "9351fa53-6aae-468e-a0d4-143a24924a4d",
   "metadata": {},
   "source": [
    "Ques-12 - What is maximum possible length of an identifier in python"
   ]
  },
  {
   "cell_type": "markdown",
   "id": "1f9abdb5-108c-4adb-ab0c-b7d15469dd25",
   "metadata": {},
   "source": [
    "Answer - In Python, the maximum length of an identifier (variable name, function name, class name, etc.) is not explicitly defined. However, there are some practical limits to the length of identifiers, as very long names can become difficult to read and use."
   ]
  },
  {
   "cell_type": "markdown",
   "id": "65dd4c34-a053-42c6-9bc1-301ea382ce29",
   "metadata": {},
   "source": [
    "Ques-13 -What are benifits of using python?"
   ]
  },
  {
   "cell_type": "markdown",
   "id": "1a9f8d6c-e116-4af3-9051-42a0568acfc5",
   "metadata": {},
   "source": [
    "Answer - Python has several benefits that make it a popular programming language for a wide range of applications:\n",
    "\n",
    "1-Easy to Learn: Python has a simple and easy-to-learn syntax, making it a good choice for beginners who are just starting to learn programming.\n",
    "\n",
    "2-Large and Active Community: Python has a large and active community of developers, who contribute to the development of packages, libraries, and frameworks that can be used in a wide range of applications.\n",
    "\n",
    "3-Versatile and Scalable: Python is a versatile language that can be used for a wide range of applications, from web development to scientific computing to machine learning. It is also highly scalable, meaning it can handle large and complex projects with ease.\n",
    "\n",
    "4-Cross-platform: Python code can be run on any platform (Windows, Mac, Linux, etc.) without the need for any modifications, making it highly portable.\n",
    "\n",
    "5-Rich Set of Libraries and Frameworks: Python has a rich set of libraries and frameworks, which makes it easy to develop complex applications quickly and efficiently."
   ]
  },
  {
   "cell_type": "markdown",
   "id": "93c6de40-762b-40ff-aba3-71d56afc23e3",
   "metadata": {},
   "source": [
    "Ques-14 - How is memory managed in python?"
   ]
  },
  {
   "cell_type": "markdown",
   "id": "d39462a1-e824-47e0-ac60-581dcfbadba0",
   "metadata": {},
   "source": [
    "Answer - In Python, memory management is handled automatically by the interpreter through a mechanism called garbage collection.\n",
    "\n",
    "Python uses a reference counting mechanism to keep track of objects in memory. Each object in memory has a reference count, which is the number of references pointing to that object. When an object's reference count drops to zero, it means that there are no more references to that object and it can be safely removed from memory.\n",
    "\n",
    "Python's garbage collector periodically runs to clean up objects that are no longer being used, but this is not the primary method of memory management in Python. Instead, the primary method is the reference counting mechanism, which allows objects to be removed from memory as soon as they are no longer needed.\n",
    "\n",
    "Python also provides some tools for managing memory explicitly, such as the gc module, which can be used to disable or tweak the garbage collector, and the sys module, which provides information about the memory usage of a Python program.\n",
    "\n"
   ]
  },
  {
   "cell_type": "markdown",
   "id": "b256c936-e578-4574-a8e2-ac8040be2643",
   "metadata": {},
   "source": [
    "Ques-15 - How to install python in windows and set path variables?"
   ]
  },
  {
   "cell_type": "markdown",
   "id": "0af79b44-b980-48fb-88a1-e61505350bc9",
   "metadata": {},
   "source": [
    "Answer - To install Python on Windows and set the path variables, follow these steps:\n",
    "\n",
    "Download the latest version of Python from the official Python website (https://www.python.org/downloads/windows/).\n",
    "\n",
    "Run the installer and follow the prompts to complete the installation.\n",
    "\n",
    "During the installation process, make sure to select the \"Add Python to PATH\" option, which will add the necessary environment variables to the system path.\n",
    "\n",
    "Once the installation is complete, open the Command Prompt and type \"python\" to check if Python is installed correctly.\n",
    "\n",
    "To set the path variables, right-click on \"This PC\" or \"My Computer\" and select \"Properties\".\n",
    "\n",
    "Click on \"Advanced system settings\" and then click on \"Environment Variables\".\n",
    "\n",
    "Under \"System Variables\", find \"Path\" and click \"Edit\".\n",
    "\n",
    "Click \"New\" and add the path to the \"Scripts\" folder within the Python installation directory (e.g., C:\\Python37\\Scripts).\n",
    "\n",
    "Click \"OK\" to close all the windows.\n",
    "\n",
    "Open a new Command Prompt window and type \"python\" to ensure that the path has been set correctly."
   ]
  },
  {
   "cell_type": "markdown",
   "id": "f682be07-2601-4615-970f-5322f8a38bbe",
   "metadata": {},
   "source": [
    "Ques-16 - Is indentation required in python?"
   ]
  },
  {
   "cell_type": "code",
   "execution_count": null,
   "id": "914cbc26-f815-4814-ac7c-b1da9c2503a9",
   "metadata": {},
   "outputs": [],
   "source": [
    "Answer - "
   ]
  }
 ],
 "metadata": {
  "kernelspec": {
   "display_name": "Python 3 (ipykernel)",
   "language": "python",
   "name": "python3"
  },
  "language_info": {
   "codemirror_mode": {
    "name": "ipython",
    "version": 3
   },
   "file_extension": ".py",
   "mimetype": "text/x-python",
   "name": "python",
   "nbconvert_exporter": "python",
   "pygments_lexer": "ipython3",
   "version": "3.10.8"
  }
 },
 "nbformat": 4,
 "nbformat_minor": 5
}
