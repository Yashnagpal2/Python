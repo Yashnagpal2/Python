{
 "cells": [
  {
   "cell_type": "markdown",
   "id": "f4bba530-8413-4d65-b230-7d31ab90be0a",
   "metadata": {},
   "source": [
    "Ques-1 -You are writing code for a company. The requirement of the company is that you create a python\n",
    "function that will check whether the password entered by the user is correct or not. The function should\n",
    "take the password as input and return the string “Valid Password” if the entered password follows the\n",
    "below-given password guidelines else it should return “Invalid Password”."
   ]
  },
  {
   "cell_type": "code",
   "execution_count": 26,
   "id": "afc66132-8777-4e07-b224-069665856d66",
   "metadata": {},
   "outputs": [],
   "source": [
    "import re\n",
    "\n",
    "\n",
    "def input_password(password):\n",
    "    if len(password) != 10:\n",
    "        return 'invalid password'\n",
    "    if not re.search(r'[a-z.]*[a-z]',password):\n",
    "        return 'invalid password'\n",
    "    if not re.search(r'[A-Z].*[A-Z]',password):\n",
    "        return 'invalid password'\n",
    "    if not re.search(r'/d',password):\n",
    "        return 'invalid paasword'\n",
    "    if not re.search(r'[@#$%^&*{3,}]',password):\n",
    "        return 'invalid password'\n",
    "    return 'valid password'"
   ]
  },
  {
   "cell_type": "code",
   "execution_count": 32,
   "id": "c14c503b-2639-4479-bf74-7e9d0ed375be",
   "metadata": {},
   "outputs": [
    {
     "name": "stdout",
     "output_type": "stream",
     "text": [
      "Invalid Password\n"
     ]
    }
   ],
   "source": [
    "password = \"123@YAsh^&\"\n",
    "result = check_password(password)\n",
    "print(result)"
   ]
  },
  {
   "cell_type": "markdown",
   "id": "e43f1da3-c43d-4fce-bad3-1ac1744b7285",
   "metadata": {},
   "source": [
    "Ques-2 -Solve the below-given questions using at least one of the following:\n",
    "1. Lambda function"
   ]
  },
  {
   "cell_type": "code",
   "execution_count": 35,
   "id": "52b78f9c-27f5-44a0-a82f-a8efdfc58c33",
   "metadata": {},
   "outputs": [
    {
     "name": "stdout",
     "output_type": "stream",
     "text": [
      "True\n"
     ]
    }
   ],
   "source": [
    "#Check if the string starts with a particular letter\n",
    "check_string = lambda string , letter: string.startswith(letter)\n",
    "result = check_string('hello world','h')\n",
    "print(result)"
   ]
  },
  {
   "cell_type": "code",
   "execution_count": 39,
   "id": "3a9f548e-cac3-4cdb-a08c-78ea435751f7",
   "metadata": {},
   "outputs": [
    {
     "name": "stdout",
     "output_type": "stream",
     "text": [
      "True\n"
     ]
    }
   ],
   "source": [
    "#Check if the string is numeric\n",
    "check_numeric = lambda string:string.isnumeric()\n",
    "result = check_numeric('123')\n",
    "print(result)"
   ]
  },
  {
   "cell_type": "code",
   "execution_count": 40,
   "id": "5eaf19c4-0ff5-4bf8-8aee-e378a215971e",
   "metadata": {},
   "outputs": [
    {
     "name": "stdout",
     "output_type": "stream",
     "text": [
      "[('orange', 80), ('mango', 99), ('grapes', 1000)]\n"
     ]
    }
   ],
   "source": [
    "#Sort a list of tuples having fruit names and their quantity. [(\"mango\",99),(\"orange\",80), (\"grapes\", 1000)\n",
    "fruits = [(\"mango\",99),(\"orange\",80), (\"grapes\", 1000)]\n",
    "sort_list = sorted(fruits , key = lambda x: x[1])\n",
    "print(sort_list)\n"
   ]
  },
  {
   "cell_type": "code",
   "execution_count": 44,
   "id": "cc8866ef-1bf0-4c04-a1bf-f009c943a2be",
   "metadata": {},
   "outputs": [
    {
     "name": "stdout",
     "output_type": "stream",
     "text": [
      "[1, 4, 9, 16, 25, 36, 49, 64, 81, 100]\n"
     ]
    }
   ],
   "source": [
    "#Find the squares of numbers from 1 to 10\n",
    "square =list(map( lambda x: x**2,range(1,11)))\n",
    "\n",
    "print(square)"
   ]
  },
  {
   "cell_type": "code",
   "execution_count": 49,
   "id": "cb570e28-c987-4e51-8c74-d3dd9adde3bc",
   "metadata": {},
   "outputs": [
    {
     "name": "stdout",
     "output_type": "stream",
     "text": [
      "[1.0, 1.2599210498948732, 1.4422495703074083, 1.5874010519681994, 1.7099759466766968, 1.8171205928321397, 1.912931182772389, 2.0, 2.080083823051904, 2.154434690031884]\n"
     ]
    }
   ],
   "source": [
    "#Find the cube root of numbers from 1 to 10\n",
    "import math\n",
    "cube_root = list(map(lambda x:math.pow(x,1/3),range(1,11)))\n",
    "print(cube_root)"
   ]
  },
  {
   "cell_type": "code",
   "execution_count": 52,
   "id": "214ad3cb-7d62-4786-b8e5-f93c2b9453b6",
   "metadata": {},
   "outputs": [
    {
     "name": "stdout",
     "output_type": "stream",
     "text": [
      "True\n"
     ]
    }
   ],
   "source": [
    "#Check if a given number is even\n",
    "check_even = lambda x :x%2==0\n",
    "a =check_even(4)\n",
    "print(a)"
   ]
  },
  {
   "cell_type": "code",
   "execution_count": 54,
   "id": "3d4b67b4-6918-4a1c-8365-942ad08d10ae",
   "metadata": {},
   "outputs": [
    {
     "name": "stdout",
     "output_type": "stream",
     "text": [
      "[1, 3, 7, 9]\n"
     ]
    }
   ],
   "source": [
    "#Filter odd numbers from the given list\n",
    "a=[1,2,3,4,6,7,8,9,10]\n",
    "filter_odd_no = list(filter(lambda x: x%2 != 0,a))\n",
    "print(filter_odd_no)"
   ]
  },
  {
   "cell_type": "code",
   "execution_count": 3,
   "id": "042a5ea9-10cd-4f03-bc24-528f9334038d",
   "metadata": {},
   "outputs": [
    {
     "name": "stdout",
     "output_type": "stream",
     "text": [
      "[1, 2, 3, 4, 5, 6]\n",
      "[-1, -2, -3, -4, -5]\n"
     ]
    }
   ],
   "source": [
    "#Sort a list of integers into positive and negative integers lists.\n",
    "l=[1,2,3,4,5,6,-1,-2,-3,-4,-5,0]\n",
    "sort_list = list(filter(lambda x:  x>0,l ))\n",
    "sort_list_1 = list(filter(lambda x: x<0 , l))\n",
    "print(sort_list)\n",
    "print(sort_list_1)"
   ]
  },
  {
   "cell_type": "code",
   "execution_count": null,
   "id": "db9ffb8f-3262-4b72-86ab-ada026ac5014",
   "metadata": {},
   "outputs": [],
   "source": []
  }
 ],
 "metadata": {
  "kernelspec": {
   "display_name": "Python 3 (ipykernel)",
   "language": "python",
   "name": "python3"
  },
  "language_info": {
   "codemirror_mode": {
    "name": "ipython",
    "version": 3
   },
   "file_extension": ".py",
   "mimetype": "text/x-python",
   "name": "python",
   "nbconvert_exporter": "python",
   "pygments_lexer": "ipython3",
   "version": "3.10.8"
  }
 },
 "nbformat": 4,
 "nbformat_minor": 5
}
