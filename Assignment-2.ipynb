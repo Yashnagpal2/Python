{
 "cells": [
  {
   "cell_type": "markdown",
   "id": "293c6afb-7072-493d-9d16-50243d48cbf4",
   "metadata": {},
   "source": [
    "Ques-1 - Which keyword is used to create a function? Create a function to return a list of odd numbers in the range of 1 to 25."
   ]
  },
  {
   "cell_type": "markdown",
   "id": "265e3d66-c5c6-4008-b349-1ff6eb664789",
   "metadata": {},
   "source": [
    "Answer\n",
    "The 'def' keyword used to create the function in python"
   ]
  },
  {
   "cell_type": "code",
   "execution_count": 14,
   "id": "4ffb93cd-7e31-45a0-8496-22da1061e7a7",
   "metadata": {},
   "outputs": [],
   "source": [
    "def get_odd_numbers():\n",
    "    odd_numbers = []\n",
    "    for i in range(1, 26):\n",
    "        if i % 2 == 1:\n",
    "            odd_numbers.append(i)\n",
    "    return odd_numbers\n"
   ]
  },
  {
   "cell_type": "code",
   "execution_count": 16,
   "id": "373db051-83d1-43ac-a901-22e3ea79b4b2",
   "metadata": {},
   "outputs": [
    {
     "data": {
      "text/plain": [
       "[1, 3, 5, 7, 9, 11, 13, 15, 17, 19, 21, 23, 25]"
      ]
     },
     "execution_count": 16,
     "metadata": {},
     "output_type": "execute_result"
    }
   ],
   "source": [
    "get_odd_numbers()"
   ]
  },
  {
   "cell_type": "markdown",
   "id": "f0521246-ff51-4ec3-aeb7-f1ad9b641f86",
   "metadata": {},
   "source": [
    "Ques-2-Why *args and **kwargs is used in some functions? Create a function each for *args and **kwargs\n",
    "to demonstrate their use."
   ]
  },
  {
   "cell_type": "markdown",
   "id": "3ae7f497-1f83-4814-ba07-f771cffe5c4c",
   "metadata": {},
   "source": [
    "Answer\n",
    "*args is used to pass any number to argument by placing them in a tuple.It is also used when you dont know how many argument should be pass"
   ]
  },
  {
   "cell_type": "code",
   "execution_count": 28,
   "id": "f037c5f7-2242-4cf8-949f-c66c1a8cfe6f",
   "metadata": {},
   "outputs": [],
   "source": [
    "def find_sum(*args):\n",
    "    result = 0\n",
    "    for num in args:\n",
    "        result += num\n",
    "    return result"
   ]
  },
  {
   "cell_type": "code",
   "execution_count": 34,
   "id": "6c198e18-9133-4133-ad02-8cdfb7d3cbee",
   "metadata": {},
   "outputs": [
    {
     "data": {
      "text/plain": [
       "3"
      ]
     },
     "execution_count": 34,
     "metadata": {},
     "output_type": "execute_result"
    }
   ],
   "source": [
    "find_sum(1,2)"
   ]
  },
  {
   "cell_type": "markdown",
   "id": "5bcd6c43-8ac7-4c7a-8abd-3489ec01f859",
   "metadata": {},
   "source": [
    "**kwargs - it allow to pass any variable by placing them in dictionary"
   ]
  },
  {
   "cell_type": "code",
   "execution_count": 35,
   "id": "40651bb0-6955-47dd-90b1-6ff3d7cf24c7",
   "metadata": {},
   "outputs": [],
   "source": [
    "def creating_dict(**kwargs):\n",
    "    for key , value in kwargs.items():\n",
    "        print(f'{key}:{value}')"
   ]
  },
  {
   "cell_type": "code",
   "execution_count": 36,
   "id": "94c849c0-02a2-4283-a8b8-abbc28acf67b",
   "metadata": {},
   "outputs": [
    {
     "name": "stdout",
     "output_type": "stream",
     "text": [
      "x:yash\n",
      "y:1\n"
     ]
    }
   ],
   "source": [
    "creating_dict(x='yash',y=1)"
   ]
  },
  {
   "cell_type": "markdown",
   "id": "d85201ba-9da2-4910-9d26-3ece6ce7245c",
   "metadata": {},
   "source": [
    "Ques-3 -What is an iterator in python? Name the method used to initialise the iterator object and the method\n",
    "used for iteration. Use these methods to print the first five elements of the given list [2, 4, 6, 8, 10, 12, 14,\n",
    "16, 18, 20]."
   ]
  },
  {
   "cell_type": "markdown",
   "id": "4069a9a8-4af7-44ab-8cda-deb4fb1b1254",
   "metadata": {},
   "source": [
    "Answer - \n",
    "Iterator- it is an object which allow you to transverse hrough a collection of values one by one. It implements the iterator protocol, which requires that the object have a __iter__() method that returns itself and a __next__() method that returns the next value in the sequence.\n",
    "\n",
    "The iter() method is used to initialize an iterator object from an iterable. The next() method is used to iterate through the elements of an iterator object and retrieve the next element in the sequence."
   ]
  },
  {
   "cell_type": "code",
   "execution_count": 39,
   "id": "7fde1874-b1de-4fa0-aa24-6b870d5fff23",
   "metadata": {},
   "outputs": [
    {
     "name": "stdout",
     "output_type": "stream",
     "text": [
      "2\n",
      "4\n",
      "6\n",
      "8\n",
      "10\n"
     ]
    }
   ],
   "source": [
    "l=[2,4,6,8,10,12,14,16,18,20]\n",
    "iterator = iter(l)\n",
    "for i in range(5):\n",
    "    a=next(iterator)\n",
    "    print(a)"
   ]
  },
  {
   "cell_type": "markdown",
   "id": "cf0454e3-30af-4a69-abc0-4443f84c3e6c",
   "metadata": {},
   "source": [
    "Ques-4 What is a generator function in python? Why yield keyword is used? Give an example of a generator\n",
    "function."
   ]
  },
  {
   "cell_type": "markdown",
   "id": "268112ba-67f4-4138-92ea-b19162670f1f",
   "metadata": {},
   "source": [
    "Answer-\n",
    "A generator function is similar to a regular function, but instead of returning a value and terminating, it can yield a value and suspend its execution state, allowing it to be resumed later.\n",
    "\n",
    "The yield keyword is used to yield a value from a generator function and suspend its execution state. When the yield keyword is encountered, the function's state is saved, and the yielded value is returned to the caller. The function can then be resumed later, and it will continue executing from where it left off, until it either yields another value or reaches the end of the function."
   ]
  },
  {
   "cell_type": "code",
   "execution_count": 47,
   "id": "a72e1fc2-cafb-4db1-9838-f8bd96c09319",
   "metadata": {},
   "outputs": [],
   "source": [
    "def even_no(n):\n",
    "    i=0\n",
    "    while i<n:\n",
    "        yield i*2\n",
    "        i=i+1\n",
    "       \n"
   ]
  },
  {
   "cell_type": "code",
   "execution_count": 49,
   "id": "8cd0f3df-99ab-4c3e-8130-33d71be90a20",
   "metadata": {},
   "outputs": [
    {
     "data": {
      "text/plain": [
       "<generator object even_no at 0x7fe15ca75770>"
      ]
     },
     "execution_count": 49,
     "metadata": {},
     "output_type": "execute_result"
    }
   ],
   "source": [
    "even_nums = even_no(5)\n",
    "even_nums\n",
    "        "
   ]
  },
  {
   "cell_type": "code",
   "execution_count": 50,
   "id": "629fba4e-a208-4bc0-8129-5e77f0c3f8be",
   "metadata": {},
   "outputs": [
    {
     "name": "stdout",
     "output_type": "stream",
     "text": [
      "0\n",
      "2\n",
      "4\n",
      "6\n",
      "8\n"
     ]
    }
   ],
   "source": [
    "for num in even_nums:\n",
    "    print(num)\n",
    "            "
   ]
  },
  {
   "cell_type": "markdown",
   "id": "0a5737c5-09d1-4778-982c-d141baa5527a",
   "metadata": {},
   "source": [
    "Ques-5-Create a generator function for prime numbers less than 1000. Use the next() method to print the \n",
    "first 20 prime numbers."
   ]
  },
  {
   "cell_type": "code",
   "execution_count": 1,
   "id": "f69ae276-fe9d-43aa-bf63-75b82b2f985d",
   "metadata": {},
   "outputs": [],
   "source": [
    "def primes():\n",
    "    \"\"\"Generate prime numbers less than 1000.\"\"\"\n",
    "    yield 2\n",
    "    yield 3\n",
    "    yield 5\n",
    "    yield 7\n",
    "\n",
    "    for i in range(11, 1000, 2):\n",
    "        for j in range(3, int(i ** 0.5) + 1, 2):\n",
    "            if i % j == 0:\n",
    "                break\n",
    "        else:\n",
    "            yield i\n"
   ]
  },
  {
   "cell_type": "code",
   "execution_count": 2,
   "id": "e4b7ff58-f2c7-49ab-ba67-97f11ee25e7b",
   "metadata": {},
   "outputs": [
    {
     "name": "stdout",
     "output_type": "stream",
     "text": [
      "2\n",
      "3\n",
      "5\n",
      "7\n",
      "11\n",
      "13\n",
      "17\n",
      "19\n",
      "23\n",
      "29\n",
      "31\n",
      "37\n",
      "41\n",
      "43\n",
      "47\n",
      "53\n",
      "59\n",
      "61\n",
      "67\n",
      "71\n"
     ]
    }
   ],
   "source": [
    "prime_generator = primes()\n",
    "\n",
    "for i in range(20):\n",
    "    print(next(prime_generator))"
   ]
  },
  {
   "cell_type": "markdown",
   "id": "77b8722f-759a-4953-96b3-a409cd3566b9",
   "metadata": {},
   "source": [
    "Ques-6- Write a python program to print the first 10 Fibonacci numbers using a while loop."
   ]
  },
  {
   "cell_type": "code",
   "execution_count": 7,
   "id": "b6f51dc2-b7f4-406c-a603-13cba544b21e",
   "metadata": {},
   "outputs": [
    {
     "name": "stdout",
     "output_type": "stream",
     "text": [
      "1\n",
      "2\n",
      "3\n",
      "5\n",
      "8\n",
      "13\n",
      "21\n",
      "34\n",
      "55\n",
      "89\n"
     ]
    }
   ],
   "source": [
    "a,b=0,1\n",
    "count=0\n",
    "while count < 10:\n",
    "    c=a+b\n",
    "    a,b=b,c\n",
    "    print(c)\n",
    "    count=count+1\n",
    "    "
   ]
  },
  {
   "cell_type": "markdown",
   "id": "c24234d8-e713-45a0-8a0a-644b9e06e64b",
   "metadata": {},
   "source": [
    "Ques-7 - Write a List Comprehension to iterate through the given string: ‘pwskills’."
   ]
  },
  {
   "cell_type": "code",
   "execution_count": 8,
   "id": "9d34e33b-4298-46d8-b0c9-5932b0a9b30f",
   "metadata": {},
   "outputs": [
    {
     "name": "stdout",
     "output_type": "stream",
     "text": [
      "['p', 'w', 's', 'k', 'i', 'l', 'l', 's']\n"
     ]
    }
   ],
   "source": [
    "s=('pwskills')\n",
    "output=[char for char in s]\n",
    "print(output)"
   ]
  },
  {
   "cell_type": "markdown",
   "id": "6887a675-e687-4fc1-be0d-7f7f5d820919",
   "metadata": {},
   "source": [
    "Ques-8- Write a python program to check whether a given number is Palindrome or not using a while loop"
   ]
  },
  {
   "cell_type": "code",
   "execution_count": 11,
   "id": "2bf8cf04-91cf-45e9-b596-192b0b8034a5",
   "metadata": {},
   "outputs": [
    {
     "name": "stdin",
     "output_type": "stream",
     "text": [
      "Enter the no 12321\n"
     ]
    },
    {
     "name": "stdout",
     "output_type": "stream",
     "text": [
      "12321 it is not palidrome\n",
      "12321 it is not palidrome\n",
      "12321 it is not palidrome\n",
      "12321 it is not palidrome\n",
      "12321 it is a palidrome\n"
     ]
    }
   ],
   "source": [
    "num=int(input('Enter the no'))\n",
    "reverse=0\n",
    "temp=num\n",
    "while temp > 0:\n",
    "    digit = temp%10\n",
    "    reverse = reverse *10+digit\n",
    "    temp = temp//10\n",
    "    if num == reverse:\n",
    "        print(num,'it is a palidrome')\n",
    "    else:\n",
    "        print(num,'it is not palidrome')"
   ]
  },
  {
   "cell_type": "markdown",
   "id": "2f727145-4f88-43b0-8447-46e2f40b4e60",
   "metadata": {},
   "source": [
    "Ques-9- Write a code to print odd numbers from 1 to 100 using list comprehension"
   ]
  },
  {
   "cell_type": "code",
   "execution_count": 19,
   "id": "f177b0f6-687f-4623-98ee-5b104780113a",
   "metadata": {},
   "outputs": [
    {
     "data": {
      "text/plain": [
       "[1,\n",
       " 3,\n",
       " 5,\n",
       " 7,\n",
       " 9,\n",
       " 11,\n",
       " 13,\n",
       " 15,\n",
       " 17,\n",
       " 19,\n",
       " 21,\n",
       " 23,\n",
       " 25,\n",
       " 27,\n",
       " 29,\n",
       " 31,\n",
       " 33,\n",
       " 35,\n",
       " 37,\n",
       " 39,\n",
       " 41,\n",
       " 43,\n",
       " 45,\n",
       " 47,\n",
       " 49,\n",
       " 51,\n",
       " 53,\n",
       " 55,\n",
       " 57,\n",
       " 59,\n",
       " 61,\n",
       " 63,\n",
       " 65,\n",
       " 67,\n",
       " 69,\n",
       " 71,\n",
       " 73,\n",
       " 75,\n",
       " 77,\n",
       " 79,\n",
       " 81,\n",
       " 83,\n",
       " 85,\n",
       " 87,\n",
       " 89,\n",
       " 91,\n",
       " 93,\n",
       " 95,\n",
       " 97,\n",
       " 99]"
      ]
     },
     "execution_count": 19,
     "metadata": {},
     "output_type": "execute_result"
    }
   ],
   "source": [
    "[i for i in range(1,101) if i%2==1]"
   ]
  },
  {
   "cell_type": "code",
   "execution_count": null,
   "id": "5784f26d-7ec5-4b5b-be2c-3b7914583cf3",
   "metadata": {},
   "outputs": [],
   "source": []
  }
 ],
 "metadata": {
  "kernelspec": {
   "display_name": "Python 3 (ipykernel)",
   "language": "python",
   "name": "python3"
  },
  "language_info": {
   "codemirror_mode": {
    "name": "ipython",
    "version": 3
   },
   "file_extension": ".py",
   "mimetype": "text/x-python",
   "name": "python",
   "nbconvert_exporter": "python",
   "pygments_lexer": "ipython3",
   "version": "3.10.8"
  }
 },
 "nbformat": 4,
 "nbformat_minor": 5
}
