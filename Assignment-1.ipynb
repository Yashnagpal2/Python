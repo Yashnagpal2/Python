{
 "cells": [
  {
   "cell_type": "markdown",
   "id": "9b1d4e5f-c692-436a-bf58-3fa41e828b5b",
   "metadata": {},
   "source": [
    "Ques-1\n",
    "Explain with an example each when to use a for loop and a while loop."
   ]
  },
  {
   "cell_type": "markdown",
   "id": "22e08bd5-77cb-4161-80b0-590e91670f20",
   "metadata": {},
   "source": [
    "A for loop is typically used when you know the number of times you need to iterate through a block of code.\n",
    "It's a great choice when you have a collection of items, like a list or array, and you want to perform a \n",
    "specific action on each item in the collection. Here's an example of a for loop in Python that prints the \n",
    "numbers from 1 to 5:"
   ]
  },
  {
   "cell_type": "code",
   "execution_count": 1,
   "id": "3eb9d5cf-7431-4323-8abc-8bbc2d9c4532",
   "metadata": {},
   "outputs": [
    {
     "name": "stdout",
     "output_type": "stream",
     "text": [
      "0\n",
      "1\n",
      "2\n",
      "3\n",
      "4\n",
      "5\n"
     ]
    }
   ],
   "source": [
    "for i in range(0,6):\n",
    "    print(i)"
   ]
  },
  {
   "cell_type": "markdown",
   "id": "75f5fc93-69d9-45a3-bb24-e5526cff53c7",
   "metadata": {},
   "source": [
    "In this example, the range() function creates a sequence of numbers from 1 to 5, and the for loop iterates through each number in the sequence, printing it to the console."
   ]
  },
  {
   "cell_type": "markdown",
   "id": "4c20fe5a-c1ac-4978-9d3d-bdea87b5a0d8",
   "metadata": {},
   "source": [
    "On the other hand, a while loop is typically used when you don't know how many times you need to iterate through a block of code. It's useful when you need to keep looping until a certain condition is met. Here's an example of a while loop in Python that prints the numbers from 1 to 5:"
   ]
  },
  {
   "cell_type": "code",
   "execution_count": 2,
   "id": "672bd3ee-6a39-42a6-a935-fec98fb6afc4",
   "metadata": {},
   "outputs": [
    {
     "name": "stdout",
     "output_type": "stream",
     "text": [
      "1\n",
      "2\n",
      "3\n",
      "4\n",
      "5\n"
     ]
    }
   ],
   "source": [
    "i = 1\n",
    "while i <= 5:\n",
    "    print(i)\n",
    "    i += 1"
   ]
  },
  {
   "cell_type": "markdown",
   "id": "16fc1f19-f61e-46c8-a864-0c63d1161d60",
   "metadata": {},
   "source": [
    "In this example, the while loop continues to run as long as the condition i <= 5 is true. The variable i starts at 1 and is incremented by 1 each time through the loop until it reaches 6, at which point the loop stops.\n",
    "\n",
    "So, to summarize, use a for loop when you know how many times you need to iterate through a block of code, and use a while loop when you need to keep looping until a certain condition is met."
   ]
  },
  {
   "cell_type": "markdown",
   "id": "cba8e73e-bbe4-473a-965e-822a5e8a552f",
   "metadata": {},
   "source": [
    "Ques-2\n",
    "Write a python program to print the sum and product of the first 10 natural numbers using for\n",
    "and while loop."
   ]
  },
  {
   "cell_type": "code",
   "execution_count": 3,
   "id": "686cf749-dc06-4248-887e-9408204f214e",
   "metadata": {},
   "outputs": [],
   "source": [
    "#for loop"
   ]
  },
  {
   "cell_type": "code",
   "execution_count": 4,
   "id": "bd72cdf6-56ff-4575-a7a2-9ed709384b11",
   "metadata": {},
   "outputs": [
    {
     "name": "stdout",
     "output_type": "stream",
     "text": [
      "Sum of first 10 natural numbers: 55\n",
      "Product of first 10 natural numbers: 3628800\n"
     ]
    }
   ],
   "source": [
    "sum = 0\n",
    "product = 1\n",
    "for i in range(1, 11):\n",
    "    sum += i\n",
    "    product *= i\n",
    "print(\"Sum of first 10 natural numbers:\", sum)\n",
    "print(\"Product of first 10 natural numbers:\", product)\n"
   ]
  },
  {
   "cell_type": "code",
   "execution_count": 5,
   "id": "c14e2df9-fb44-4013-9808-f0e27aea1a3a",
   "metadata": {},
   "outputs": [],
   "source": [
    "#while loop"
   ]
  },
  {
   "cell_type": "code",
   "execution_count": 7,
   "id": "132d728e-407f-4ef7-95a4-d2af5307da82",
   "metadata": {},
   "outputs": [
    {
     "name": "stdout",
     "output_type": "stream",
     "text": [
      "Sum of first 10 natural numbers: 55\n",
      "Product of first 10 natural numbers: 3628800\n"
     ]
    }
   ],
   "source": [
    "sum = 0\n",
    "product = 1\n",
    "i = 1\n",
    "while i <= 10:\n",
    "    sum += i\n",
    "    product *= i\n",
    "    i += 1\n",
    "print(\"Sum of first 10 natural numbers:\", sum)\n",
    "print(\"Product of first 10 natural numbers:\", product)"
   ]
  },
  {
   "cell_type": "markdown",
   "id": "180ce145-7397-4e56-a52e-d44f517938f3",
   "metadata": {},
   "source": [
    "In both cases, the program calculates the sum and product of the numbers 1 to 10. The for loop iterates through the range of numbers from 1 to 10, and the while loop iterates until i reaches 11. Inside the loop, the program adds each number to the sum and multiplies each number with the product. Finally, the program prints the results."
   ]
  },
  {
   "cell_type": "markdown",
   "id": "a9e00c2b-6ddf-4ed5-b7fc-28e5fcf098de",
   "metadata": {},
   "source": [
    "ques-3\n",
    "Create a python program to compute the electricity bill for a household."
   ]
  },
  {
   "cell_type": "code",
   "execution_count": 15,
   "id": "74d49960-a369-4748-9097-bdce80d7e64f",
   "metadata": {},
   "outputs": [
    {
     "name": "stdin",
     "output_type": "stream",
     "text": [
      "Enter the units of electricity consumed:  310\n"
     ]
    },
    {
     "name": "stdout",
     "output_type": "stream",
     "text": [
      "Your electricity bill is: Rs.  2250.0\n"
     ]
    }
   ],
   "source": [
    "units_consumed = int(input(\"Enter the units of electricity consumed: \"))\n",
    "total_bill = 0\n",
    "remaining_units = 0\n",
    "\n",
    "if units_consumed <= 100:\n",
    "    total_bill = units_consumed * 4.5\n",
    "else:\n",
    "    total_bill = 100 * 4.5\n",
    "    remaining_units = units_consumed - 100\n",
    "\n",
    "# calculate bill for next 100 units\n",
    "if remaining_units > 0:\n",
    "    if remaining_units <= 100:\n",
    "        total_bill += remaining_units * 6\n",
    "    else:\n",
    "        total_bill += 100 * 6\n",
    "        remaining_units -= 100\n",
    "\n",
    "if remaining_units > 0:\n",
    "    if remaining_units <= 100:\n",
    "        total_bill += remaining_units * 10\n",
    "    else:\n",
    "        total_bill += 100 * 10\n",
    "        remaining_units -= 100\n",
    "        \n",
    "if remaining_units > 0:\n",
    "    total_bill += remaining_units * 20\n",
    "\n",
    "\n",
    "print(\"Your electricity bill is: Rs. \", total_bill)\n"
   ]
  },
  {
   "cell_type": "markdown",
   "id": "68562edb-0770-42ed-a1f9-970e5e1502b4",
   "metadata": {},
   "source": [
    "ques-4\n",
    "Create a list of numbers from 1 to 100. Use for loop and while loop to calculate the cube of each\n",
    "number and if the cube of that number is divisible by 4 or 5 then append that number in a list and print\n",
    "that list."
   ]
  },
  {
   "cell_type": "code",
   "execution_count": 22,
   "id": "b0e4c58d-1c97-47e7-8276-10234a0760dd",
   "metadata": {},
   "outputs": [
    {
     "name": "stdout",
     "output_type": "stream",
     "text": [
      "[2, 4, 5, 6, 8, 10, 12, 14, 15, 16, 18, 20, 22, 24, 25, 26, 28, 30, 32, 34, 35, 36, 38, 40, 42, 44, 45, 46, 48, 50, 52, 54, 55, 56, 58, 60, 62, 64, 65, 66, 68, 70, 72, 74, 75, 76, 78, 80, 82, 84, 85, 86, 88, 90, 92, 94, 95, 96, 98, 100]\n"
     ]
    }
   ],
   "source": [
    "#for loop\n",
    "l=list(range(1,101))\n",
    "cubes = []\n",
    "for i in l:\n",
    "    cube=i**3\n",
    "    if cube %4 ==0 or cube %5 ==0:\n",
    "        cubes.append(i)\n",
    "print(cubes)\n",
    "    "
   ]
  },
  {
   "cell_type": "code",
   "execution_count": 23,
   "id": "82ee93f9-b71d-4602-8df5-bcf94ae4fbd9",
   "metadata": {},
   "outputs": [
    {
     "name": "stdout",
     "output_type": "stream",
     "text": [
      "[2, 4, 5, 6, 8, 10, 12, 14, 15, 16, 18, 20, 22, 24, 25, 26, 28, 30, 32, 34, 35, 36, 38, 40, 42, 44, 45, 46, 48, 50, 52, 54, 55, 56, 58, 60, 62, 64, 65, 66, 68, 70, 72, 74, 75, 76, 78, 80, 82, 84, 85, 86, 88, 90, 92, 94, 95, 96, 98, 100]\n"
     ]
    }
   ],
   "source": [
    "#while loop\n",
    "cubes = []\n",
    "i = 1\n",
    "while i<=100:\n",
    "    cube = i**3\n",
    "    if cube % 4 == 0 or cube % 5 == 0:\n",
    "        cubes.append(i)\n",
    "    i +=1\n",
    "print(cubes)"
   ]
  },
  {
   "cell_type": "markdown",
   "id": "46babf41-ee3a-4a8e-8d0d-4e3925d1047f",
   "metadata": {},
   "source": [
    "ques-5\n",
    "Write a program to filter count vowels in the below-given string.\n",
    "string = \"I want to become a data scientist\""
   ]
  },
  {
   "cell_type": "code",
   "execution_count": 28,
   "id": "0952af8e-0450-4009-a771-f9fcbd494055",
   "metadata": {},
   "outputs": [
    {
     "name": "stdout",
     "output_type": "stream",
     "text": [
      "Vowels :  ['i', 'a', 'o', 'e', 'o', 'e', 'a', 'a', 'a', 'i', 'e', 'i']\n",
      "No of Vowels :  12\n"
     ]
    }
   ],
   "source": [
    "a=list(\"i want to become a data scientist\")\n",
    "def vowel(x):\n",
    "    v=('a','e','i','o','u')\n",
    "    return x in v\n",
    "\n",
    "b=list(filter(vowel,a))\n",
    "print(\"Vowels : \",b)\n",
    "print(\"No of Vowels : \",len(b))\n",
    "        "
   ]
  },
  {
   "cell_type": "code",
   "execution_count": null,
   "id": "4861fbc3-2b1f-45bf-bd9d-de024a1065d9",
   "metadata": {},
   "outputs": [],
   "source": []
  }
 ],
 "metadata": {
  "kernelspec": {
   "display_name": "Python 3 (ipykernel)",
   "language": "python",
   "name": "python3"
  },
  "language_info": {
   "codemirror_mode": {
    "name": "ipython",
    "version": 3
   },
   "file_extension": ".py",
   "mimetype": "text/x-python",
   "name": "python",
   "nbconvert_exporter": "python",
   "pygments_lexer": "ipython3",
   "version": "3.10.8"
  }
 },
 "nbformat": 4,
 "nbformat_minor": 5
}
