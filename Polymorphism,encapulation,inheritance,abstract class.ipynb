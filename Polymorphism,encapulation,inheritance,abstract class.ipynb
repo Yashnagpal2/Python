{
 "cells": [
  {
   "cell_type": "markdown",
   "id": "c6a06edd-17a2-41ae-afd6-048a253405a7",
   "metadata": {},
   "source": [
    "#polymorphism\n",
    "#yeh dikhata ha ki hmara behaviour different ha har jagah example: ma abhi interview de rha hu toh mera behaviour alag ha aur ma abhi ghr jaunga toh mera behavaiour alag hga ese hi bnda ma ek hu aur mera behaviour change hga"
   ]
  },
  {
   "cell_type": "code",
   "execution_count": 83,
   "id": "38182575-c55f-41b4-89a9-932b55eff938",
   "metadata": {},
   "outputs": [],
   "source": [
    "def test(a,b):\n",
    "    return a+b"
   ]
  },
  {
   "cell_type": "code",
   "execution_count": 84,
   "id": "0589e554-ff78-451c-a244-0b1bf6a5a31d",
   "metadata": {},
   "outputs": [
    {
     "data": {
      "text/plain": [
       "9"
      ]
     },
     "execution_count": 84,
     "metadata": {},
     "output_type": "execute_result"
    }
   ],
   "source": [
    "test(4,5)"
   ]
  },
  {
   "cell_type": "code",
   "execution_count": 85,
   "id": "2344813f-a80a-4856-ab30-c2d3070be128",
   "metadata": {},
   "outputs": [
    {
     "data": {
      "text/plain": [
       "'sudh kumar'"
      ]
     },
     "execution_count": 85,
     "metadata": {},
     "output_type": "execute_result"
    }
   ],
   "source": [
    "test('sudh ','kumar')"
   ]
  },
  {
   "cell_type": "code",
   "execution_count": 86,
   "id": "a0d1bba2-7b39-4e6d-aaa5-10095a82cfb2",
   "metadata": {},
   "outputs": [
    {
     "data": {
      "text/plain": [
       "'yashnagpal'"
      ]
     },
     "execution_count": 86,
     "metadata": {},
     "output_type": "execute_result"
    }
   ],
   "source": [
    "test('yash','nagpal')"
   ]
  },
  {
   "cell_type": "code",
   "execution_count": 87,
   "id": "89f883bf-f558-4664-8264-723fb6429195",
   "metadata": {},
   "outputs": [
    {
     "data": {
      "text/plain": [
       "[1, 2, 3, 4, 5, 5, 6]"
      ]
     },
     "execution_count": 87,
     "metadata": {},
     "output_type": "execute_result"
    }
   ],
   "source": [
    "test([1,2,3],[4,5,5,6])"
   ]
  },
  {
   "cell_type": "code",
   "execution_count": 88,
   "id": "730c61d0-75e9-4b4c-89c3-c2027f847375",
   "metadata": {},
   "outputs": [],
   "source": [
    "class data_science:\n",
    "    \n",
    "    def syllabus(self):\n",
    "        print('this is my syllabus for data science master')"
   ]
  },
  {
   "cell_type": "code",
   "execution_count": 89,
   "id": "a1cc39ad-b4b6-4b2d-9fb3-b11f8ca9980e",
   "metadata": {},
   "outputs": [],
   "source": [
    "class web_dev:\n",
    "    \n",
    "    def syllabus(self):\n",
    "        print('this is my syllabus for web dev')"
   ]
  },
  {
   "cell_type": "code",
   "execution_count": 90,
   "id": "38ec5836-f2a8-4ca3-babb-9656d70e3141",
   "metadata": {},
   "outputs": [],
   "source": [
    "def class_parcer(class_obj):\n",
    "    for i in class_obj:\n",
    "        i.syllabus()"
   ]
  },
  {
   "cell_type": "code",
   "execution_count": 91,
   "id": "d7ba2d9c-5660-4f23-b7a2-b6c798f94947",
   "metadata": {},
   "outputs": [],
   "source": [
    "data_science = data_science()"
   ]
  },
  {
   "cell_type": "code",
   "execution_count": 92,
   "id": "ac090cf3-2f60-4d24-9453-6d2724186fbe",
   "metadata": {},
   "outputs": [],
   "source": [
    "web_dev = web_dev()"
   ]
  },
  {
   "cell_type": "code",
   "execution_count": 93,
   "id": "def00be4-1192-40f7-b8af-c7db89317764",
   "metadata": {},
   "outputs": [],
   "source": [
    "class_obj = [data_science , web_dev]"
   ]
  },
  {
   "cell_type": "code",
   "execution_count": 94,
   "id": "d22faad9-76bf-4017-8ef6-1150919e20d1",
   "metadata": {},
   "outputs": [
    {
     "name": "stdout",
     "output_type": "stream",
     "text": [
      "this is my syllabus for data science master\n",
      "this is my syllabus for web dev\n"
     ]
    }
   ],
   "source": [
    "class_parcer(class_obj)"
   ]
  },
  {
   "cell_type": "code",
   "execution_count": 95,
   "id": "e1e9a264-5077-4147-aa18-b5db7c073cc6",
   "metadata": {},
   "outputs": [],
   "source": [
    "#Encapsulation"
   ]
  },
  {
   "cell_type": "code",
   "execution_count": 96,
   "id": "e5dc1eb7-deb0-4dc7-9df2-22cda30b33f6",
   "metadata": {},
   "outputs": [],
   "source": [
    "class test:\n",
    "    \n",
    "    def __init__(self,a,b):\n",
    "        self.a = a\n",
    "        self.b = b"
   ]
  },
  {
   "cell_type": "code",
   "execution_count": 97,
   "id": "97049c88-a47a-4ed6-9e4c-895818cb8469",
   "metadata": {},
   "outputs": [],
   "source": [
    "t = test(23,34)"
   ]
  },
  {
   "cell_type": "code",
   "execution_count": 98,
   "id": "78fbc2d2-af6b-4849-8935-9721b3dd0d2f",
   "metadata": {},
   "outputs": [],
   "source": [
    "t.a = 2343"
   ]
  },
  {
   "cell_type": "code",
   "execution_count": 99,
   "id": "c1d3d5a9-7fe7-469f-9f11-f59bd8917fbf",
   "metadata": {},
   "outputs": [
    {
     "data": {
      "text/plain": [
       "2343"
      ]
     },
     "execution_count": 99,
     "metadata": {},
     "output_type": "execute_result"
    }
   ],
   "source": [
    "t.a"
   ]
  },
  {
   "cell_type": "code",
   "execution_count": 100,
   "id": "26e7290b-95c8-4486-aa6e-2ae05ebde824",
   "metadata": {},
   "outputs": [],
   "source": [
    "class car:\n",
    "    def __init__(self , year , make , model , speed):\n",
    "        \n",
    "        self.__year = year\n",
    "        #'__'yeh lgate hi python wo variable hide kr deta ha\n",
    "        self.__make = make\n",
    "        self.__model = model\n",
    "        self.__speed = 0\n",
    "        \n",
    "    def set_speed(self,speed):\n",
    "        self.__speed = 0 if speed < 0 else speed\n",
    "        \n",
    "    def get_speed(self):\n",
    "        return self.__speed"
   ]
  },
  {
   "cell_type": "code",
   "execution_count": 101,
   "id": "04c72b1f-a3ea-4066-9f2b-245cf6077027",
   "metadata": {},
   "outputs": [],
   "source": [
    "c = car(2021,'toyota','innova',12)"
   ]
  },
  {
   "cell_type": "code",
   "execution_count": 102,
   "id": "0931c5f5-1573-486b-b54a-8d1fc53d6cc8",
   "metadata": {},
   "outputs": [
    {
     "ename": "AttributeError",
     "evalue": "'car' object has no attribute '__year'",
     "output_type": "error",
     "traceback": [
      "\u001b[0;31m---------------------------------------------------------------------------\u001b[0m",
      "\u001b[0;31mAttributeError\u001b[0m                            Traceback (most recent call last)",
      "Cell \u001b[0;32mIn[102], line 1\u001b[0m\n\u001b[0;32m----> 1\u001b[0m \u001b[43mc\u001b[49m\u001b[38;5;241;43m.\u001b[39;49m\u001b[43m__year\u001b[49m \n\u001b[1;32m      2\u001b[0m \u001b[38;5;66;03m#humne wha use private kia tha jiski wajah se wo yha dikh nhi rha\u001b[39;00m\n",
      "\u001b[0;31mAttributeError\u001b[0m: 'car' object has no attribute '__year'"
     ]
    }
   ],
   "source": [
    "c.__year \n",
    "#humne wha use private kia tha jiski wajah se wo yha dikh nhi rha"
   ]
  },
  {
   "cell_type": "code",
   "execution_count": 103,
   "id": "fc83d6de-969d-4607-9769-9b53f84d3317",
   "metadata": {},
   "outputs": [
    {
     "data": {
      "text/plain": [
       "2021"
      ]
     },
     "execution_count": 103,
     "metadata": {},
     "output_type": "execute_result"
    }
   ],
   "source": [
    "c._car__year\n",
    "# ab print krne ka liye hume yha _class ka name dlna pdega phir variable ka name"
   ]
  },
  {
   "cell_type": "code",
   "execution_count": 104,
   "id": "d9eb3184-0e9c-41fb-b2be-b1237f977be3",
   "metadata": {},
   "outputs": [],
   "source": [
    "c.set_speed(-343)"
   ]
  },
  {
   "cell_type": "code",
   "execution_count": 105,
   "id": "df7895e6-7912-4a9d-a90c-5a3b1adfd8bd",
   "metadata": {},
   "outputs": [
    {
     "data": {
      "text/plain": [
       "0"
      ]
     },
     "execution_count": 105,
     "metadata": {},
     "output_type": "execute_result"
    }
   ],
   "source": [
    "c.get_speed()"
   ]
  },
  {
   "cell_type": "code",
   "execution_count": 106,
   "id": "7894f554-9cfc-486a-b59c-9c650cb52a74",
   "metadata": {},
   "outputs": [],
   "source": [
    "c.set_speed(323)"
   ]
  },
  {
   "cell_type": "code",
   "execution_count": 107,
   "id": "1da281c7-ab41-427a-8c85-16920d824e01",
   "metadata": {},
   "outputs": [
    {
     "data": {
      "text/plain": [
       "323"
      ]
     },
     "execution_count": 107,
     "metadata": {},
     "output_type": "execute_result"
    }
   ],
   "source": [
    "c.get_speed()"
   ]
  },
  {
   "cell_type": "code",
   "execution_count": 108,
   "id": "8f96197c-2857-4e0f-b40b-7397fdb4c10c",
   "metadata": {},
   "outputs": [],
   "source": [
    "class bank_account():\n",
    "    \n",
    "    def __init__(self , balance):\n",
    "        self.__balance = balance\n",
    "        \n",
    "    def deposit(self,amount):\n",
    "        self.__balance = amount + self.__balance\n",
    "        \n",
    "    def withdraw(self , amount):\n",
    "        if self.__balance >= amount:\n",
    "            self.__balance = self.__balance - amount\n",
    "            return True\n",
    "        else:\n",
    "            return False\n",
    "    def get_balance(self):\n",
    "        return self.__balance\n",
    "        "
   ]
  },
  {
   "cell_type": "code",
   "execution_count": 109,
   "id": "c2eef056-1f95-471e-acfc-055900870a6c",
   "metadata": {},
   "outputs": [],
   "source": [
    "yash = bank_account(1000)"
   ]
  },
  {
   "cell_type": "code",
   "execution_count": 110,
   "id": "68950947-abcd-4c48-9927-48db2e389d28",
   "metadata": {},
   "outputs": [
    {
     "data": {
      "text/plain": [
       "1000"
      ]
     },
     "execution_count": 110,
     "metadata": {},
     "output_type": "execute_result"
    }
   ],
   "source": [
    "yash.get_balance()"
   ]
  },
  {
   "cell_type": "code",
   "execution_count": 111,
   "id": "311c1061-fe78-47b5-b91a-cbc3a5f9a3c3",
   "metadata": {},
   "outputs": [],
   "source": [
    "yash.deposit(5000)"
   ]
  },
  {
   "cell_type": "code",
   "execution_count": 112,
   "id": "f47d41b9-cbad-420d-952c-a7e2a5433ccb",
   "metadata": {},
   "outputs": [
    {
     "data": {
      "text/plain": [
       "6000"
      ]
     },
     "execution_count": 112,
     "metadata": {},
     "output_type": "execute_result"
    }
   ],
   "source": [
    "yash.get_balance()"
   ]
  },
  {
   "cell_type": "code",
   "execution_count": 113,
   "id": "fefc380a-695d-485a-bffb-6e047db6f436",
   "metadata": {},
   "outputs": [],
   "source": [
    "yash.deposit(1000)"
   ]
  },
  {
   "cell_type": "code",
   "execution_count": 114,
   "id": "88743856-4d5e-4167-9ceb-d52e95ea83e3",
   "metadata": {},
   "outputs": [
    {
     "data": {
      "text/plain": [
       "False"
      ]
     },
     "execution_count": 114,
     "metadata": {},
     "output_type": "execute_result"
    }
   ],
   "source": [
    "yash.withdraw(9000)"
   ]
  },
  {
   "cell_type": "code",
   "execution_count": 115,
   "id": "5f3026ce-8aa7-48e9-94d5-79068a65cb7a",
   "metadata": {},
   "outputs": [
    {
     "data": {
      "text/plain": [
       "True"
      ]
     },
     "execution_count": 115,
     "metadata": {},
     "output_type": "execute_result"
    }
   ],
   "source": [
    "yash.withdraw(3000)"
   ]
  },
  {
   "cell_type": "code",
   "execution_count": 116,
   "id": "c17f668d-dabc-4a34-b0df-9f8911d7c03e",
   "metadata": {},
   "outputs": [
    {
     "data": {
      "text/plain": [
       "4000"
      ]
     },
     "execution_count": 116,
     "metadata": {},
     "output_type": "execute_result"
    }
   ],
   "source": [
    "yash.get_balance()"
   ]
  },
  {
   "cell_type": "code",
   "execution_count": 117,
   "id": "f69cca32-3c48-439b-b51f-f03a7b3d35e4",
   "metadata": {},
   "outputs": [],
   "source": [
    "#Inheritance\n",
    "#isme ek parent class bnate ha phir uski bhot saari child class bna dete ha aur phir hum ek class se koi bhi class call kr skte ha"
   ]
  },
  {
   "cell_type": "code",
   "execution_count": 118,
   "id": "cd3a5f85-7c84-4d95-8455-e509cb33b972",
   "metadata": {},
   "outputs": [],
   "source": [
    "class test:\n",
    "    \n",
    "    def test_meth(self):\n",
    "        return 'this is my first class'"
   ]
  },
  {
   "cell_type": "code",
   "execution_count": 119,
   "id": "4f2d9de2-2ac3-4772-b6e2-0ea3f09e9fdf",
   "metadata": {},
   "outputs": [],
   "source": [
    "class child_test(test):\n",
    "    pass"
   ]
  },
  {
   "cell_type": "code",
   "execution_count": 120,
   "id": "e958e8bc-b6d1-4fe4-9319-74210825076b",
   "metadata": {},
   "outputs": [],
   "source": [
    "child_test_obj = child_test()"
   ]
  },
  {
   "cell_type": "code",
   "execution_count": 121,
   "id": "64c99154-7f74-4ad7-8d53-bc37b1270eb6",
   "metadata": {},
   "outputs": [
    {
     "data": {
      "text/plain": [
       "'this is my first class'"
      ]
     },
     "execution_count": 121,
     "metadata": {},
     "output_type": "execute_result"
    }
   ],
   "source": [
    "child_test_obj.test_meth()"
   ]
  },
  {
   "cell_type": "code",
   "execution_count": 122,
   "id": "0b143320-e9b5-43ce-864b-9e6182f506a5",
   "metadata": {},
   "outputs": [],
   "source": [
    "class class1:\n",
    "    \n",
    "    def test_class(self):\n",
    "        return 'this is meth from class 1'"
   ]
  },
  {
   "cell_type": "code",
   "execution_count": 123,
   "id": "03cbd4a8-41bc-48a2-a49d-c71ce8107eb1",
   "metadata": {},
   "outputs": [],
   "source": [
    "class class2(class1):\n",
    "    \n",
    "    def test_class2(self):\n",
    "        return 'this is meth from class 2'"
   ]
  },
  {
   "cell_type": "code",
   "execution_count": 124,
   "id": "1ef10e09-4603-4c66-b871-460cc5ce750e",
   "metadata": {},
   "outputs": [],
   "source": [
    "class class3(class2):\n",
    "    \n",
    "    def test_class3(self):\n",
    "        return 'this is meth from class 3'"
   ]
  },
  {
   "cell_type": "code",
   "execution_count": 125,
   "id": "1a353cf7-ae69-44ad-b9ec-74b6c4edf7de",
   "metadata": {},
   "outputs": [],
   "source": [
    "obj_class3 = class3()"
   ]
  },
  {
   "cell_type": "code",
   "execution_count": 126,
   "id": "21931db2-dd93-4919-87b2-cc0ae1117457",
   "metadata": {},
   "outputs": [
    {
     "data": {
      "text/plain": [
       "'this is meth from class 1'"
      ]
     },
     "execution_count": 126,
     "metadata": {},
     "output_type": "execute_result"
    }
   ],
   "source": [
    "obj_class3.test_class()"
   ]
  },
  {
   "cell_type": "code",
   "execution_count": 127,
   "id": "d46c177c-e9d1-4a9b-b4c3-a50ca42b76e2",
   "metadata": {},
   "outputs": [
    {
     "data": {
      "text/plain": [
       "'this is meth from class 2'"
      ]
     },
     "execution_count": 127,
     "metadata": {},
     "output_type": "execute_result"
    }
   ],
   "source": [
    "obj_class3.test_class2()"
   ]
  },
  {
   "cell_type": "code",
   "execution_count": 128,
   "id": "5e03a537-305c-4913-92b3-9f4d275dd9e8",
   "metadata": {},
   "outputs": [
    {
     "data": {
      "text/plain": [
       "'this is meth from class 3'"
      ]
     },
     "execution_count": 128,
     "metadata": {},
     "output_type": "execute_result"
    }
   ],
   "source": [
    "obj_class3.test_class3()"
   ]
  },
  {
   "cell_type": "code",
   "execution_count": 129,
   "id": "b63efec1-5411-4026-aef2-6bdcc44550d8",
   "metadata": {},
   "outputs": [],
   "source": [
    "#multiple inheritance\n",
    "#isme agr 2 seperate class ha toh use hum 3rd class se call kr skte ha "
   ]
  },
  {
   "cell_type": "code",
   "execution_count": 130,
   "id": "6221cec4-b152-4350-8927-99db440681cc",
   "metadata": {},
   "outputs": [],
   "source": [
    "class class1:\n",
    "    \n",
    "    def test_class1(self):\n",
    "        return 'this is class 1'"
   ]
  },
  {
   "cell_type": "code",
   "execution_count": 131,
   "id": "3f05843a-acf8-4f72-a0e0-ef9d8681771b",
   "metadata": {},
   "outputs": [],
   "source": [
    "class class2:\n",
    "    \n",
    "    def test_class2(self):\n",
    "        return 'this is class 2'"
   ]
  },
  {
   "cell_type": "code",
   "execution_count": 132,
   "id": "b945c918-f65e-44cc-b809-630315f1c5f6",
   "metadata": {},
   "outputs": [],
   "source": [
    "class class3(class1,class2):\n",
    "    pass"
   ]
  },
  {
   "cell_type": "code",
   "execution_count": 133,
   "id": "d85695b6-e1a0-4071-bc71-5628597b8fcf",
   "metadata": {},
   "outputs": [],
   "source": [
    "obj_class3 =class3() "
   ]
  },
  {
   "cell_type": "code",
   "execution_count": 134,
   "id": "7d1adeb1-a8a2-4ac3-8b2b-abb917ac6732",
   "metadata": {},
   "outputs": [
    {
     "data": {
      "text/plain": [
       "'this is class 1'"
      ]
     },
     "execution_count": 134,
     "metadata": {},
     "output_type": "execute_result"
    }
   ],
   "source": [
    "obj_class3.test_class1()"
   ]
  },
  {
   "cell_type": "code",
   "execution_count": 135,
   "id": "a127f081-fc2e-485e-95d8-901ec505721a",
   "metadata": {},
   "outputs": [
    {
     "data": {
      "text/plain": [
       "'this is class 2'"
      ]
     },
     "execution_count": 135,
     "metadata": {},
     "output_type": "execute_result"
    }
   ],
   "source": [
    "obj_class3.test_class2()"
   ]
  },
  {
   "cell_type": "code",
   "execution_count": 136,
   "id": "13c0e9c2-3207-452b-b178-b34b55e15df7",
   "metadata": {},
   "outputs": [],
   "source": [
    "#Abstract class"
   ]
  },
  {
   "cell_type": "code",
   "execution_count": 141,
   "id": "c8abe9f2-91bc-4433-ada7-45286ffe0199",
   "metadata": {},
   "outputs": [],
   "source": [
    "import abc\n",
    "class pwskills:\n",
    "    \n",
    "    @abc.abstractmethod\n",
    "    def students_details(self):\n",
    "        pass\n",
    "    \n",
    "    @abc.abstractmethod\n",
    "    def student_assignment(self):\n",
    "        pass\n",
    "    \n",
    "    @abc.abstractmethod\n",
    "    def student_marks(self):\n",
    "        pass"
   ]
  },
  {
   "cell_type": "code",
   "execution_count": 143,
   "id": "ca5f87de-b383-4a39-bd78-aecf25e79144",
   "metadata": {},
   "outputs": [],
   "source": [
    "class student_detils(pwskills):\n",
    "    \n",
    "    def student_details(self):\n",
    "        return 'this is method of details of students'\n",
    "    \n",
    "    def student_assignment(self):\n",
    "        return 'this is meth of details for particular student'"
   ]
  },
  {
   "cell_type": "code",
   "execution_count": 144,
   "id": "909cbd4c-df32-414f-92d2-661ca91294ba",
   "metadata": {},
   "outputs": [],
   "source": [
    "class data_science_master(pwskills):\n",
    "    \n",
    "    def student_details(self):\n",
    "        return 'this will return the details for the data sciencen master student'\n",
    "    \n",
    "    def student_assignment(self):\n",
    "        return 'this will give you student assignment details'"
   ]
  },
  {
   "cell_type": "code",
   "execution_count": 145,
   "id": "af3b00e1-bebd-4610-84b7-9cc0bbf2521f",
   "metadata": {},
   "outputs": [
    {
     "data": {
      "text/plain": [
       "'this will return the details for the data sciencen master student'"
      ]
     },
     "execution_count": 145,
     "metadata": {},
     "output_type": "execute_result"
    }
   ],
   "source": [
    "dsm = data_science_master()\n",
    "dsm.student_details()"
   ]
  },
  {
   "cell_type": "code",
   "execution_count": 146,
   "id": "ddaa77aa-c4cf-4738-a13c-22735fcaa149",
   "metadata": {},
   "outputs": [
    {
     "data": {
      "text/plain": [
       "'this is method of details of students'"
      ]
     },
     "execution_count": 146,
     "metadata": {},
     "output_type": "execute_result"
    }
   ],
   "source": [
    "sd = student_detils()\n",
    "sd.student_details()"
   ]
  },
  {
   "cell_type": "code",
   "execution_count": null,
   "id": "29dc789b-a1d8-43fa-a384-30f5a14f823e",
   "metadata": {},
   "outputs": [],
   "source": []
  }
 ],
 "metadata": {
  "kernelspec": {
   "display_name": "Python 3 (ipykernel)",
   "language": "python",
   "name": "python3"
  },
  "language_info": {
   "codemirror_mode": {
    "name": "ipython",
    "version": 3
   },
   "file_extension": ".py",
   "mimetype": "text/x-python",
   "name": "python",
   "nbconvert_exporter": "python",
   "pygments_lexer": "ipython3",
   "version": "3.10.8"
  }
 },
 "nbformat": 4,
 "nbformat_minor": 5
}
