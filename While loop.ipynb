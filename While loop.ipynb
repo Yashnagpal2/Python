{
 "cells": [
  {
   "cell_type": "code",
   "execution_count": 3,
   "id": "7db75a36-b527-4698-8be8-c003cfa29673",
   "metadata": {},
   "outputs": [
    {
     "name": "stdout",
     "output_type": "stream",
     "text": [
      "1\n",
      "2\n",
      "3\n",
      "4\n",
      "5\n",
      "6\n",
      "7\n",
      "8\n",
      "9\n",
      "10\n"
     ]
    }
   ],
   "source": [
    "a=1\n",
    "while a<=10:\n",
    "    print(a)\n",
    "    a=a+1\n"
   ]
  },
  {
   "cell_type": "code",
   "execution_count": 4,
   "id": "0ef922f9-f463-4c22-8cf8-e1243abea0f3",
   "metadata": {},
   "outputs": [],
   "source": [
    "#sum up the no till point"
   ]
  },
  {
   "cell_type": "code",
   "execution_count": 7,
   "id": "2579aa1e-eb66-4b6f-b95f-76c417ad1828",
   "metadata": {},
   "outputs": [
    {
     "name": "stdin",
     "output_type": "stream",
     "text": [
      "enter the no upto you have to sum 5\n"
     ]
    },
    {
     "name": "stdout",
     "output_type": "stream",
     "text": [
      "15\n"
     ]
    }
   ],
   "source": [
    "n=int(input(\"enter the no upto you have to sum\"))\n",
    "i=1\n",
    "sum=0\n",
    "while i<=n:\n",
    "    sum=sum+i\n",
    "    i=i+1\n",
    "print(sum)"
   ]
  },
  {
   "cell_type": "code",
   "execution_count": null,
   "id": "3516887b-52e7-4ff8-a2d5-cd86411ae6ac",
   "metadata": {},
   "outputs": [],
   "source": [
    "#Factorial"
   ]
  },
  {
   "cell_type": "code",
   "execution_count": null,
   "id": "8a80b885-1e1c-4941-85a4-8e35ab6e7567",
   "metadata": {},
   "outputs": [],
   "source": [
    "n=int(input(\"Enter the no \"))\n",
    "fact=1\n",
    "while n>0:\n",
    "    fact=fact*n\n",
    "    n=n-1\n",
    "print(fact)"
   ]
  },
  {
   "cell_type": "code",
   "execution_count": null,
   "id": "1009f144-a426-47a2-921f-f27575f66390",
   "metadata": {},
   "outputs": [],
   "source": [
    "#fibonacci series"
   ]
  },
  {
   "cell_type": "code",
   "execution_count": 3,
   "id": "f7883134-a098-4316-bf56-78c82260faa9",
   "metadata": {},
   "outputs": [
    {
     "name": "stdin",
     "output_type": "stream",
     "text": [
      "Enter the no 4\n"
     ]
    },
    {
     "name": "stdout",
     "output_type": "stream",
     "text": [
      "0\n",
      "1\n",
      "1\n",
      "2\n"
     ]
    }
   ],
   "source": [
    "n=int(input(\"Enter the no\"))\n",
    "a,b = 0,1\n",
    "i=0\n",
    "while i<n:\n",
    "    print(a)\n",
    "    c=a+b\n",
    "    a=b\n",
    "    b=c\n",
    "    i=i+1\n",
    "    "
   ]
  },
  {
   "cell_type": "code",
   "execution_count": 2,
   "id": "0d026265-faab-4885-93df-ed4f38b8ca77",
   "metadata": {},
   "outputs": [],
   "source": [
    "#reverse the string"
   ]
  },
  {
   "cell_type": "code",
   "execution_count": 5,
   "id": "eb3315de-ef23-4261-a388-33b66257e4a2",
   "metadata": {},
   "outputs": [
    {
     "name": "stdin",
     "output_type": "stream",
     "text": [
      "enter the no for reverse Yash\n"
     ]
    },
    {
     "name": "stdout",
     "output_type": "stream",
     "text": [
      "hsaY\n"
     ]
    }
   ],
   "source": [
    "a=input(\"enter the no for reverse\")\n",
    "reverse=''\n",
    "length=len(a)\n",
    "while length >0:\n",
    "    reverse = reverse+a[length -1]\n",
    "    length=length-1\n",
    "print(reverse)"
   ]
  },
  {
   "cell_type": "code",
   "execution_count": 6,
   "id": "1e30302e-759a-433e-8291-a1bb5231861a",
   "metadata": {},
   "outputs": [],
   "source": [
    "#print tables of no"
   ]
  },
  {
   "cell_type": "code",
   "execution_count": 9,
   "id": "2b3a5f89-5e9e-410f-940c-e586d0a010c9",
   "metadata": {},
   "outputs": [
    {
     "name": "stdin",
     "output_type": "stream",
     "text": [
      "Enter the no for table 10\n"
     ]
    },
    {
     "name": "stdout",
     "output_type": "stream",
     "text": [
      "10 * 1 = 10\n",
      "10 * 2 = 20\n",
      "10 * 3 = 30\n",
      "10 * 4 = 40\n",
      "10 * 5 = 50\n",
      "10 * 6 = 60\n",
      "10 * 7 = 70\n",
      "10 * 8 = 80\n",
      "10 * 9 = 90\n",
      "10 * 10 = 100\n"
     ]
    }
   ],
   "source": [
    "a=int(input(\"Enter the no for table\"))\n",
    "i=1\n",
    "\n",
    "while i<=10:\n",
    "    t=a*i\n",
    "    print(a,'*',i,'=',t)\n",
    "    i=i+1\n"
   ]
  },
  {
   "cell_type": "code",
   "execution_count": 10,
   "id": "9b6762d2-418c-4bf7-a974-525817ba8f06",
   "metadata": {},
   "outputs": [],
   "source": [
    "#for loop"
   ]
  },
  {
   "cell_type": "code",
   "execution_count": 12,
   "id": "1dc5ed15-480c-4b20-a6bf-848eed71c5d1",
   "metadata": {},
   "outputs": [
    {
     "name": "stdin",
     "output_type": "stream",
     "text": [
      "Enter the no for table 10\n"
     ]
    },
    {
     "name": "stdout",
     "output_type": "stream",
     "text": [
      "10 * 0 = 0\n",
      "10 * 1 = 10\n",
      "10 * 2 = 20\n",
      "10 * 3 = 30\n",
      "10 * 4 = 40\n",
      "10 * 5 = 50\n",
      "10 * 6 = 60\n",
      "10 * 7 = 70\n",
      "10 * 8 = 80\n",
      "10 * 9 = 90\n",
      "10 * 10 = 100\n"
     ]
    }
   ],
   "source": [
    "a=int(input(\"Enter the no for table\"))\n",
    "for i in range(11):\n",
    "    t=a*i\n",
    "    print(a,'*',i,'=',t)"
   ]
  },
  {
   "cell_type": "code",
   "execution_count": null,
   "id": "51a7abe9-faed-4d0e-92cb-d4d3e44850bb",
   "metadata": {},
   "outputs": [],
   "source": [
    "n=5\n",
    "i=1\n",
    "while i<n:\n",
    "    pr"
   ]
  }
 ],
 "metadata": {
  "kernelspec": {
   "display_name": "Python 3 (ipykernel)",
   "language": "python",
   "name": "python3"
  },
  "language_info": {
   "codemirror_mode": {
    "name": "ipython",
    "version": 3
   },
   "file_extension": ".py",
   "mimetype": "text/x-python",
   "name": "python",
   "nbconvert_exporter": "python",
   "pygments_lexer": "ipython3",
   "version": "3.10.8"
  }
 },
 "nbformat": 4,
 "nbformat_minor": 5
}
