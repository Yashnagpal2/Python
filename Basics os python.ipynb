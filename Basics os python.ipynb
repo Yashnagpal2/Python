{
 "cells": [
  {
   "cell_type": "code",
   "execution_count": 1,
   "id": "58aa1180-7835-4513-a7b3-9e470288048a",
   "metadata": {},
   "outputs": [
    {
     "data": {
      "text/plain": [
       "2"
      ]
     },
     "execution_count": 1,
     "metadata": {},
     "output_type": "execute_result"
    }
   ],
   "source": [
    "1+1"
   ]
  },
  {
   "cell_type": "code",
   "execution_count": 2,
   "id": "c2f3db06-d17f-4aba-9c40-f920fa32d57a",
   "metadata": {},
   "outputs": [
    {
     "data": {
      "text/plain": [
       "4"
      ]
     },
     "execution_count": 2,
     "metadata": {},
     "output_type": "execute_result"
    }
   ],
   "source": [
    "2*2"
   ]
  },
  {
   "cell_type": "code",
   "execution_count": 3,
   "id": "b52469c3-62c8-4e6c-ac83-a8f46e821565",
   "metadata": {},
   "outputs": [],
   "source": [
    "a=10"
   ]
  },
  {
   "cell_type": "code",
   "execution_count": 4,
   "id": "fc5140b9-fba2-478d-96a6-c42b5a212a0c",
   "metadata": {},
   "outputs": [],
   "source": [
    "b=20"
   ]
  },
  {
   "cell_type": "code",
   "execution_count": 5,
   "id": "88aff0f3-ed43-4ba4-94b2-438a1508df48",
   "metadata": {},
   "outputs": [
    {
     "data": {
      "text/plain": [
       "10"
      ]
     },
     "execution_count": 5,
     "metadata": {},
     "output_type": "execute_result"
    }
   ],
   "source": [
    "a"
   ]
  },
  {
   "cell_type": "code",
   "execution_count": 6,
   "id": "1bbc206a-0152-4d0c-ba9b-b4e6dac4d04e",
   "metadata": {},
   "outputs": [
    {
     "data": {
      "text/plain": [
       "20"
      ]
     },
     "execution_count": 6,
     "metadata": {},
     "output_type": "execute_result"
    }
   ],
   "source": [
    "b"
   ]
  },
  {
   "cell_type": "code",
   "execution_count": 7,
   "id": "b1c8f763-7fe7-445d-98d4-c6739e410c32",
   "metadata": {},
   "outputs": [
    {
     "data": {
      "text/plain": [
       "int"
      ]
     },
     "execution_count": 7,
     "metadata": {},
     "output_type": "execute_result"
    }
   ],
   "source": [
    "type(a)"
   ]
  },
  {
   "cell_type": "code",
   "execution_count": 8,
   "id": "4ece3d0d-9cdc-42a4-aeeb-87a6bc600efe",
   "metadata": {},
   "outputs": [
    {
     "data": {
      "text/plain": [
       "int"
      ]
     },
     "execution_count": 8,
     "metadata": {},
     "output_type": "execute_result"
    }
   ],
   "source": [
    "type(b)"
   ]
  },
  {
   "cell_type": "code",
   "execution_count": 9,
   "id": "ce04ccad-4f09-4fc8-a82c-293d309ec08b",
   "metadata": {},
   "outputs": [
    {
     "data": {
      "text/plain": [
       "30"
      ]
     },
     "execution_count": 9,
     "metadata": {},
     "output_type": "execute_result"
    }
   ],
   "source": [
    "a+b"
   ]
  },
  {
   "cell_type": "code",
   "execution_count": 10,
   "id": "6657e369-3ad7-4496-b8c1-048c09f7d646",
   "metadata": {},
   "outputs": [],
   "source": [
    "c=\"yash\""
   ]
  },
  {
   "cell_type": "code",
   "execution_count": 11,
   "id": "920dd404-f00a-4e04-a3dc-3823980ad03d",
   "metadata": {},
   "outputs": [
    {
     "data": {
      "text/plain": [
       "'yash'"
      ]
     },
     "execution_count": 11,
     "metadata": {},
     "output_type": "execute_result"
    }
   ],
   "source": [
    "c"
   ]
  },
  {
   "cell_type": "code",
   "execution_count": 12,
   "id": "7305fcfb-816a-442c-bcaa-41ac70d973dc",
   "metadata": {},
   "outputs": [
    {
     "data": {
      "text/plain": [
       "str"
      ]
     },
     "execution_count": 12,
     "metadata": {},
     "output_type": "execute_result"
    }
   ],
   "source": [
    "type(c)"
   ]
  },
  {
   "cell_type": "code",
   "execution_count": 13,
   "id": "2de73750-b33b-4e18-b4d6-76c43aef4dad",
   "metadata": {},
   "outputs": [
    {
     "ename": "NameError",
     "evalue": "name 'yash' is not defined",
     "output_type": "error",
     "traceback": [
      "\u001b[0;31m---------------------------------------------------------------------------\u001b[0m",
      "\u001b[0;31mNameError\u001b[0m                                 Traceback (most recent call last)",
      "Cell \u001b[0;32mIn[13], line 1\u001b[0m\n\u001b[0;32m----> 1\u001b[0m d\u001b[38;5;241m=\u001b[39m\u001b[43myash\u001b[49m\n",
      "\u001b[0;31mNameError\u001b[0m: name 'yash' is not defined"
     ]
    }
   ],
   "source": [
    "d=yash"
   ]
  },
  {
   "cell_type": "code",
   "execution_count": 14,
   "id": "218748ba-de88-4b81-8f94-2f509208c18f",
   "metadata": {},
   "outputs": [],
   "source": [
    "d=45.46"
   ]
  },
  {
   "cell_type": "code",
   "execution_count": 15,
   "id": "ca4a9006-c9d1-418a-bca3-99128fcb2012",
   "metadata": {},
   "outputs": [
    {
     "data": {
      "text/plain": [
       "float"
      ]
     },
     "execution_count": 15,
     "metadata": {},
     "output_type": "execute_result"
    }
   ],
   "source": [
    "type(d)"
   ]
  },
  {
   "cell_type": "code",
   "execution_count": 16,
   "id": "839705bc-c52e-42a4-a8fd-4d06761991fd",
   "metadata": {},
   "outputs": [],
   "source": [
    "a=True"
   ]
  },
  {
   "cell_type": "code",
   "execution_count": 17,
   "id": "07156f3d-ec50-4f82-8ebe-4161ab958495",
   "metadata": {},
   "outputs": [],
   "source": [
    "b=False"
   ]
  },
  {
   "cell_type": "code",
   "execution_count": 18,
   "id": "0a6699f7-cee6-4f46-9b59-aea9f827f665",
   "metadata": {},
   "outputs": [
    {
     "data": {
      "text/plain": [
       "1"
      ]
     },
     "execution_count": 18,
     "metadata": {},
     "output_type": "execute_result"
    }
   ],
   "source": [
    "a+b"
   ]
  },
  {
   "cell_type": "code",
   "execution_count": 19,
   "id": "9a463a9a-ec27-4d6b-a169-995223c39432",
   "metadata": {},
   "outputs": [
    {
     "data": {
      "text/plain": [
       "1"
      ]
     },
     "execution_count": 19,
     "metadata": {},
     "output_type": "execute_result"
    }
   ],
   "source": [
    "True+False"
   ]
  },
  {
   "cell_type": "code",
   "execution_count": 20,
   "id": "3a19410e-53ad-4f45-ab65-4f3c1c888383",
   "metadata": {},
   "outputs": [
    {
     "ename": "ZeroDivisionError",
     "evalue": "division by zero",
     "output_type": "error",
     "traceback": [
      "\u001b[0;31m---------------------------------------------------------------------------\u001b[0m",
      "\u001b[0;31mZeroDivisionError\u001b[0m                         Traceback (most recent call last)",
      "Cell \u001b[0;32mIn[20], line 1\u001b[0m\n\u001b[0;32m----> 1\u001b[0m \u001b[43ma\u001b[49m\u001b[38;5;241;43m/\u001b[39;49m\u001b[43mb\u001b[49m\n",
      "\u001b[0;31mZeroDivisionError\u001b[0m: division by zero"
     ]
    }
   ],
   "source": [
    "a/b"
   ]
  },
  {
   "cell_type": "code",
   "execution_count": 21,
   "id": "ffe0b438-6225-40cd-9d31-5d7d1cf9928a",
   "metadata": {},
   "outputs": [],
   "source": [
    "a=9+8j"
   ]
  },
  {
   "cell_type": "code",
   "execution_count": 22,
   "id": "9a99ff4a-48e2-4a3a-9616-8bd5dd0002cf",
   "metadata": {},
   "outputs": [
    {
     "data": {
      "text/plain": [
       "(9+8j)"
      ]
     },
     "execution_count": 22,
     "metadata": {},
     "output_type": "execute_result"
    }
   ],
   "source": [
    "a"
   ]
  },
  {
   "cell_type": "code",
   "execution_count": 23,
   "id": "286ed877-398d-4635-a039-f6efac5b09e0",
   "metadata": {},
   "outputs": [
    {
     "data": {
      "text/plain": [
       "9.0"
      ]
     },
     "execution_count": 23,
     "metadata": {},
     "output_type": "execute_result"
    }
   ],
   "source": [
    "a.real"
   ]
  },
  {
   "cell_type": "code",
   "execution_count": 24,
   "id": "e23ec200-61e2-4707-bad1-36719d49ef39",
   "metadata": {},
   "outputs": [
    {
     "data": {
      "text/plain": [
       "<function complex.conjugate()>"
      ]
     },
     "execution_count": 24,
     "metadata": {},
     "output_type": "execute_result"
    }
   ],
   "source": [
    "a.conjugate"
   ]
  },
  {
   "cell_type": "code",
   "execution_count": 25,
   "id": "953fdd16-71fc-44d3-9948-ac35ba665975",
   "metadata": {},
   "outputs": [
    {
     "data": {
      "text/plain": [
       "8.0"
      ]
     },
     "execution_count": 25,
     "metadata": {},
     "output_type": "execute_result"
    }
   ],
   "source": [
    "a.imag"
   ]
  },
  {
   "cell_type": "code",
   "execution_count": 1,
   "id": "f661e48b-e0f3-41f1-b059-69ecd17c58b3",
   "metadata": {},
   "outputs": [],
   "source": [
    "a=\"yash nagpal\""
   ]
  },
  {
   "cell_type": "code",
   "execution_count": 2,
   "id": "50ecb35a-03da-4be2-b6c5-755cfb621e4a",
   "metadata": {},
   "outputs": [
    {
     "data": {
      "text/plain": [
       "'a'"
      ]
     },
     "execution_count": 2,
     "metadata": {},
     "output_type": "execute_result"
    }
   ],
   "source": [
    "a[0]\n",
    "a[1]"
   ]
  },
  {
   "cell_type": "code",
   "execution_count": 3,
   "id": "b42e2488-ad42-41ef-8f95-0d2b46fc1685",
   "metadata": {},
   "outputs": [
    {
     "data": {
      "text/plain": [
       "'y'"
      ]
     },
     "execution_count": 3,
     "metadata": {},
     "output_type": "execute_result"
    }
   ],
   "source": [
    "a[0]"
   ]
  },
  {
   "cell_type": "code",
   "execution_count": 4,
   "id": "a82685ac-1284-4229-952a-275182e3f08e",
   "metadata": {},
   "outputs": [
    {
     "data": {
      "text/plain": [
       "'s'"
      ]
     },
     "execution_count": 4,
     "metadata": {},
     "output_type": "execute_result"
    }
   ],
   "source": [
    "a[2]"
   ]
  },
  {
   "cell_type": "code",
   "execution_count": 5,
   "id": "9a02327e-07b3-4f85-b3e1-c8d0b4f41f17",
   "metadata": {},
   "outputs": [],
   "source": [
    "s=\"pwskills\""
   ]
  },
  {
   "cell_type": "code",
   "execution_count": 6,
   "id": "77994e39-df24-4c70-8259-6cb57cfd9f76",
   "metadata": {},
   "outputs": [
    {
     "data": {
      "text/plain": [
       "'pw'"
      ]
     },
     "execution_count": 6,
     "metadata": {},
     "output_type": "execute_result"
    }
   ],
   "source": [
    "s[0:2]"
   ]
  },
  {
   "cell_type": "code",
   "execution_count": 7,
   "id": "59d21535-5004-470a-bcd0-7d5ae136780d",
   "metadata": {},
   "outputs": [
    {
     "data": {
      "text/plain": [
       "'pws'"
      ]
     },
     "execution_count": 7,
     "metadata": {},
     "output_type": "execute_result"
    }
   ],
   "source": [
    "s[0:3]"
   ]
  },
  {
   "cell_type": "code",
   "execution_count": 8,
   "id": "6756a7d2-90ae-4908-9dde-4f6452de3095",
   "metadata": {},
   "outputs": [
    {
     "data": {
      "text/plain": [
       "'pwskill'"
      ]
     },
     "execution_count": 8,
     "metadata": {},
     "output_type": "execute_result"
    }
   ],
   "source": [
    "s[0:7:1]"
   ]
  },
  {
   "cell_type": "code",
   "execution_count": 9,
   "id": "71678bae-a4a3-4f06-87dd-436c4106e6a1",
   "metadata": {},
   "outputs": [
    {
     "data": {
      "text/plain": [
       "'p'"
      ]
     },
     "execution_count": 9,
     "metadata": {},
     "output_type": "execute_result"
    }
   ],
   "source": [
    "s[0:1:6]"
   ]
  },
  {
   "cell_type": "code",
   "execution_count": 10,
   "id": "215f6370-ca3a-4f8c-8aa8-e0d48a63d1e9",
   "metadata": {},
   "outputs": [
    {
     "data": {
      "text/plain": [
       "'psil'"
      ]
     },
     "execution_count": 10,
     "metadata": {},
     "output_type": "execute_result"
    }
   ],
   "source": [
    "s[0:8:2]"
   ]
  },
  {
   "cell_type": "code",
   "execution_count": 11,
   "id": "e34ba1d5-8b5f-4f7d-b4d9-1a0c29a9ac19",
   "metadata": {},
   "outputs": [
    {
     "data": {
      "text/plain": [
       "''"
      ]
     },
     "execution_count": 11,
     "metadata": {},
     "output_type": "execute_result"
    }
   ],
   "source": [
    "s[-1:-9]"
   ]
  },
  {
   "cell_type": "code",
   "execution_count": 12,
   "id": "d000ef1b-e7f1-4b1f-9368-070e1f4435ef",
   "metadata": {},
   "outputs": [
    {
     "data": {
      "text/plain": [
       "''"
      ]
     },
     "execution_count": 12,
     "metadata": {},
     "output_type": "execute_result"
    }
   ],
   "source": [
    "s[-1:-8]"
   ]
  },
  {
   "cell_type": "code",
   "execution_count": 13,
   "id": "d2298bff-c0ab-4f7d-ae09-f073081518d4",
   "metadata": {},
   "outputs": [
    {
     "data": {
      "text/plain": [
       "''"
      ]
     },
     "execution_count": 13,
     "metadata": {},
     "output_type": "execute_result"
    }
   ],
   "source": [
    "s[-1:-9:1]"
   ]
  },
  {
   "cell_type": "code",
   "execution_count": 14,
   "id": "7da34987-500d-4ff6-9253-0b6c2f309551",
   "metadata": {},
   "outputs": [
    {
     "data": {
      "text/plain": [
       "'pwskill'"
      ]
     },
     "execution_count": 14,
     "metadata": {},
     "output_type": "execute_result"
    }
   ],
   "source": [
    "s[:-1]"
   ]
  },
  {
   "cell_type": "code",
   "execution_count": 15,
   "id": "65c1de75-a374-4c01-9633-b643d3846a19",
   "metadata": {},
   "outputs": [
    {
     "data": {
      "text/plain": [
       "'sllikswp'"
      ]
     },
     "execution_count": 15,
     "metadata": {},
     "output_type": "execute_result"
    }
   ],
   "source": [
    "s[::-1]"
   ]
  },
  {
   "cell_type": "code",
   "execution_count": 16,
   "id": "19d4efa7-b009-42d9-8f7c-ddc314f77bc7",
   "metadata": {},
   "outputs": [
    {
     "data": {
      "text/plain": [
       "''"
      ]
     },
     "execution_count": 16,
     "metadata": {},
     "output_type": "execute_result"
    }
   ],
   "source": [
    "s[2:7:-1]"
   ]
  },
  {
   "cell_type": "code",
   "execution_count": 1,
   "id": "2fa4ce55-7e5c-4c6d-80a6-b7f48161b79d",
   "metadata": {},
   "outputs": [],
   "source": [
    "a='my name is yash'"
   ]
  },
  {
   "cell_type": "code",
   "execution_count": 2,
   "id": "a7f23c12-1cea-4e0f-ac6c-01f25ae7e56c",
   "metadata": {},
   "outputs": [
    {
     "data": {
      "text/plain": [
       "15"
      ]
     },
     "execution_count": 2,
     "metadata": {},
     "output_type": "execute_result"
    }
   ],
   "source": [
    "len(a)"
   ]
  },
  {
   "cell_type": "code",
   "execution_count": 3,
   "id": "751ed0fd-6241-494e-8b67-ca020db6e1d7",
   "metadata": {},
   "outputs": [
    {
     "data": {
      "text/plain": [
       "0"
      ]
     },
     "execution_count": 3,
     "metadata": {},
     "output_type": "execute_result"
    }
   ],
   "source": [
    "a.find(a)"
   ]
  },
  {
   "cell_type": "code",
   "execution_count": 4,
   "id": "2a093166-32cb-4e56-8b36-310b0bc950b2",
   "metadata": {},
   "outputs": [
    {
     "ename": "NameError",
     "evalue": "name 'y' is not defined",
     "output_type": "error",
     "traceback": [
      "\u001b[0;31m---------------------------------------------------------------------------\u001b[0m",
      "\u001b[0;31mNameError\u001b[0m                                 Traceback (most recent call last)",
      "Cell \u001b[0;32mIn[4], line 1\u001b[0m\n\u001b[0;32m----> 1\u001b[0m a\u001b[38;5;241m.\u001b[39mfind(\u001b[43my\u001b[49m)\n",
      "\u001b[0;31mNameError\u001b[0m: name 'y' is not defined"
     ]
    }
   ],
   "source": [
    "a.find(y)"
   ]
  },
  {
   "cell_type": "code",
   "execution_count": 5,
   "id": "554c230d-da29-4caf-82fd-cf3941cb0dca",
   "metadata": {},
   "outputs": [
    {
     "data": {
      "text/plain": [
       "4"
      ]
     },
     "execution_count": 5,
     "metadata": {},
     "output_type": "execute_result"
    }
   ],
   "source": [
    "a.find(\"a\")"
   ]
  },
  {
   "cell_type": "code",
   "execution_count": 6,
   "id": "1ba9f68c-5ceb-4cdc-81c4-50bfd0d166b8",
   "metadata": {},
   "outputs": [
    {
     "data": {
      "text/plain": [
       "1"
      ]
     },
     "execution_count": 6,
     "metadata": {},
     "output_type": "execute_result"
    }
   ],
   "source": [
    "a.find(\"y\")"
   ]
  },
  {
   "cell_type": "code",
   "execution_count": 7,
   "id": "2dd72624-7dfd-4650-899b-b203af78a1ca",
   "metadata": {},
   "outputs": [
    {
     "data": {
      "text/plain": [
       "2"
      ]
     },
     "execution_count": 7,
     "metadata": {},
     "output_type": "execute_result"
    }
   ],
   "source": [
    "a.count(\"y\")"
   ]
  },
  {
   "cell_type": "code",
   "execution_count": 12,
   "id": "83a3078d-3377-45b2-8384-f22111688360",
   "metadata": {},
   "outputs": [
    {
     "data": {
      "text/plain": [
       "2"
      ]
     },
     "execution_count": 12,
     "metadata": {},
     "output_type": "execute_result"
    }
   ],
   "source": [
    "a.count(\"a\")"
   ]
  },
  {
   "cell_type": "code",
   "execution_count": 13,
   "id": "cb14ec40-8a33-4285-bea0-d0efcde46083",
   "metadata": {},
   "outputs": [
    {
     "data": {
      "text/plain": [
       "'my name is yash'"
      ]
     },
     "execution_count": 13,
     "metadata": {},
     "output_type": "execute_result"
    }
   ],
   "source": [
    "a"
   ]
  },
  {
   "cell_type": "code",
   "execution_count": 14,
   "id": "c8dc7670-dda0-4598-8803-bce5f8930383",
   "metadata": {},
   "outputs": [
    {
     "data": {
      "text/plain": [
       "'MY NAME IS YASH'"
      ]
     },
     "execution_count": 14,
     "metadata": {},
     "output_type": "execute_result"
    }
   ],
   "source": [
    "a.upper()"
   ]
  },
  {
   "cell_type": "code",
   "execution_count": 15,
   "id": "0938dded-68b3-46e9-8f96-284abee27e9f",
   "metadata": {},
   "outputs": [
    {
     "data": {
      "text/plain": [
       "'MY NAME IS YASH'"
      ]
     },
     "execution_count": 15,
     "metadata": {},
     "output_type": "execute_result"
    }
   ],
   "source": [
    "a.upper()"
   ]
  },
  {
   "cell_type": "code",
   "execution_count": 16,
   "id": "7507d849-c31e-4692-9a15-b196cbbbbc31",
   "metadata": {},
   "outputs": [],
   "source": [
    "b='MY NAME IS YASH'"
   ]
  },
  {
   "cell_type": "code",
   "execution_count": 17,
   "id": "25fc5667-1451-4b32-bfe5-e1dfe103a819",
   "metadata": {},
   "outputs": [
    {
     "data": {
      "text/plain": [
       "'my name is yash'"
      ]
     },
     "execution_count": 17,
     "metadata": {},
     "output_type": "execute_result"
    }
   ],
   "source": [
    "b.lower()"
   ]
  },
  {
   "cell_type": "code",
   "execution_count": 18,
   "id": "af4d7c76-4e97-4cf0-baa8-ea3d2fb63d3d",
   "metadata": {},
   "outputs": [
    {
     "data": {
      "text/plain": [
       "'My Name Is Yash'"
      ]
     },
     "execution_count": 18,
     "metadata": {},
     "output_type": "execute_result"
    }
   ],
   "source": [
    "b.title()"
   ]
  },
  {
   "cell_type": "code",
   "execution_count": 19,
   "id": "aa25f73c-d781-45ce-8aaa-c66ced2310a2",
   "metadata": {},
   "outputs": [
    {
     "data": {
      "text/plain": [
       "'My Name Is Yash'"
      ]
     },
     "execution_count": 19,
     "metadata": {},
     "output_type": "execute_result"
    }
   ],
   "source": [
    "a.title()"
   ]
  },
  {
   "cell_type": "code",
   "execution_count": 20,
   "id": "d7b8600f-db77-4bce-883d-cc1e52ee5776",
   "metadata": {},
   "outputs": [
    {
     "data": {
      "text/plain": [
       "'my name is yash'"
      ]
     },
     "execution_count": 20,
     "metadata": {},
     "output_type": "execute_result"
    }
   ],
   "source": [
    "a"
   ]
  },
  {
   "cell_type": "code",
   "execution_count": 21,
   "id": "878db404-567d-455d-9b38-a55955fd33da",
   "metadata": {},
   "outputs": [
    {
     "data": {
      "text/plain": [
       "'My Name Is Yash'"
      ]
     },
     "execution_count": 21,
     "metadata": {},
     "output_type": "execute_result"
    }
   ],
   "source": [
    "a.title()"
   ]
  },
  {
   "cell_type": "code",
   "execution_count": 22,
   "id": "3e54cb29-3061-495b-9f91-b369a0bc51d2",
   "metadata": {},
   "outputs": [
    {
     "data": {
      "text/plain": [
       "'My name is yash'"
      ]
     },
     "execution_count": 22,
     "metadata": {},
     "output_type": "execute_result"
    }
   ],
   "source": [
    "a.capitalize()"
   ]
  },
  {
   "cell_type": "code",
   "execution_count": 23,
   "id": "71fc4b0c-3718-4b42-8c86-107db19720e7",
   "metadata": {},
   "outputs": [],
   "source": [
    "c=\"hello\""
   ]
  },
  {
   "cell_type": "code",
   "execution_count": 24,
   "id": "3aa5d65b-2369-420c-9885-ad59456fe552",
   "metadata": {},
   "outputs": [
    {
     "data": {
      "text/plain": [
       "'hello'"
      ]
     },
     "execution_count": 24,
     "metadata": {},
     "output_type": "execute_result"
    }
   ],
   "source": [
    "c"
   ]
  },
  {
   "cell_type": "code",
   "execution_count": 25,
   "id": "2dd3fc3e-0623-4769-b3ec-130d70bb7c06",
   "metadata": {},
   "outputs": [
    {
     "data": {
      "text/plain": [
       "'hello1'"
      ]
     },
     "execution_count": 25,
     "metadata": {},
     "output_type": "execute_result"
    }
   ],
   "source": [
    "c+'1'"
   ]
  },
  {
   "cell_type": "code",
   "execution_count": 27,
   "id": "9668f075-be9c-4100-aba9-de17a84369e0",
   "metadata": {},
   "outputs": [
    {
     "data": {
      "text/plain": [
       "'hello1'"
      ]
     },
     "execution_count": 27,
     "metadata": {},
     "output_type": "execute_result"
    }
   ],
   "source": [
    "c+str(1)"
   ]
  },
  {
   "cell_type": "code",
   "execution_count": 28,
   "id": "2ed66e98-564b-44be-84ff-fcb322aff91b",
   "metadata": {},
   "outputs": [],
   "source": [
    "# hi this ia yash nagpal\n",
    "# i am from mathura up\n",
    "# i want to become an data analytics"
   ]
  },
  {
   "cell_type": "code",
   "execution_count": 29,
   "id": "e7014304-a8d9-4248-89f9-63aac7185cee",
   "metadata": {},
   "outputs": [],
   "source": [
    "a=\"pwskills \n",
    "\""
   ]
  },
  {
   "cell_type": "code",
   "execution_count": 30,
   "id": "89fc7af3-7ade-4a58-92de-e350a93c1d5b",
   "metadata": {},
   "outputs": [
    {
     "data": {
      "text/plain": [
       "'llikswp'"
      ]
     },
     "execution_count": 30,
     "metadata": {},
     "output_type": "execute_result"
    }
   ],
   "source": [
    "a[-2::-1]"
   ]
  },
  {
   "cell_type": "code",
   "execution_count": 31,
   "id": "acd0d607-b43e-4a0c-81e9-d01f3d96bfcb",
   "metadata": {},
   "outputs": [
    {
     "data": {
      "text/plain": [
       "'pwskillspwskillspwskills'"
      ]
     },
     "execution_count": 31,
     "metadata": {},
     "output_type": "execute_result"
    }
   ],
   "source": [
    "a*3"
   ]
  },
  {
   "cell_type": "code",
   "execution_count": 33,
   "id": "3840bc50-50aa-453c-992e-bdb9b5cd5f8e",
   "metadata": {},
   "outputs": [
    {
     "ename": "SyntaxError",
     "evalue": "unexpected character after line continuation character (3777621419.py, line 1)",
     "output_type": "error",
     "traceback": [
      "\u001b[0;36m  Cell \u001b[0;32mIn[33], line 1\u001b[0;36m\u001b[0m\n\u001b[0;31m    a*3\\n\u001b[0m\n\u001b[0m        ^\u001b[0m\n\u001b[0;31mSyntaxError\u001b[0m\u001b[0;31m:\u001b[0m unexpected character after line continuation character\n"
     ]
    }
   ],
   "source": [
    "a*3\\n"
   ]
  },
  {
   "cell_type": "code",
   "execution_count": 38,
   "id": "004f1e56-29f7-42a1-8806-764ca9e66fb4",
   "metadata": {},
   "outputs": [
    {
     "data": {
      "text/plain": [
       "'pwskillspwskillspwskills'"
      ]
     },
     "execution_count": 38,
     "metadata": {},
     "output_type": "execute_result"
    }
   ],
   "source": [
    "a*3"
   ]
  },
  {
   "cell_type": "code",
   "execution_count": 39,
   "id": "ed1868b4-3f15-4ab5-9c76-aaea5c8760f2",
   "metadata": {},
   "outputs": [
    {
     "data": {
      "text/plain": [
       "'pwskills'"
      ]
     },
     "execution_count": 39,
     "metadata": {},
     "output_type": "execute_result"
    }
   ],
   "source": [
    "a"
   ]
  },
  {
   "cell_type": "code",
   "execution_count": null,
   "id": "cf65fb8d-540f-466d-aef2-efbe282fb9b5",
   "metadata": {},
   "outputs": [],
   "source": []
  }
 ],
 "metadata": {
  "kernelspec": {
   "display_name": "Python 3 (ipykernel)",
   "language": "python",
   "name": "python3"
  },
  "language_info": {
   "codemirror_mode": {
    "name": "ipython",
    "version": 3
   },
   "file_extension": ".py",
   "mimetype": "text/x-python",
   "name": "python",
   "nbconvert_exporter": "python",
   "pygments_lexer": "ipython3",
   "version": "3.10.8"
  }
 },
 "nbformat": 4,
 "nbformat_minor": 5
}
