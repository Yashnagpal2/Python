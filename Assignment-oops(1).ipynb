{
 "cells": [
  {
   "cell_type": "markdown",
   "id": "dd9693ca-a58e-4cac-b4e9-283013cc3e35",
   "metadata": {},
   "source": [
    "Ques-1 -Explain Class and Object with respect to Object-Oriented Programming. Give a suitable example."
   ]
  },
  {
   "cell_type": "markdown",
   "id": "067a9095-29e5-4ac3-b311-867911f12f32",
   "metadata": {},
   "source": [
    "Answer -\n",
    "In object-oriented programming (OOP), a class is a blueprint or a template that defines the properties and behaviors of a certain type of object. An object, on the other hand, is an instance of a class, created by calling the class constructor."
   ]
  },
  {
   "cell_type": "markdown",
   "id": "6541c50d-5a4c-4602-8c03-1e12ffa79602",
   "metadata": {},
   "source": [
    "To create an object of the Car class, we would call its constructor, which is a special method that initializes the object with default values or values passed as arguments. \n",
    "For example:"
   ]
  },
  {
   "cell_type": "code",
   "execution_count": 2,
   "id": "6eb903c5-2617-4990-a5c8-8cb04280f66a",
   "metadata": {},
   "outputs": [],
   "source": [
    "class cars:\n",
    "    \n",
    "    def __init__(self ,model_number , model_name , model_color):\n",
    "        self.model_number = model_number\n",
    "        self.model_name = model_name\n",
    "        self.model_color = model_color\n",
    "        \n",
    "    def return_car_details(self):\n",
    "        return self.model_number , self.model_name , self.model_color"
   ]
  },
  {
   "cell_type": "code",
   "execution_count": 3,
   "id": "8d38cc8a-50fd-43a9-b987-dcd9ed18b676",
   "metadata": {},
   "outputs": [],
   "source": [
    "Tata = cars(2456 , 'Harrier' , 'Dark knight' )"
   ]
  },
  {
   "cell_type": "code",
   "execution_count": 4,
   "id": "13e6422d-7906-4235-87e2-795d7c147f38",
   "metadata": {},
   "outputs": [
    {
     "data": {
      "text/plain": [
       "(2456, 'Harrier', 'Dark knight')"
      ]
     },
     "execution_count": 4,
     "metadata": {},
     "output_type": "execute_result"
    }
   ],
   "source": [
    "Tata.return_car_details()"
   ]
  },
  {
   "cell_type": "code",
   "execution_count": 5,
   "id": "3fd5b5fb-53a2-4e0e-939c-5d78995eb6ed",
   "metadata": {},
   "outputs": [
    {
     "data": {
      "text/plain": [
       "'Dark knight'"
      ]
     },
     "execution_count": 5,
     "metadata": {},
     "output_type": "execute_result"
    }
   ],
   "source": [
    "Tata.model_color"
   ]
  },
  {
   "cell_type": "code",
   "execution_count": 6,
   "id": "e53273df-8dc7-4f2e-b26d-44f5f7705355",
   "metadata": {},
   "outputs": [
    {
     "data": {
      "text/plain": [
       "'Harrier'"
      ]
     },
     "execution_count": 6,
     "metadata": {},
     "output_type": "execute_result"
    }
   ],
   "source": [
    "Tata.model_name"
   ]
  },
  {
   "cell_type": "code",
   "execution_count": 7,
   "id": "79045d63-9c71-4ead-9611-c1c574684640",
   "metadata": {},
   "outputs": [
    {
     "data": {
      "text/plain": [
       "2456"
      ]
     },
     "execution_count": 7,
     "metadata": {},
     "output_type": "execute_result"
    }
   ],
   "source": [
    "Tata.model_number"
   ]
  },
  {
   "cell_type": "markdown",
   "id": "667cfac8-980b-4487-83a6-eb4412ca3094",
   "metadata": {},
   "source": [
    "This demonstrates how classes and objects work in OOP. The class defines the blueprint for the object, and the object is an instance of that class, with its own set of properties and behaviors. We can create multiple objects from the same class, each with its own unique set of values for the properties."
   ]
  },
  {
   "cell_type": "markdown",
   "id": "c3b13074-1728-4803-9cec-a437823c50f3",
   "metadata": {},
   "source": [
    "Ques-2 -Name the four pillars of OOPs."
   ]
  },
  {
   "cell_type": "markdown",
   "id": "db48c770-7d6e-4f10-9a09-bafda9f33ea1",
   "metadata": {},
   "source": [
    "Answer - Encapsulation: the idea of bundling data and the methods that operate on that data within one unit, and controlling access to that unit to ensure that the data is not modified outside of its intended boundaries.\n",
    "\n",
    "Inheritance: the ability to define a new class based on an existing one, and inherit its properties and methods.\n",
    "\n",
    "Polymorphism: the idea that objects of different classes can be treated as if they are of the same class, and can be manipulated in a consistent way.\n",
    "\n",
    "Abstraction: the process of distilling a complex system down to its most essential features, and ignoring unnecessary details. In OOP, this often involves defining abstract classes or interfaces that specify a set of methods that any class implementing them must have, without defining how those methods are implemented."
   ]
  },
  {
   "cell_type": "markdown",
   "id": "e4023179-43a5-4529-a2ad-9ff343153b85",
   "metadata": {},
   "source": [
    "Ques-3 -Explain why the __init__() function is used. Give a suitable example."
   ]
  },
  {
   "cell_type": "markdown",
   "id": "f38fe6a8-c322-4fb2-a18c-30a1cb0adfa2",
   "metadata": {},
   "source": [
    "The __init__() function is a special method in Python classes that is called when an object of that class is created. It is typically used to initialize the properties of the object with default values or values passed as arguments.\n",
    "\n",
    "Here's an example to illustrate its usage. Let's say we have a class called Rectangle that represents a rectangle with width and height as its properties. We want to initialize these properties when an object of this class is created. We can use the __init__() function to achieve this as follows:"
   ]
  },
  {
   "cell_type": "code",
   "execution_count": 9,
   "id": "60005eb0-0b81-4dec-a302-962bf61fadba",
   "metadata": {},
   "outputs": [],
   "source": [
    "class reactangle:\n",
    "    \n",
    "    def __init__(self , width , height):\n",
    "        self.width = width\n",
    "        self.height = height\n",
    "    \n",
    "    def area(self):\n",
    "        return self.width*self.height"
   ]
  },
  {
   "cell_type": "code",
   "execution_count": 10,
   "id": "ec9fd039-75b4-46a3-a58b-2eb547b21962",
   "metadata": {},
   "outputs": [],
   "source": [
    "reactangle1 = reactangle(5,6)"
   ]
  },
  {
   "cell_type": "code",
   "execution_count": 13,
   "id": "c1ca73b8-52a9-47ce-b09f-61a79a8f3565",
   "metadata": {},
   "outputs": [
    {
     "data": {
      "text/plain": [
       "30"
      ]
     },
     "execution_count": 13,
     "metadata": {},
     "output_type": "execute_result"
    }
   ],
   "source": [
    "reactangle1.area()"
   ]
  },
  {
   "cell_type": "markdown",
   "id": "e06f04b9-4f53-426e-a7ee-1c147605cb2b",
   "metadata": {},
   "source": [
    "Ques-4 -Why self is used in OOPs?"
   ]
  },
  {
   "cell_type": "markdown",
   "id": "18d055f8-131a-469c-990f-ab32977846bc",
   "metadata": {},
   "source": [
    "Answer - In object-oriented programming (OOP), self is a reference to the instance of the class that is currently being manipulated. It is used as the first parameter in class methods, including the __init__() method, to refer to the object that is being created or modified.\n",
    "\n",
    "The self parameter is used to access the object's properties and methods from within the class methods. When a method is called on an object, the object itself is passed as the first parameter to the method, which is referred to as self.\n",
    "\n",
    "It is passed as the first parameter to class methods and is automatically filled in by Python when the method is called on an object."
   ]
  },
  {
   "cell_type": "markdown",
   "id": "6da43d90-7078-4e40-b0f6-2939dc7336e4",
   "metadata": {},
   "source": [
    "Ques-5 - What is inheritance? Give an example for each type of inheritance."
   ]
  },
  {
   "cell_type": "markdown",
   "id": "f56a5351-6891-4c04-be9e-2eb48b89f886",
   "metadata": {},
   "source": [
    "Answer - Inheritance is a fundamental concept in object-oriented programming (OOP) that allows a new class to be based on an existing class, inheriting its properties and methods. The existing class is called the base class or parent class, and the new class is called the derived class or child class. Inheritance promotes code reusability and helps to reduce code duplication.\n",
    "\n",
    "There are four types of inheritance in Python:\n",
    "\n",
    "1-Single Inheritance: In single inheritance, a derived class is created from a single base class. The derived class inherits all the properties and methods of the base class."
   ]
  },
  {
   "cell_type": "code",
   "execution_count": 14,
   "id": "b0dd2632-65a9-4ecf-b298-87404623a4b1",
   "metadata": {},
   "outputs": [
    {
     "name": "stdout",
     "output_type": "stream",
     "text": [
      "Animal speaks.\n",
      "Dog barks.\n"
     ]
    }
   ],
   "source": [
    "class Animal:\n",
    "    def speak(self):\n",
    "        print(\"Animal speaks.\")\n",
    "\n",
    "class Dog(Animal):\n",
    "    def bark(self):\n",
    "        print(\"Dog barks.\")\n",
    "\n",
    "my_dog = Dog()\n",
    "my_dog.speak() \n",
    "my_dog.bark() \n"
   ]
  },
  {
   "cell_type": "markdown",
   "id": "861984cd-8f0c-4f0a-b398-723cd403aebe",
   "metadata": {},
   "source": [
    "2-Multiple Inheritance: In multiple inheritance, a derived class is created from multiple base classes. The derived class inherits all the properties and methods of all the base classes."
   ]
  },
  {
   "cell_type": "code",
   "execution_count": 15,
   "id": "a6b8436d-d427-47a4-8441-cbef9ce28dea",
   "metadata": {},
   "outputs": [
    {
     "name": "stdout",
     "output_type": "stream",
     "text": [
      "Method A.\n",
      "Method B.\n",
      "Method C.\n"
     ]
    }
   ],
   "source": [
    "class A:\n",
    "    def method_A(self):\n",
    "        print(\"Method A.\")\n",
    "\n",
    "class B:\n",
    "    def method_B(self):\n",
    "        print(\"Method B.\")\n",
    "\n",
    "class C(A, B):\n",
    "    def method_C(self):\n",
    "        print(\"Method C.\")\n",
    "\n",
    "my_obj = C()\n",
    "my_obj.method_A() \n",
    "my_obj.method_B() \n",
    "my_obj.method_C() \n"
   ]
  },
  {
   "cell_type": "markdown",
   "id": "d8591952-0020-4895-9f37-9218ae89af22",
   "metadata": {},
   "source": [
    "3-Multilevel Inheritance: In multilevel inheritance, a derived class is created from a base class, which itself is derived from another base class. The derived class inherits all the properties and methods of both the base classes."
   ]
  },
  {
   "cell_type": "code",
   "execution_count": 16,
   "id": "5efadeca-77d1-4aa7-a99d-905d6c63144c",
   "metadata": {},
   "outputs": [
    {
     "name": "stdout",
     "output_type": "stream",
     "text": [
      "Method A.\n",
      "Method B.\n",
      "Method C.\n"
     ]
    }
   ],
   "source": [
    "class A:\n",
    "    def method_A(self):\n",
    "        print(\"Method A.\")\n",
    "\n",
    "class B(A):\n",
    "    def method_B(self):\n",
    "        print(\"Method B.\")\n",
    "\n",
    "class C(B):\n",
    "    def method_C(self):\n",
    "        print(\"Method C.\")\n",
    "\n",
    "my_obj = C()\n",
    "my_obj.method_A() \n",
    "my_obj.method_B() \n",
    "my_obj.method_C() \n"
   ]
  },
  {
   "cell_type": "markdown",
   "id": "0502c7ae-728c-4b12-b139-13ab463c16b3",
   "metadata": {},
   "source": [
    "4-Hierarchical Inheritance: In hierarchical inheritance, multiple derived"
   ]
  }
 ],
 "metadata": {
  "kernelspec": {
   "display_name": "Python 3 (ipykernel)",
   "language": "python",
   "name": "python3"
  },
  "language_info": {
   "codemirror_mode": {
    "name": "ipython",
    "version": 3
   },
   "file_extension": ".py",
   "mimetype": "text/x-python",
   "name": "python",
   "nbconvert_exporter": "python",
   "pygments_lexer": "ipython3",
   "version": "3.10.8"
  }
 },
 "nbformat": 4,
 "nbformat_minor": 5
}
