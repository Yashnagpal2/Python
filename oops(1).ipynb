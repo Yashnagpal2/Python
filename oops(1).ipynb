{
 "cells": [
  {
   "cell_type": "code",
   "execution_count": 2,
   "id": "1cf54e96-29a1-42b4-ba26-51a3f75e6eae",
   "metadata": {},
   "outputs": [],
   "source": [
    "a=1"
   ]
  },
  {
   "cell_type": "code",
   "execution_count": 3,
   "id": "6c9a7ffa-0369-486b-a994-ed3a35fb345e",
   "metadata": {},
   "outputs": [
    {
     "name": "stdout",
     "output_type": "stream",
     "text": [
      "<class 'int'>\n"
     ]
    }
   ],
   "source": [
    "print(type(a))"
   ]
  },
  {
   "cell_type": "code",
   "execution_count": 4,
   "id": "0aa256ba-9b0b-423c-9038-177ac42092b4",
   "metadata": {},
   "outputs": [
    {
     "name": "stdout",
     "output_type": "stream",
     "text": [
      "<class 'str'>\n"
     ]
    }
   ],
   "source": [
    "print(type('pwskills'))"
   ]
  },
  {
   "cell_type": "code",
   "execution_count": 5,
   "id": "777781bd-8dda-45a1-965e-8a47166266fe",
   "metadata": {},
   "outputs": [],
   "source": [
    "class test:\n",
    "    pass"
   ]
  },
  {
   "cell_type": "code",
   "execution_count": 7,
   "id": "0417bbf2-82b8-4e8c-9159-12e238844df4",
   "metadata": {},
   "outputs": [],
   "source": [
    "a=test()"
   ]
  },
  {
   "cell_type": "code",
   "execution_count": 8,
   "id": "bae1cad8-8636-4522-89c2-cbf5b60aa9c7",
   "metadata": {},
   "outputs": [
    {
     "data": {
      "text/plain": [
       "__main__.test"
      ]
     },
     "execution_count": 8,
     "metadata": {},
     "output_type": "execute_result"
    }
   ],
   "source": [
    "type(a)"
   ]
  },
  {
   "cell_type": "code",
   "execution_count": 9,
   "id": "389d0795-802c-45e2-ac01-6d0f0e7b392e",
   "metadata": {},
   "outputs": [
    {
     "name": "stdout",
     "output_type": "stream",
     "text": [
      "<class '__main__.test'>\n"
     ]
    }
   ],
   "source": [
    "print(type(a))"
   ]
  },
  {
   "cell_type": "code",
   "execution_count": 8,
   "id": "6c451df1-f9ad-441d-8924-fc464b02bcf7",
   "metadata": {},
   "outputs": [],
   "source": [
    "class pwskills:\n",
    "    \n",
    "    def welcome_msg(self):\n",
    "        print('welcome to pwskills')"
   ]
  },
  {
   "cell_type": "code",
   "execution_count": 9,
   "id": "eef6cbd6-4a15-48df-90ad-0dbf53db599c",
   "metadata": {},
   "outputs": [],
   "source": [
    "rohan = pwskills()"
   ]
  },
  {
   "cell_type": "code",
   "execution_count": 10,
   "id": "c9dd860e-3794-436d-96d5-da2dd68873a6",
   "metadata": {},
   "outputs": [
    {
     "name": "stdout",
     "output_type": "stream",
     "text": [
      "welcome to pwskills\n"
     ]
    }
   ],
   "source": [
    "    rohan.welcome_msg()"
   ]
  },
  {
   "cell_type": "code",
   "execution_count": 11,
   "id": "eeaded55-6ebf-4089-958b-f0f149976b68",
   "metadata": {},
   "outputs": [
    {
     "name": "stdout",
     "output_type": "stream",
     "text": [
      "<class '__main__.pwskills'>\n"
     ]
    }
   ],
   "source": [
    "print(type(rohan))"
   ]
  },
  {
   "cell_type": "code",
   "execution_count": 12,
   "id": "4b621bb5-4489-4cfe-9c56-aecb179e07a6",
   "metadata": {},
   "outputs": [],
   "source": [
    "yash = pwskills()"
   ]
  },
  {
   "cell_type": "code",
   "execution_count": 14,
   "id": "f83fcaaf-0c10-480f-8cd1-0b03e9e8dcb8",
   "metadata": {},
   "outputs": [
    {
     "name": "stdout",
     "output_type": "stream",
     "text": [
      "welcome to pwskills\n"
     ]
    }
   ],
   "source": [
    "yash.welcome_msg()"
   ]
  },
  {
   "cell_type": "code",
   "execution_count": 15,
   "id": "6a316b33-4406-48d9-a71b-c55079c30bdb",
   "metadata": {},
   "outputs": [],
   "source": [
    "class pwskills1:\n",
    "    \n",
    "    def __init__(self , phone_number, email_id , student_id):\n",
    "        self.phone_number = phone_number\n",
    "        self.email_id = email_id\n",
    "        self.student_id = student_id\n",
    "        \n",
    "    def return_student_details(self):\n",
    "        return self.email_id , self.phone_number , self.student_id\n",
    "    "
   ]
  },
  {
   "cell_type": "code",
   "execution_count": 16,
   "id": "db812366-666a-436a-b455-5f3b6420c0bf",
   "metadata": {},
   "outputs": [
    {
     "ename": "NameError",
     "evalue": "name 'pwskilss1' is not defined",
     "output_type": "error",
     "traceback": [
      "\u001b[0;31m---------------------------------------------------------------------------\u001b[0m",
      "\u001b[0;31mNameError\u001b[0m                                 Traceback (most recent call last)",
      "Cell \u001b[0;32mIn[16], line 1\u001b[0m\n\u001b[0;32m----> 1\u001b[0m rohan \u001b[38;5;241m=\u001b[39m \u001b[43mpwskilss1\u001b[49m\n",
      "\u001b[0;31mNameError\u001b[0m: name 'pwskilss1' is not defined"
     ]
    }
   ],
   "source": [
    "rohan = pwskilss1()"
   ]
  },
  {
   "cell_type": "code",
   "execution_count": 17,
   "id": "f0fa15fd-5336-4879-aee0-548f1e3e7fec",
   "metadata": {},
   "outputs": [],
   "source": [
    "rohan = pwskills1(70323443334, 'rohan@gmail.com',101)"
   ]
  },
  {
   "cell_type": "code",
   "execution_count": 18,
   "id": "b52116d2-1605-44bb-a936-14ab8795f94e",
   "metadata": {},
   "outputs": [
    {
     "data": {
      "text/plain": [
       "('rohan@gmail.com', 70323443334, 101)"
      ]
     },
     "execution_count": 18,
     "metadata": {},
     "output_type": "execute_result"
    }
   ],
   "source": [
    "rohan.return_student_details()"
   ]
  },
  {
   "cell_type": "code",
   "execution_count": 20,
   "id": "43c70837-dc1e-4bfd-aca8-29a6c3c02b84",
   "metadata": {},
   "outputs": [],
   "source": [
    "gaurav = pwskills1(789725382,'gaurav@gmail.com',200)"
   ]
  },
  {
   "cell_type": "code",
   "execution_count": 21,
   "id": "1eb7d700-3b05-4b54-9c21-f4c229f2f113",
   "metadata": {},
   "outputs": [
    {
     "data": {
      "text/plain": [
       "('gaurav@gmail.com', 789725382, 200)"
      ]
     },
     "execution_count": 21,
     "metadata": {},
     "output_type": "execute_result"
    }
   ],
   "source": [
    "gaurav.return_student_details()"
   ]
  },
  {
   "cell_type": "code",
   "execution_count": 45,
   "id": "9e1500b9-20fe-4822-88b5-23bc52a50561",
   "metadata": {},
   "outputs": [],
   "source": [
    "class pwskills2:\n",
    "    \n",
    "    def __init__(self , phone_number,email_id ,student_id):\n",
    "        self.phone_number1 = phone_number\n",
    "        self.email_id1 = email_id\n",
    "        self.student_id1 = student_id\n",
    "        \n",
    "    def return_student_details(self):\n",
    "        return self.email_id1 , self.phone_number1 , self.student_id1\n",
    "    "
   ]
  },
  {
   "cell_type": "code",
   "execution_count": 51,
   "id": "fb9646c9-fea2-48ab-867f-f64a3e9ba5ea",
   "metadata": {},
   "outputs": [],
   "source": [
    "yash = pwskills2(5362572527 ,'ynagpal8@gmail.com',8309)"
   ]
  },
  {
   "cell_type": "code",
   "execution_count": 52,
   "id": "9a110523-446b-42db-96d6-e6ac939d8bc9",
   "metadata": {},
   "outputs": [
    {
     "data": {
      "text/plain": [
       "('ynagpal8@gmail.com', 5362572527, 8309)"
      ]
     },
     "execution_count": 52,
     "metadata": {},
     "output_type": "execute_result"
    }
   ],
   "source": [
    "yash.return_student_details()"
   ]
  },
  {
   "cell_type": "code",
   "execution_count": 53,
   "id": "39131996-214f-4700-a329-691374586742",
   "metadata": {},
   "outputs": [
    {
     "data": {
      "text/plain": [
       "5362572527"
      ]
     },
     "execution_count": 53,
     "metadata": {},
     "output_type": "execute_result"
    }
   ],
   "source": [
    "yash.phone_number1"
   ]
  },
  {
   "cell_type": "code",
   "execution_count": 55,
   "id": "14a4c8c8-69f7-46c8-af8e-3ea501d4e27b",
   "metadata": {},
   "outputs": [
    {
     "data": {
      "text/plain": [
       "'ynagpal8@gmail.com'"
      ]
     },
     "execution_count": 55,
     "metadata": {},
     "output_type": "execute_result"
    }
   ],
   "source": [
    "yash.email_id1"
   ]
  },
  {
   "cell_type": "code",
   "execution_count": 56,
   "id": "64176a29-9865-41e4-b3c9-e5f03ae5e9e8",
   "metadata": {},
   "outputs": [
    {
     "data": {
      "text/plain": [
       "8309"
      ]
     },
     "execution_count": 56,
     "metadata": {},
     "output_type": "execute_result"
    }
   ],
   "source": [
    "yash.student_id1"
   ]
  },
  {
   "cell_type": "code",
   "execution_count": 58,
   "id": "2a9b65d9-5555-43a2-80bb-aa64c653570b",
   "metadata": {},
   "outputs": [],
   "source": [
    "class cars:\n",
    "    \n",
    "    def __init__(self , model_number , model_name , model_color):\n",
    "        self.model_number = model_number\n",
    "        self.model_name = model_name\n",
    "        self.model_color = model_color\n",
    "    \n",
    "    def return_car_details(self):\n",
    "        return self.model_number , self.model_name , self.model_color"
   ]
  },
  {
   "cell_type": "code",
   "execution_count": 59,
   "id": "97fabcb7-edb9-44a6-8cb2-e408916dad6c",
   "metadata": {},
   "outputs": [],
   "source": [
    "maruti = cars(9258 , 'ertika' ,'blue')"
   ]
  },
  {
   "cell_type": "code",
   "execution_count": 60,
   "id": "1ab37190-8097-41a4-aeb7-59d6160512f8",
   "metadata": {},
   "outputs": [
    {
     "data": {
      "text/plain": [
       "(9258, 'ertika', 'blue')"
      ]
     },
     "execution_count": 60,
     "metadata": {},
     "output_type": "execute_result"
    }
   ],
   "source": [
    "maruti.return_car_details()"
   ]
  },
  {
   "cell_type": "code",
   "execution_count": 62,
   "id": "08a73b88-1c8b-434e-a4d2-34690e73db81",
   "metadata": {},
   "outputs": [
    {
     "data": {
      "text/plain": [
       "'blue'"
      ]
     },
     "execution_count": 62,
     "metadata": {},
     "output_type": "execute_result"
    }
   ],
   "source": [
    "maruti.model_color"
   ]
  },
  {
   "cell_type": "code",
   "execution_count": 64,
   "id": "cdfce8ea-359a-4a82-b7da-4d2d96500bce",
   "metadata": {},
   "outputs": [
    {
     "data": {
      "text/plain": [
       "'ertika'"
      ]
     },
     "execution_count": 64,
     "metadata": {},
     "output_type": "execute_result"
    }
   ],
   "source": [
    "maruti.model_name"
   ]
  },
  {
   "cell_type": "code",
   "execution_count": 65,
   "id": "f93b5b35-d5b3-43fc-925f-a1b2d8be6d16",
   "metadata": {},
   "outputs": [
    {
     "data": {
      "text/plain": [
       "9258"
      ]
     },
     "execution_count": 65,
     "metadata": {},
     "output_type": "execute_result"
    }
   ],
   "source": [
    "maruti.model_number"
   ]
  },
  {
   "cell_type": "code",
   "execution_count": null,
   "id": "36c92ea9-94f8-4833-b80b-d4b2b3403763",
   "metadata": {},
   "outputs": [],
   "source": []
  }
 ],
 "metadata": {
  "kernelspec": {
   "display_name": "Python 3 (ipykernel)",
   "language": "python",
   "name": "python3"
  },
  "language_info": {
   "codemirror_mode": {
    "name": "ipython",
    "version": 3
   },
   "file_extension": ".py",
   "mimetype": "text/x-python",
   "name": "python",
   "nbconvert_exporter": "python",
   "pygments_lexer": "ipython3",
   "version": "3.10.8"
  }
 },
 "nbformat": 4,
 "nbformat_minor": 5
}
