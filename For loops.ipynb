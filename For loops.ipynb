{
 "cells": [
  {
   "cell_type": "code",
   "execution_count": 1,
   "id": "5efd34f5-8c7b-4240-91b5-3e5253235090",
   "metadata": {},
   "outputs": [],
   "source": [
    "l=[1,2,3,4,5]"
   ]
  },
  {
   "cell_type": "code",
   "execution_count": 3,
   "id": "b93b05f3-41ff-4528-a546-f9dad76ced25",
   "metadata": {},
   "outputs": [
    {
     "name": "stdout",
     "output_type": "stream",
     "text": [
      "1 <class 'int'>\n",
      "2 <class 'int'>\n",
      "3 <class 'int'>\n",
      "4 <class 'int'>\n",
      "5 <class 'int'>\n"
     ]
    }
   ],
   "source": [
    "for i in l:\n",
    "    print(i,type(i))"
   ]
  },
  {
   "cell_type": "code",
   "execution_count": 4,
   "id": "be3393e0-812a-43f7-82e0-9116e84800d6",
   "metadata": {},
   "outputs": [],
   "source": [
    "l1=['yash','kush','piyush']"
   ]
  },
  {
   "cell_type": "code",
   "execution_count": 7,
   "id": "318c8e37-9760-428b-8904-db7fab18a7d5",
   "metadata": {},
   "outputs": [
    {
     "name": "stdout",
     "output_type": "stream",
     "text": [
      "yash\n",
      "kush\n",
      "piyush\n",
      "hahaha\n"
     ]
    }
   ],
   "source": [
    "for i in l1:\n",
    "    print(i)\n",
    "else:\n",
    "    print('hahaha')"
   ]
  },
  {
   "cell_type": "code",
   "execution_count": 8,
   "id": "44cb2cf8-13a9-4dd9-ad87-dc26325a4be1",
   "metadata": {},
   "outputs": [
    {
     "data": {
      "text/plain": [
       "['yash', 'kush', 'piyush']"
      ]
     },
     "execution_count": 8,
     "metadata": {},
     "output_type": "execute_result"
    }
   ],
   "source": [
    "l1"
   ]
  },
  {
   "cell_type": "code",
   "execution_count": 9,
   "id": "289bb186-5316-44aa-9354-a5fa8e5af288",
   "metadata": {},
   "outputs": [
    {
     "name": "stdout",
     "output_type": "stream",
     "text": [
      "yash\n"
     ]
    }
   ],
   "source": [
    "for i in l1:\n",
    "    if i=='kush':\n",
    "        break\n",
    "    print(i)"
   ]
  },
  {
   "cell_type": "code",
   "execution_count": 10,
   "id": "64780b36-4308-4ed0-8570-85c7bf24782e",
   "metadata": {},
   "outputs": [
    {
     "name": "stdout",
     "output_type": "stream",
     "text": [
      "yash\n"
     ]
    }
   ],
   "source": [
    "for i in l1:\n",
    "    if i=='kush':\n",
    "        break\n",
    "    print(i)\n",
    "else:\n",
    "    print('execute')"
   ]
  },
  {
   "cell_type": "code",
   "execution_count": 11,
   "id": "5fbceb87-e244-4dde-9f7f-7d6e0d6a5855",
   "metadata": {},
   "outputs": [
    {
     "data": {
      "text/plain": [
       "['yash', 'kush', 'piyush']"
      ]
     },
     "execution_count": 11,
     "metadata": {},
     "output_type": "execute_result"
    }
   ],
   "source": [
    "l1"
   ]
  },
  {
   "cell_type": "code",
   "execution_count": 12,
   "id": "dc15ed3c-5bad-4d84-8a86-fccacf7f5e81",
   "metadata": {},
   "outputs": [
    {
     "name": "stdout",
     "output_type": "stream",
     "text": [
      "yash\n",
      "piyush\n"
     ]
    }
   ],
   "source": [
    "for i in l1:\n",
    "    if i=='kush':\n",
    "        continue\n",
    "    print(i)"
   ]
  },
  {
   "cell_type": "code",
   "execution_count": 14,
   "id": "12b44150-34ba-4711-9675-531c6022e1ea",
   "metadata": {},
   "outputs": [
    {
     "name": "stdout",
     "output_type": "stream",
     "text": [
      "yash\n",
      "piyush\n",
      "execute\n"
     ]
    }
   ],
   "source": [
    "for i in l1:\n",
    "    if i=='kush':\n",
    "        continue\n",
    "    print(i)\n",
    "else:\n",
    "    print('execute')"
   ]
  },
  {
   "cell_type": "code",
   "execution_count": 15,
   "id": "71c4da30-d508-42e3-8c7e-c9710b124d5d",
   "metadata": {},
   "outputs": [
    {
     "data": {
      "text/plain": [
       "range(0, 5)"
      ]
     },
     "execution_count": 15,
     "metadata": {},
     "output_type": "execute_result"
    }
   ],
   "source": [
    "range(0,5)"
   ]
  },
  {
   "cell_type": "code",
   "execution_count": 16,
   "id": "68d17a72-b7f0-4589-be61-644d5778b0d1",
   "metadata": {},
   "outputs": [
    {
     "data": {
      "text/plain": [
       "[0, 1, 2, 3, 4]"
      ]
     },
     "execution_count": 16,
     "metadata": {},
     "output_type": "execute_result"
    }
   ],
   "source": [
    "list(range(5))"
   ]
  },
  {
   "cell_type": "code",
   "execution_count": 17,
   "id": "1a7789a1-54b0-47ba-bb4d-b6e89f7daf74",
   "metadata": {},
   "outputs": [
    {
     "data": {
      "text/plain": [
       "[0, 1, 2, 3, 4]"
      ]
     },
     "execution_count": 17,
     "metadata": {},
     "output_type": "execute_result"
    }
   ],
   "source": [
    "list(range(0,5,1))"
   ]
  },
  {
   "cell_type": "code",
   "execution_count": 18,
   "id": "d46f651f-d720-489d-8205-615e8559a294",
   "metadata": {},
   "outputs": [
    {
     "data": {
      "text/plain": [
       "[0, 2, 4, 6, 8, 10, 12, 14, 16, 18]"
      ]
     },
     "execution_count": 18,
     "metadata": {},
     "output_type": "execute_result"
    }
   ],
   "source": [
    "list(range(0,20,2))"
   ]
  },
  {
   "cell_type": "code",
   "execution_count": 19,
   "id": "4f1e97fb-aa06-4322-8f01-23b234bfc099",
   "metadata": {},
   "outputs": [
    {
     "data": {
      "text/plain": [
       "[-10, -9, -8, -7, -6, -5, -4, -3, -2, -1]"
      ]
     },
     "execution_count": 19,
     "metadata": {},
     "output_type": "execute_result"
    }
   ],
   "source": [
    "list(range(-10,0))"
   ]
  },
  {
   "cell_type": "code",
   "execution_count": 20,
   "id": "8c804c26-ccf9-47ac-aed2-cdc88ce693ee",
   "metadata": {},
   "outputs": [
    {
     "data": {
      "text/plain": [
       "['yash', 'kush', 'piyush']"
      ]
     },
     "execution_count": 20,
     "metadata": {},
     "output_type": "execute_result"
    }
   ],
   "source": [
    "l1"
   ]
  },
  {
   "cell_type": "code",
   "execution_count": 23,
   "id": "0a132d87-e84f-4532-a0c8-f9836891226b",
   "metadata": {},
   "outputs": [
    {
     "name": "stdout",
     "output_type": "stream",
     "text": [
      "yash\n",
      "piyush\n",
      "kush\n"
     ]
    }
   ],
   "source": [
    "for i in range(len(l1)):\n",
    "    print(l1[i])"
   ]
  },
  {
   "cell_type": "code",
   "execution_count": 25,
   "id": "a30a3ef9-bfdd-4ce9-9d2d-9c25011bc6b1",
   "metadata": {},
   "outputs": [
    {
     "name": "stdout",
     "output_type": "stream",
     "text": [
      "piyush\n",
      "kush\n",
      "yash\n"
     ]
    }
   ],
   "source": [
    "for i in range(len(l1)-1,-1,-1):\n",
    "    print(l1[i])"
   ]
  },
  {
   "cell_type": "code",
   "execution_count": 29,
   "id": "44f001b8-15b0-4d28-b820-69bb31a53eed",
   "metadata": {},
   "outputs": [
    {
     "data": {
      "text/plain": [
       "[2, 1, 0]"
      ]
     },
     "execution_count": 29,
     "metadata": {},
     "output_type": "execute_result"
    }
   ],
   "source": [
    "list(range(len(l1)-1,-1,-1))"
   ]
  },
  {
   "cell_type": "code",
   "execution_count": 30,
   "id": "82278197-da09-4371-9118-6e2f8b3b922c",
   "metadata": {},
   "outputs": [],
   "source": [
    "l2=[23,4,7,98,109,45,75,4,676,865]"
   ]
  },
  {
   "cell_type": "code",
   "execution_count": 33,
   "id": "14addddd-0ad5-4648-8135-110b7e504fa2",
   "metadata": {},
   "outputs": [
    {
     "data": {
      "text/plain": [
       "[0, 2, 4, 6, 8]"
      ]
     },
     "execution_count": 33,
     "metadata": {},
     "output_type": "execute_result"
    }
   ],
   "source": [
    "list(range(0,len(l2),2))"
   ]
  },
  {
   "cell_type": "code",
   "execution_count": 34,
   "id": "ca2b0550-a989-4908-94f7-fa0dfa80c92b",
   "metadata": {},
   "outputs": [
    {
     "name": "stdout",
     "output_type": "stream",
     "text": [
      "23\n",
      "7\n",
      "109\n",
      "75\n",
      "676\n"
     ]
    }
   ],
   "source": [
    "for i in range(0,len(l2),2):\n",
    "    print(l2[i])"
   ]
  },
  {
   "cell_type": "code",
   "execution_count": 35,
   "id": "31bd151a-c862-43c6-801b-72f647cc8d86",
   "metadata": {},
   "outputs": [],
   "source": [
    "l=[1,2,3,45,6,7,87]"
   ]
  },
  {
   "cell_type": "code",
   "execution_count": 37,
   "id": "d94ed084-af95-4011-afa8-92f7c79d8142",
   "metadata": {},
   "outputs": [
    {
     "data": {
      "text/plain": [
       "151"
      ]
     },
     "execution_count": 37,
     "metadata": {},
     "output_type": "execute_result"
    }
   ],
   "source": [
    "result=0\n",
    "for i in l:\n",
    "    result=result+i\n",
    "result"
   ]
  },
  {
   "cell_type": "markdown",
   "id": "64287830-256a-41b0-bb4d-7de16c5e75d4",
   "metadata": {},
   "source": [
    "sum(l)"
   ]
  },
  {
   "cell_type": "code",
   "execution_count": 38,
   "id": "475e7ca9-96f2-49c8-b251-ff996231a387",
   "metadata": {},
   "outputs": [
    {
     "data": {
      "text/plain": [
       "151"
      ]
     },
     "execution_count": 38,
     "metadata": {},
     "output_type": "execute_result"
    }
   ],
   "source": [
    "sum(l)"
   ]
  },
  {
   "cell_type": "code",
   "execution_count": 39,
   "id": "5bcc0e5b-18d5-472c-beaf-e9b38cda17d5",
   "metadata": {},
   "outputs": [],
   "source": [
    "t=(1,2,3,4,5,78)"
   ]
  },
  {
   "cell_type": "code",
   "execution_count": 40,
   "id": "7460b14e-831d-4567-b206-390402782823",
   "metadata": {},
   "outputs": [
    {
     "name": "stdout",
     "output_type": "stream",
     "text": [
      "1\n",
      "2\n",
      "3\n",
      "4\n",
      "5\n",
      "78\n"
     ]
    }
   ],
   "source": [
    "for i in t:\n",
    "    print(i)"
   ]
  },
  {
   "cell_type": "code",
   "execution_count": 41,
   "id": "66f285cb-6c2c-4c67-acc4-39065662d84c",
   "metadata": {},
   "outputs": [],
   "source": [
    "s={1,2,3,45,'sudh','pwskills'}"
   ]
  },
  {
   "cell_type": "code",
   "execution_count": 42,
   "id": "2d478d96-420f-479b-b352-e67b9c3e0448",
   "metadata": {},
   "outputs": [
    {
     "name": "stdout",
     "output_type": "stream",
     "text": [
      "1\n",
      "2\n",
      "3\n",
      "sudh\n",
      "pwskills\n",
      "45\n"
     ]
    }
   ],
   "source": [
    "for i in s:\n",
    "    print(i)"
   ]
  },
  {
   "cell_type": "code",
   "execution_count": 43,
   "id": "6412f5e3-106a-404f-a14e-0f8d1a62e691",
   "metadata": {},
   "outputs": [],
   "source": [
    "s1='pwskills'"
   ]
  },
  {
   "cell_type": "code",
   "execution_count": 45,
   "id": "42184fa3-1ad4-4bf7-9a0c-d1a5b4742c11",
   "metadata": {},
   "outputs": [
    {
     "name": "stdout",
     "output_type": "stream",
     "text": [
      "p\n",
      "w\n",
      "s\n",
      "k\n",
      "i\n",
      "l\n",
      "l\n",
      "s\n"
     ]
    }
   ],
   "source": [
    "for i in s1:\n",
    "    print(i)"
   ]
  },
  {
   "cell_type": "code",
   "execution_count": 46,
   "id": "83237b53-89a2-4589-9ee6-c17c2d9d94c1",
   "metadata": {},
   "outputs": [],
   "source": [
    "d={'name':'sudh','class':'data science','topic':['python','ML','dl','cv','nlp','resume']}"
   ]
  },
  {
   "cell_type": "code",
   "execution_count": 47,
   "id": "480132f7-7e8d-4a1e-8b5c-a7bedccba81b",
   "metadata": {},
   "outputs": [
    {
     "data": {
      "text/plain": [
       "{'name': 'sudh',\n",
       " 'class': 'data science',\n",
       " 'topic': ['python', 'ML', 'dl', 'cv', 'nlp', 'resume']}"
      ]
     },
     "execution_count": 47,
     "metadata": {},
     "output_type": "execute_result"
    }
   ],
   "source": [
    "d"
   ]
  },
  {
   "cell_type": "code",
   "execution_count": 48,
   "id": "7b0af801-e225-4064-943e-3cf370310324",
   "metadata": {},
   "outputs": [
    {
     "name": "stdout",
     "output_type": "stream",
     "text": [
      "sudh\n",
      "data science\n",
      "['python', 'ML', 'dl', 'cv', 'nlp', 'resume']\n"
     ]
    }
   ],
   "source": [
    "for i in d.keys():\n",
    "    print(d[i])"
   ]
  },
  {
   "cell_type": "code",
   "execution_count": 52,
   "id": "9554357a-141c-477c-a578-d64f571252bc",
   "metadata": {},
   "outputs": [
    {
     "name": "stdout",
     "output_type": "stream",
     "text": [
      "sudh\n",
      "data science\n",
      "['python', 'ML', 'dl', 'cv', 'nlp', 'resume']\n"
     ]
    }
   ],
   "source": [
    "for i in d.values():\n",
    "    print(i)"
   ]
  },
  {
   "cell_type": "code",
   "execution_count": 53,
   "id": "3b0fa90f-c9f2-4d8d-ac2f-6bdb6d5b0dbe",
   "metadata": {},
   "outputs": [
    {
     "data": {
      "text/plain": [
       "True"
      ]
     },
     "execution_count": 53,
     "metadata": {},
     "output_type": "execute_result"
    }
   ],
   "source": [
    "\"pwskills\"[::-1].upper().replace(\"SLLIKSWP\", \"pwskills\").islower()"
   ]
  },
  {
   "cell_type": "code",
   "execution_count": 54,
   "id": "1b21c915-f631-4dab-9244-8a73b16e2882",
   "metadata": {},
   "outputs": [
    {
     "name": "stdout",
     "output_type": "stream",
     "text": [
      "I\n",
      "Want\n",
      "To\n",
      "Become\n",
      "A\n",
      "Data\n",
      "Scientist\n"
     ]
    }
   ],
   "source": [
    "s = \"I want to become a data scientist\"\n",
    "\n",
    "for i in s.split():\n",
    "\n",
    "    i.capitalize()\n",
    "\n",
    "    print(i.title())"
   ]
  },
  {
   "cell_type": "code",
   "execution_count": 55,
   "id": "70761305-b71d-4ad8-8f30-b83f91407713",
   "metadata": {},
   "outputs": [
    {
     "ename": "TypeError",
     "evalue": "'str' object does not support item assignment",
     "output_type": "error",
     "traceback": [
      "\u001b[0;31m---------------------------------------------------------------------------\u001b[0m",
      "\u001b[0;31mTypeError\u001b[0m                                 Traceback (most recent call last)",
      "Cell \u001b[0;32mIn[55], line 1\u001b[0m\n\u001b[0;32m----> 1\u001b[0m \u001b[38;5;124;43m'\u001b[39;49m\u001b[38;5;124;43mpwskills\u001b[39;49m\u001b[38;5;124;43m'\u001b[39;49m\u001b[43m[\u001b[49m\u001b[38;5;241;43m0\u001b[39;49m\u001b[43m]\u001b[49m\u001b[38;5;241m=\u001b[39m\u001b[38;5;124m'\u001b[39m\u001b[38;5;124mP\u001b[39m\u001b[38;5;124m'\u001b[39m\n",
      "\u001b[0;31mTypeError\u001b[0m: 'str' object does not support item assignment"
     ]
    }
   ],
   "source": [
    "'pwskills'[0]='P'"
   ]
  },
  {
   "cell_type": "code",
   "execution_count": null,
   "id": "60339890-e2e5-4185-8be7-b0cc99efc832",
   "metadata": {},
   "outputs": [],
   "source": []
  }
 ],
 "metadata": {
  "kernelspec": {
   "display_name": "Python 3 (ipykernel)",
   "language": "python",
   "name": "python3"
  },
  "language_info": {
   "codemirror_mode": {
    "name": "ipython",
    "version": 3
   },
   "file_extension": ".py",
   "mimetype": "text/x-python",
   "name": "python",
   "nbconvert_exporter": "python",
   "pygments_lexer": "ipython3",
   "version": "3.10.8"
  }
 },
 "nbformat": 4,
 "nbformat_minor": 5
}
