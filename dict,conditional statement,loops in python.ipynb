{
 "cells": [
  {
   "cell_type": "code",
   "execution_count": 1,
   "id": "d424e637-569c-4460-b8a1-c64cf5ea4388",
   "metadata": {},
   "outputs": [],
   "source": [
    "d={}"
   ]
  },
  {
   "cell_type": "code",
   "execution_count": 2,
   "id": "3c8da14a-5cb2-4e92-baeb-1aa834208834",
   "metadata": {},
   "outputs": [
    {
     "data": {
      "text/plain": [
       "dict"
      ]
     },
     "execution_count": 2,
     "metadata": {},
     "output_type": "execute_result"
    }
   ],
   "source": [
    "type(d)"
   ]
  },
  {
   "cell_type": "code",
   "execution_count": 3,
   "id": "fd96071a-3bd1-4a29-a217-ed10305a931c",
   "metadata": {},
   "outputs": [],
   "source": [
    "d1={'key':\"Yash\"}"
   ]
  },
  {
   "cell_type": "code",
   "execution_count": 4,
   "id": "a2c588a3-1942-4e08-a2f6-2ce2e5b687b6",
   "metadata": {},
   "outputs": [
    {
     "data": {
      "text/plain": [
       "dict"
      ]
     },
     "execution_count": 4,
     "metadata": {},
     "output_type": "execute_result"
    }
   ],
   "source": [
    "type(d1)"
   ]
  },
  {
   "cell_type": "code",
   "execution_count": 5,
   "id": "bd1f5e34-a259-45f5-a67b-be89ee47dfd4",
   "metadata": {},
   "outputs": [
    {
     "data": {
      "text/plain": [
       "{'key': 'Yash'}"
      ]
     },
     "execution_count": 5,
     "metadata": {},
     "output_type": "execute_result"
    }
   ],
   "source": [
    "d1"
   ]
  },
  {
   "cell_type": "code",
   "execution_count": 6,
   "id": "804ed6ee-f646-4f9e-82c8-2d57deceae3c",
   "metadata": {},
   "outputs": [],
   "source": [
    "d2={'name':'yash','email':'y@gmail.com','number':8979}"
   ]
  },
  {
   "cell_type": "code",
   "execution_count": 7,
   "id": "f3fe33e4-7561-49df-a9b3-87189b402530",
   "metadata": {},
   "outputs": [
    {
     "data": {
      "text/plain": [
       "{'name': 'yash', 'email': 'y@gmail.com', 'number': 8979}"
      ]
     },
     "execution_count": 7,
     "metadata": {},
     "output_type": "execute_result"
    }
   ],
   "source": [
    "d2"
   ]
  },
  {
   "cell_type": "code",
   "execution_count": 9,
   "id": "f209c9cc-180a-4490-a49b-b03300e5cc78",
   "metadata": {},
   "outputs": [],
   "source": [
    "d3={234:'yash',\"_$yas\":'kuamr',True:False}"
   ]
  },
  {
   "cell_type": "code",
   "execution_count": 10,
   "id": "0051fccd-4610-46e8-908a-f088079d53ab",
   "metadata": {},
   "outputs": [
    {
     "data": {
      "text/plain": [
       "{234: 'yash', '_$yas': 'kuamr', True: False}"
      ]
     },
     "execution_count": 10,
     "metadata": {},
     "output_type": "execute_result"
    }
   ],
   "source": [
    "d3"
   ]
  },
  {
   "cell_type": "code",
   "execution_count": 11,
   "id": "fcfcd5ff-d0f7-44e7-962a-362f77ff45b4",
   "metadata": {},
   "outputs": [
    {
     "ename": "KeyError",
     "evalue": "0",
     "output_type": "error",
     "traceback": [
      "\u001b[0;31m---------------------------------------------------------------------------\u001b[0m",
      "\u001b[0;31mKeyError\u001b[0m                                  Traceback (most recent call last)",
      "Cell \u001b[0;32mIn[11], line 1\u001b[0m\n\u001b[0;32m----> 1\u001b[0m \u001b[43md3\u001b[49m\u001b[43m[\u001b[49m\u001b[38;5;241;43m0\u001b[39;49m\u001b[43m]\u001b[49m\n",
      "\u001b[0;31mKeyError\u001b[0m: 0"
     ]
    }
   ],
   "source": [
    "d3[0]"
   ]
  },
  {
   "cell_type": "code",
   "execution_count": 12,
   "id": "eea6bba3-f6e1-41df-bb36-6ac4a4e8648a",
   "metadata": {},
   "outputs": [
    {
     "data": {
      "text/plain": [
       "'yash'"
      ]
     },
     "execution_count": 12,
     "metadata": {},
     "output_type": "execute_result"
    }
   ],
   "source": [
    "d3[234]"
   ]
  },
  {
   "cell_type": "code",
   "execution_count": 13,
   "id": "fbcb9887-f0f5-4f30-be0f-75c894ea25ca",
   "metadata": {},
   "outputs": [
    {
     "data": {
      "text/plain": [
       "False"
      ]
     },
     "execution_count": 13,
     "metadata": {},
     "output_type": "execute_result"
    }
   ],
   "source": [
    "d3[True]"
   ]
  },
  {
   "cell_type": "code",
   "execution_count": 14,
   "id": "d3651a0f-e58f-48e4-8168-d40294e4f057",
   "metadata": {},
   "outputs": [
    {
     "ename": "KeyError",
     "evalue": "False",
     "output_type": "error",
     "traceback": [
      "\u001b[0;31m---------------------------------------------------------------------------\u001b[0m",
      "\u001b[0;31mKeyError\u001b[0m                                  Traceback (most recent call last)",
      "Cell \u001b[0;32mIn[14], line 1\u001b[0m\n\u001b[0;32m----> 1\u001b[0m \u001b[43md3\u001b[49m\u001b[43m[\u001b[49m\u001b[38;5;28;43;01mFalse\u001b[39;49;00m\u001b[43m]\u001b[49m\n",
      "\u001b[0;31mKeyError\u001b[0m: False"
     ]
    }
   ],
   "source": [
    "d3[False]"
   ]
  },
  {
   "cell_type": "code",
   "execution_count": 15,
   "id": "198e919b-5224-4731-9310-48525b42240b",
   "metadata": {},
   "outputs": [
    {
     "data": {
      "text/plain": [
       "False"
      ]
     },
     "execution_count": 15,
     "metadata": {},
     "output_type": "execute_result"
    }
   ],
   "source": [
    "d3[1]"
   ]
  },
  {
   "cell_type": "code",
   "execution_count": 16,
   "id": "9fdcee18-c3fc-45df-8ccb-a7446a2439e4",
   "metadata": {},
   "outputs": [
    {
     "data": {
      "text/plain": [
       "{'name': 'yash', 'email': 'y@gmail.com', 'number': 8979}"
      ]
     },
     "execution_count": 16,
     "metadata": {},
     "output_type": "execute_result"
    }
   ],
   "source": [
    "d2"
   ]
  },
  {
   "cell_type": "code",
   "execution_count": 20,
   "id": "3cafba11-3c36-45bd-bce0-0890912fe19d",
   "metadata": {},
   "outputs": [],
   "source": [
    "d4={'name': 'yash', 'email': 'y@gmail.com', 'number': 8979,'name':'nagpal'}\n"
   ]
  },
  {
   "cell_type": "code",
   "execution_count": 21,
   "id": "3f2f8e95-1cbb-42df-a76a-fedc08054caa",
   "metadata": {},
   "outputs": [
    {
     "data": {
      "text/plain": [
       "'nagpal'"
      ]
     },
     "execution_count": 21,
     "metadata": {},
     "output_type": "execute_result"
    }
   ],
   "source": [
    "d4['name']"
   ]
  },
  {
   "cell_type": "code",
   "execution_count": 23,
   "id": "337ba69c-525d-4d1f-8e5c-3c78c5b64378",
   "metadata": {},
   "outputs": [],
   "source": [
    "d5={'company':'pwskills',\"courses\":['web dev','java with dsa','data science']}"
   ]
  },
  {
   "cell_type": "code",
   "execution_count": 24,
   "id": "f7b6d87d-1f93-45f8-a1a8-08e44780c903",
   "metadata": {},
   "outputs": [
    {
     "data": {
      "text/plain": [
       "{'company': 'pwskills',\n",
       " 'courses': ['web dev', 'java with dsa', 'data science']}"
      ]
     },
     "execution_count": 24,
     "metadata": {},
     "output_type": "execute_result"
    }
   ],
   "source": [
    "d5"
   ]
  },
  {
   "cell_type": "code",
   "execution_count": 25,
   "id": "516c2b48-243b-4a5d-bc55-029640f18383",
   "metadata": {},
   "outputs": [
    {
     "data": {
      "text/plain": [
       "['web dev', 'java with dsa', 'data science']"
      ]
     },
     "execution_count": 25,
     "metadata": {},
     "output_type": "execute_result"
    }
   ],
   "source": [
    "d5['courses']"
   ]
  },
  {
   "cell_type": "code",
   "execution_count": 27,
   "id": "f1d44f96-10b0-4609-96b6-556f5e0a59db",
   "metadata": {},
   "outputs": [
    {
     "data": {
      "text/plain": [
       "'java with dsa'"
      ]
     },
     "execution_count": 27,
     "metadata": {},
     "output_type": "execute_result"
    }
   ],
   "source": [
    "d5['courses'][1]"
   ]
  },
  {
   "cell_type": "code",
   "execution_count": 30,
   "id": "7639c02f-43c0-4183-b292-794c703e9bf0",
   "metadata": {},
   "outputs": [],
   "source": [
    "d6={'number':[2,32,3,34,34],'assignment':(1,2,3,4,5,6),'launch date':(28,12,14),'class time':{'web dev':8,'data science':8,\"java with dsa\":7}}"
   ]
  },
  {
   "cell_type": "code",
   "execution_count": 31,
   "id": "f11a4473-7fa2-4243-bfaa-39bd545f678e",
   "metadata": {},
   "outputs": [
    {
     "data": {
      "text/plain": [
       "{'number': [2, 32, 3, 34, 34],\n",
       " 'assignment': (1, 2, 3, 4, 5, 6),\n",
       " 'launch date': (28, 12, 14),\n",
       " 'class time': {'web dev': 8, 'data science': 8, 'java with dsa': 7}}"
      ]
     },
     "execution_count": 31,
     "metadata": {},
     "output_type": "execute_result"
    }
   ],
   "source": [
    "d6"
   ]
  },
  {
   "cell_type": "code",
   "execution_count": 32,
   "id": "e5c44418-2699-4ebe-9082-77207d0a4a91",
   "metadata": {},
   "outputs": [
    {
     "data": {
      "text/plain": [
       "7"
      ]
     },
     "execution_count": 32,
     "metadata": {},
     "output_type": "execute_result"
    }
   ],
   "source": [
    "d6['class time']['java with dsa']"
   ]
  },
  {
   "cell_type": "code",
   "execution_count": 33,
   "id": "82504383-6b90-43eb-b408-e5a728daba03",
   "metadata": {},
   "outputs": [],
   "source": [
    "d6['mentor']=['yash','kush','piyush']"
   ]
  },
  {
   "cell_type": "code",
   "execution_count": 34,
   "id": "f459adc9-4cb7-4814-adb1-b555ce4c8d81",
   "metadata": {},
   "outputs": [
    {
     "data": {
      "text/plain": [
       "{'number': [2, 32, 3, 34, 34],\n",
       " 'assignment': (1, 2, 3, 4, 5, 6),\n",
       " 'launch date': (28, 12, 14),\n",
       " 'class time': {'web dev': 8, 'data science': 8, 'java with dsa': 7},\n",
       " 'mentor': ['yash', 'kush', 'piyush']}"
      ]
     },
     "execution_count": 34,
     "metadata": {},
     "output_type": "execute_result"
    }
   ],
   "source": [
    "d6"
   ]
  },
  {
   "cell_type": "code",
   "execution_count": 35,
   "id": "7f90d864-7243-479f-87ca-21fe4a826d9f",
   "metadata": {},
   "outputs": [],
   "source": [
    "del d6['number']"
   ]
  },
  {
   "cell_type": "code",
   "execution_count": 36,
   "id": "6e70604f-1e0f-43f9-96c0-e5413b6162e4",
   "metadata": {},
   "outputs": [
    {
     "data": {
      "text/plain": [
       "{'assignment': (1, 2, 3, 4, 5, 6),\n",
       " 'launch date': (28, 12, 14),\n",
       " 'class time': {'web dev': 8, 'data science': 8, 'java with dsa': 7},\n",
       " 'mentor': ['yash', 'kush', 'piyush']}"
      ]
     },
     "execution_count": 36,
     "metadata": {},
     "output_type": "execute_result"
    }
   ],
   "source": [
    "d6"
   ]
  },
  {
   "cell_type": "code",
   "execution_count": 38,
   "id": "1cfedcd2-4d66-4209-a8c1-3ec8c11bd51e",
   "metadata": {},
   "outputs": [
    {
     "data": {
      "text/plain": [
       "['assignment', 'launch date', 'class time', 'mentor']"
      ]
     },
     "execution_count": 38,
     "metadata": {},
     "output_type": "execute_result"
    }
   ],
   "source": [
    "list(d6.keys())"
   ]
  },
  {
   "cell_type": "code",
   "execution_count": 42,
   "id": "63884dbf-de41-4225-8ff9-e9cebf7a712d",
   "metadata": {},
   "outputs": [
    {
     "data": {
      "text/plain": [
       "[(1, 2, 3, 4, 5, 6),\n",
       " (28, 12, 14),\n",
       " {'web dev': 8, 'data science': 8, 'java with dsa': 7},\n",
       " ['yash', 'kush', 'piyush']]"
      ]
     },
     "execution_count": 42,
     "metadata": {},
     "output_type": "execute_result"
    }
   ],
   "source": [
    "list(d6.values())"
   ]
  },
  {
   "cell_type": "code",
   "execution_count": 43,
   "id": "5a40a93f-2ab6-4d54-89c6-f899f0745706",
   "metadata": {},
   "outputs": [
    {
     "data": {
      "text/plain": [
       "[('assignment', (1, 2, 3, 4, 5, 6)),\n",
       " ('launch date', (28, 12, 14)),\n",
       " ('class time', {'web dev': 8, 'data science': 8, 'java with dsa': 7}),\n",
       " ('mentor', ['yash', 'kush', 'piyush'])]"
      ]
     },
     "execution_count": 43,
     "metadata": {},
     "output_type": "execute_result"
    }
   ],
   "source": [
    "list(d6.items())"
   ]
  },
  {
   "cell_type": "code",
   "execution_count": 44,
   "id": "ffd604e8-5784-4d94-bba3-ac00ce0518ff",
   "metadata": {},
   "outputs": [],
   "source": [
    "d6.update()"
   ]
  },
  {
   "cell_type": "code",
   "execution_count": 45,
   "id": "44686ae5-cb49-4d21-87ff-259bba868a19",
   "metadata": {},
   "outputs": [
    {
     "data": {
      "text/plain": [
       "{'assignment': (1, 2, 3, 4, 5, 6),\n",
       " 'launch date': (28, 12, 14),\n",
       " 'class time': {'web dev': 8, 'data science': 8, 'java with dsa': 7},\n",
       " 'mentor': ['yash', 'kush', 'piyush']}"
      ]
     },
     "execution_count": 45,
     "metadata": {},
     "output_type": "execute_result"
    }
   ],
   "source": [
    "d6"
   ]
  },
  {
   "cell_type": "code",
   "execution_count": 46,
   "id": "0d6b27d3-793d-423a-8417-079707e2b6f0",
   "metadata": {},
   "outputs": [
    {
     "data": {
      "text/plain": [
       "{'web dev': 8, 'data science': 8, 'java with dsa': 7}"
      ]
     },
     "execution_count": 46,
     "metadata": {},
     "output_type": "execute_result"
    }
   ],
   "source": [
    "d6.pop('class time')"
   ]
  },
  {
   "cell_type": "code",
   "execution_count": 47,
   "id": "2552f257-a4de-4e0f-a924-6499665259e0",
   "metadata": {},
   "outputs": [
    {
     "data": {
      "text/plain": [
       "{'assignment': (1, 2, 3, 4, 5, 6),\n",
       " 'launch date': (28, 12, 14),\n",
       " 'mentor': ['yash', 'kush', 'piyush']}"
      ]
     },
     "execution_count": 47,
     "metadata": {},
     "output_type": "execute_result"
    }
   ],
   "source": [
    "d6"
   ]
  },
  {
   "cell_type": "code",
   "execution_count": 48,
   "id": "b3ffd839-60e9-446b-8fd6-9cb7f26bc31c",
   "metadata": {},
   "outputs": [],
   "source": [
    "#loops"
   ]
  },
  {
   "cell_type": "code",
   "execution_count": 9,
   "id": "be0c7c4b-5c3a-4c87-a15b-2d2e19dc6fb5",
   "metadata": {},
   "outputs": [
    {
     "name": "stdin",
     "output_type": "stream",
     "text": [
      "Enter your marks 80\n"
     ]
    },
    {
     "name": "stdout",
     "output_type": "stream",
     "text": [
      "you will be part of A0 batch\n"
     ]
    }
   ],
   "source": [
    "marks=int(input(\"Enter your marks\"))\n",
    "if marks >=80:\n",
    "    print(\"you will be part of A0 batch\")\n",
    "elif marks >=60 and marks <80:\n",
    "    print(\"you will be the part of a1 batch\")\n",
    "elif marks>=40 and marks <60:\n",
    "    print(\"you will bw the part of a2 batch\")\n",
    "else:\n",
    "    print(\"you will be the part of a3 batch\")\n",
    "        "
   ]
  },
  {
   "cell_type": "code",
   "execution_count": 14,
   "id": "1bf72128-6059-4814-be1b-27e1db068843",
   "metadata": {},
   "outputs": [
    {
     "name": "stdin",
     "output_type": "stream",
     "text": [
      "Enter the price 9000\n"
     ]
    },
    {
     "name": "stdout",
     "output_type": "stream",
     "text": [
      "i will not buy it\n",
      "its too expensive\n"
     ]
    }
   ],
   "source": [
    "price=int(input(\"Enter the price\"))\n",
    "if price>=1000:\n",
    "    print(\"i will not buy it\")\n",
    "    if price >5000:\n",
    "        print(\"its too expensive\")\n"
   ]
  },
  {
   "cell_type": "code",
   "execution_count": 15,
   "id": "1e3130e9-763f-4c8a-9025-8976b075d378",
   "metadata": {},
   "outputs": [],
   "source": [
    "l=[1,2,3,4,5,6,7,8]"
   ]
  },
  {
   "cell_type": "code",
   "execution_count": 32,
   "id": "3ee56438-f53b-4a13-a2a1-e9183bde859b",
   "metadata": {},
   "outputs": [
    {
     "data": {
      "text/plain": [
       "[2, 3, 4, 5, 6, 7, 8, 9]"
      ]
     },
     "execution_count": 32,
     "metadata": {},
     "output_type": "execute_result"
    }
   ],
   "source": [
    "#add 1 in l\n",
    "l1=[]\n",
    "for i in l:\n",
    "    l1.append(i+1)\n",
    "l1"
   ]
  },
  {
   "cell_type": "code",
   "execution_count": 33,
   "id": "21d4132a-5a0c-46d7-ac9c-6510944b76b4",
   "metadata": {},
   "outputs": [],
   "source": [
    "l=[\"sudh\",\"kuamr\",\"pwskills\",\"course\"]"
   ]
  },
  {
   "cell_type": "code",
   "execution_count": 41,
   "id": "b7f198cd-c1ec-477e-90ef-a4df054789dd",
   "metadata": {},
   "outputs": [
    {
     "data": {
      "text/plain": [
       "['SUDH', 'KUAMR', 'PWSKILLS', 'COURSE']"
      ]
     },
     "execution_count": 41,
     "metadata": {},
     "output_type": "execute_result"
    }
   ],
   "source": [
    "#convert l in upper case\n",
    "l1=[]\n",
    "for i in l:\n",
    "    i=i.upper()\n",
    "    l1.append(i)\n",
    "l1"
   ]
  },
  {
   "cell_type": "code",
   "execution_count": 42,
   "id": "bf654154-f8b1-4fe7-98a6-c4885309dd4f",
   "metadata": {},
   "outputs": [],
   "source": [
    "l=[1,2,3,4,4,'sudh','kumar',324,34.566,'yash']"
   ]
  },
  {
   "cell_type": "code",
   "execution_count": 55,
   "id": "90792a2a-7f14-4d3b-b249-66d610ec03d5",
   "metadata": {},
   "outputs": [],
   "source": [
    "l1=[]\n",
    "l2=[]\n",
    "for i in l:\n",
    "    if type(i)==int or type(i)==float:\n",
    "        l1.append(i)\n",
    "    else:\n",
    "        l2.append(i)"
   ]
  },
  {
   "cell_type": "code",
   "execution_count": 56,
   "id": "04f0e01f-eb3a-499b-a8a2-0a6e22cdb5c0",
   "metadata": {},
   "outputs": [
    {
     "data": {
      "text/plain": [
       "[1, 2, 3, 4, 4, 324, 34.566]"
      ]
     },
     "execution_count": 56,
     "metadata": {},
     "output_type": "execute_result"
    }
   ],
   "source": [
    "l1"
   ]
  },
  {
   "cell_type": "code",
   "execution_count": 57,
   "id": "122584c4-69fd-44e0-a605-274f078823a0",
   "metadata": {},
   "outputs": [
    {
     "data": {
      "text/plain": [
       "['sudh', 'kumar', 'yash']"
      ]
     },
     "execution_count": 57,
     "metadata": {},
     "output_type": "execute_result"
    }
   ],
   "source": [
    "l2"
   ]
  },
  {
   "cell_type": "code",
   "execution_count": null,
   "id": "c3a07078-0af1-4d59-8501-f84a99444f90",
   "metadata": {},
   "outputs": [],
   "source": []
  }
 ],
 "metadata": {
  "kernelspec": {
   "display_name": "Python 3 (ipykernel)",
   "language": "python",
   "name": "python3"
  },
  "language_info": {
   "codemirror_mode": {
    "name": "ipython",
    "version": 3
   },
   "file_extension": ".py",
   "mimetype": "text/x-python",
   "name": "python",
   "nbconvert_exporter": "python",
   "pygments_lexer": "ipython3",
   "version": "3.10.8"
  }
 },
 "nbformat": 4,
 "nbformat_minor": 5
}
